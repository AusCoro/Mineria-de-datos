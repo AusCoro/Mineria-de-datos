{
 "cells": [
  {
   "cell_type": "code",
   "execution_count": 13,
   "id": "55df4248",
   "metadata": {},
   "outputs": [],
   "source": [
    "import networkx as nx  # es necesario que instales la versión 1.11\n",
    "import numpy as np\n",
    "import pandas as pd\n",
    "import matplotlib.pyplot as plt\n",
    "import seaborn as sns\n",
    "from networkx.classes.function import common_neighbors\n",
    "from sklearn.model_selection import train_test_split, cross_val_score, KFold\n",
    "from sklearn.metrics import roc_auc_score\n",
    "from sklearn.linear_model import LogisticRegression\n",
    "from sklearn import datasets, metrics\n"
   ]
  },
  {
   "cell_type": "markdown",
   "id": "9dd7276f",
   "metadata": {},
   "source": [
    "# Primera parte\n",
    "\n",
    "En la primera parte de esta tarea trabajarás con la red que se forma a partir de las comunicaciones por correo electrónico en una compañía. Cada nodo corresponde a una persona y cada enlace indica que por lo menos se ha enviado un correo entre las personas.\n",
    "\n",
    "La red también contiene los atributos `Department` y `ManagementSalary`. El atributo `Department` registra el departamento al cual pertenece cada persona y `ManagementSalary` indica si recibe un salario asociado con una posición directiva.\n"
   ]
  },
  {
   "cell_type": "code",
   "execution_count": 14,
   "id": "eeab1726",
   "metadata": {},
   "outputs": [
    {
     "data": {
      "text/plain": [
       "1005"
      ]
     },
     "execution_count": 14,
     "metadata": {},
     "output_type": "execute_result"
    }
   ],
   "source": [
    "G = nx.read_gpickle('email_prediction.txt')\n",
    "len(G.nodes())\n"
   ]
  },
  {
   "cell_type": "code",
   "execution_count": 15,
   "id": "6c4520df",
   "metadata": {},
   "outputs": [
    {
     "data": {
      "text/plain": [
       "[(0, {'Department': 1, 'ManagementSalary': 0.0}),\n",
       " (1, {'Department': 1, 'ManagementSalary': nan}),\n",
       " (2, {'Department': 21, 'ManagementSalary': nan}),\n",
       " (3, {'Department': 21, 'ManagementSalary': 1.0}),\n",
       " (4, {'Department': 21, 'ManagementSalary': 1.0}),\n",
       " (5, {'Department': 25, 'ManagementSalary': nan}),\n",
       " (6, {'Department': 25, 'ManagementSalary': 1.0}),\n",
       " (7, {'Department': 14, 'ManagementSalary': 0.0}),\n",
       " (8, {'Department': 14, 'ManagementSalary': nan}),\n",
       " (9, {'Department': 14, 'ManagementSalary': 0.0})]"
      ]
     },
     "execution_count": 15,
     "metadata": {},
     "output_type": "execute_result"
    }
   ],
   "source": [
    "G.nodes(data=True)[0:10]\n"
   ]
  },
  {
   "cell_type": "markdown",
   "id": "359947f6",
   "metadata": {},
   "source": [
    "## Instrucciones [primera parte]\n",
    "\n",
    "El objetivo de esta primera práctica es que construyas un modelo que prediga el valor de la variable `ManagementSalary`.\n",
    "\n",
    "1. Ignora los casos en los que no se tiene registrada la etiqueta.\n",
    "2. Separa el conjunto de datos en subconjuntos de entrenamiento y prueba.\n",
    "3. Ajusta un modelo a los datos usando alguna técnica de aprendizaje adecuada. Puedes utilizar como predictores métricas que caractericen a los nodos (de centralidad, distancia, conexión, ...).\n",
    "4. Evalúa la calidad del modelo sobre el conjunto de prueba usando el área bajo la curva (tu modelo debe tener por lo menos un AUC de $0.82$ evaluada sobre el conjunto de prueba).\n"
   ]
  },
  {
   "cell_type": "markdown",
   "id": "dfc144d3",
   "metadata": {},
   "source": [
    "### Eliminamos los casos en los que no se tinee registrada la etiqueta\n"
   ]
  },
  {
   "cell_type": "code",
   "execution_count": 16,
   "id": "5fc58c75",
   "metadata": {},
   "outputs": [],
   "source": [
    "nodes_to_remove = [n for n in G.nodes() if pd.isnull(\n",
    "    G.node[n]['ManagementSalary'])]\n",
    "G.remove_nodes_from(nodes_to_remove)\n"
   ]
  },
  {
   "cell_type": "code",
   "execution_count": 17,
   "id": "5111b677",
   "metadata": {},
   "outputs": [
    {
     "data": {
      "text/plain": [
       "[(0, {'Department': 1, 'ManagementSalary': 0.0}),\n",
       " (3, {'Department': 21, 'ManagementSalary': 1.0}),\n",
       " (4, {'Department': 21, 'ManagementSalary': 1.0}),\n",
       " (6, {'Department': 25, 'ManagementSalary': 1.0}),\n",
       " (7, {'Department': 14, 'ManagementSalary': 0.0}),\n",
       " (9, {'Department': 14, 'ManagementSalary': 0.0}),\n",
       " (10, {'Department': 9, 'ManagementSalary': 0.0}),\n",
       " (11, {'Department': 14, 'ManagementSalary': 0.0}),\n",
       " (12, {'Department': 14, 'ManagementSalary': 1.0}),\n",
       " (13, {'Department': 26, 'ManagementSalary': 1.0})]"
      ]
     },
     "execution_count": 17,
     "metadata": {},
     "output_type": "execute_result"
    }
   ],
   "source": [
    "G.nodes(data=True)[0:10]\n"
   ]
  },
  {
   "cell_type": "markdown",
   "id": "16256ba2",
   "metadata": {},
   "source": [
    "### Ajusta un modelo a los datos usando alguna técnica de aprendizaje adecuada. Puedes utilizar como predictores métricas que caractericen a los nodos (de centralidad, distancia, conexión, ...).\n"
   ]
  },
  {
   "cell_type": "code",
   "execution_count": 18,
   "id": "2c10b500",
   "metadata": {},
   "outputs": [],
   "source": [
    "df = pd.DataFrame(index=G.nodes())\n",
    "df['Department'] = pd.Series(nx.get_node_attributes(G, 'Department'))\n",
    "df['ManagementSalary'] = pd.Series(\n",
    "    nx.get_node_attributes(G, 'ManagementSalary'))\n",
    "\n",
    "# Métricas de centralidad\n",
    "df['degree centrality'] = pd.Series(nx.degree_centrality(G))\n",
    "df['closeness'] = pd.Series(nx.closeness_centrality(G, normalized=True))\n",
    "df['betweenness'] = pd.Series(nx.betweenness_centrality(G, normalized=True))\n",
    "\n",
    "# metricas de distancia\n",
    "df['degree'] = pd.Series(nx.degree(G))\n",
    "\n",
    "# metrica de conexion\n",
    "df['clustering'] = pd.Series(nx.clustering(G))\n"
   ]
  },
  {
   "cell_type": "code",
   "execution_count": 19,
   "id": "5d34114a",
   "metadata": {},
   "outputs": [
    {
     "data": {
      "text/html": [
       "<div>\n",
       "<style scoped>\n",
       "    .dataframe tbody tr th:only-of-type {\n",
       "        vertical-align: middle;\n",
       "    }\n",
       "\n",
       "    .dataframe tbody tr th {\n",
       "        vertical-align: top;\n",
       "    }\n",
       "\n",
       "    .dataframe thead th {\n",
       "        text-align: right;\n",
       "    }\n",
       "</style>\n",
       "<table border=\"1\" class=\"dataframe\">\n",
       "  <thead>\n",
       "    <tr style=\"text-align: right;\">\n",
       "      <th></th>\n",
       "      <th>Department</th>\n",
       "      <th>ManagementSalary</th>\n",
       "      <th>degree centrality</th>\n",
       "      <th>closeness</th>\n",
       "      <th>betweenness</th>\n",
       "      <th>degree</th>\n",
       "      <th>clustering</th>\n",
       "    </tr>\n",
       "  </thead>\n",
       "  <tbody>\n",
       "    <tr>\n",
       "      <th>0</th>\n",
       "      <td>1</td>\n",
       "      <td>0.0</td>\n",
       "      <td>0.043883</td>\n",
       "      <td>0.396767</td>\n",
       "      <td>0.001392</td>\n",
       "      <td>33</td>\n",
       "      <td>0.290323</td>\n",
       "    </tr>\n",
       "    <tr>\n",
       "      <th>3</th>\n",
       "      <td>21</td>\n",
       "      <td>1.0</td>\n",
       "      <td>0.066489</td>\n",
       "      <td>0.423038</td>\n",
       "      <td>0.001491</td>\n",
       "      <td>50</td>\n",
       "      <td>0.414007</td>\n",
       "    </tr>\n",
       "    <tr>\n",
       "      <th>4</th>\n",
       "      <td>21</td>\n",
       "      <td>1.0</td>\n",
       "      <td>0.095745</td>\n",
       "      <td>0.447401</td>\n",
       "      <td>0.008065</td>\n",
       "      <td>72</td>\n",
       "      <td>0.316770</td>\n",
       "    </tr>\n",
       "    <tr>\n",
       "      <th>6</th>\n",
       "      <td>25</td>\n",
       "      <td>1.0</td>\n",
       "      <td>0.115691</td>\n",
       "      <td>0.454843</td>\n",
       "      <td>0.011524</td>\n",
       "      <td>87</td>\n",
       "      <td>0.148739</td>\n",
       "    </tr>\n",
       "    <tr>\n",
       "      <th>7</th>\n",
       "      <td>14</td>\n",
       "      <td>0.0</td>\n",
       "      <td>0.070479</td>\n",
       "      <td>0.390868</td>\n",
       "      <td>0.002790</td>\n",
       "      <td>53</td>\n",
       "      <td>0.283137</td>\n",
       "    </tr>\n",
       "  </tbody>\n",
       "</table>\n",
       "</div>"
      ],
      "text/plain": [
       "   Department  ManagementSalary  degree centrality  closeness  betweenness  \\\n",
       "0           1               0.0           0.043883   0.396767     0.001392   \n",
       "3          21               1.0           0.066489   0.423038     0.001491   \n",
       "4          21               1.0           0.095745   0.447401     0.008065   \n",
       "6          25               1.0           0.115691   0.454843     0.011524   \n",
       "7          14               0.0           0.070479   0.390868     0.002790   \n",
       "\n",
       "   degree  clustering  \n",
       "0      33    0.290323  \n",
       "3      50    0.414007  \n",
       "4      72    0.316770  \n",
       "6      87    0.148739  \n",
       "7      53    0.283137  "
      ]
     },
     "execution_count": 19,
     "metadata": {},
     "output_type": "execute_result"
    }
   ],
   "source": [
    "df.head()\n"
   ]
  },
  {
   "cell_type": "code",
   "execution_count": 20,
   "id": "48ebd512",
   "metadata": {},
   "outputs": [
    {
     "data": {
      "text/plain": [
       "753"
      ]
     },
     "execution_count": 20,
     "metadata": {},
     "output_type": "execute_result"
    }
   ],
   "source": [
    "len(df)\n"
   ]
  },
  {
   "cell_type": "markdown",
   "id": "23e33079",
   "metadata": {},
   "source": [
    "### Separa el conjunto de datos en subconjuntos de entrenamiento y prueba.\n"
   ]
  },
  {
   "cell_type": "code",
   "execution_count": 21,
   "id": "87a257df",
   "metadata": {},
   "outputs": [],
   "source": [
    "X_train, X_test, y_train, y_test = train_test_split(df.drop(\n",
    "    'ManagementSalary', axis=1), df['ManagementSalary'], test_size=0.2, random_state=42)\n"
   ]
  },
  {
   "cell_type": "markdown",
   "id": "981e5f70",
   "metadata": {},
   "source": [
    "### Evalúa la calidad del modelo sobre el conjunto de prueba usando el área bajo la curva (tu modelo debe tener por lo menos un AUC de $0.82$ evaluada sobre el conjunto de prueba).\n"
   ]
  },
  {
   "cell_type": "code",
   "execution_count": 22,
   "id": "2f1bc60e",
   "metadata": {},
   "outputs": [
    {
     "data": {
      "text/plain": [
       "LogisticRegression(C=1.0, class_weight=None, dual=False, fit_intercept=True,\n",
       "                   intercept_scaling=1, l1_ratio=None, max_iter=100,\n",
       "                   multi_class='auto', n_jobs=None, penalty='l2',\n",
       "                   random_state=None, solver='lbfgs', tol=0.0001, verbose=0,\n",
       "                   warm_start=False)"
      ]
     },
     "execution_count": 22,
     "metadata": {},
     "output_type": "execute_result"
    }
   ],
   "source": [
    "lr = LogisticRegression()\n",
    "lr.fit(X_train, y_train)\n"
   ]
  },
  {
   "cell_type": "code",
   "execution_count": 23,
   "id": "5f30536e",
   "metadata": {},
   "outputs": [
    {
     "name": "stdout",
     "output_type": "stream",
     "text": [
      "AUC: 0.891\n"
     ]
    }
   ],
   "source": [
    "y_pred_proba = lr.predict_proba(X_test)[:, 1]\n",
    "auc = roc_auc_score(y_test, y_pred_proba)\n",
    "print('AUC: %.3f' % auc)\n"
   ]
  },
  {
   "cell_type": "markdown",
   "id": "3ebcd7c5",
   "metadata": {},
   "source": [
    "# Segunda parte\n",
    "\n",
    "En la última parte de esta práctica vas a predecir las futuras conexiones enyte los empleados de la red. La información de la formación de tales conexiones se encuentra en el archivo `future_connections`, cuyo índice es una dupla de nodos que no están conectados actualmente. La columna `Future Connection` indica si en el futuro se establecerá una arista entre ambos nodos (el valor de 1.0 indica una futura conexión).\n"
   ]
  },
  {
   "cell_type": "code",
   "execution_count": 24,
   "id": "d16fdc4f",
   "metadata": {},
   "outputs": [
    {
     "data": {
      "text/html": [
       "<div>\n",
       "<style scoped>\n",
       "    .dataframe tbody tr th:only-of-type {\n",
       "        vertical-align: middle;\n",
       "    }\n",
       "\n",
       "    .dataframe tbody tr th {\n",
       "        vertical-align: top;\n",
       "    }\n",
       "\n",
       "    .dataframe thead th {\n",
       "        text-align: right;\n",
       "    }\n",
       "</style>\n",
       "<table border=\"1\" class=\"dataframe\">\n",
       "  <thead>\n",
       "    <tr style=\"text-align: right;\">\n",
       "      <th></th>\n",
       "      <th>Future Connection</th>\n",
       "    </tr>\n",
       "  </thead>\n",
       "  <tbody>\n",
       "    <tr>\n",
       "      <th>(6, 840)</th>\n",
       "      <td>0.0</td>\n",
       "    </tr>\n",
       "    <tr>\n",
       "      <th>(4, 197)</th>\n",
       "      <td>0.0</td>\n",
       "    </tr>\n",
       "    <tr>\n",
       "      <th>(620, 979)</th>\n",
       "      <td>0.0</td>\n",
       "    </tr>\n",
       "    <tr>\n",
       "      <th>(519, 872)</th>\n",
       "      <td>0.0</td>\n",
       "    </tr>\n",
       "    <tr>\n",
       "      <th>(382, 423)</th>\n",
       "      <td>0.0</td>\n",
       "    </tr>\n",
       "    <tr>\n",
       "      <th>(97, 226)</th>\n",
       "      <td>1.0</td>\n",
       "    </tr>\n",
       "    <tr>\n",
       "      <th>(349, 905)</th>\n",
       "      <td>0.0</td>\n",
       "    </tr>\n",
       "    <tr>\n",
       "      <th>(429, 860)</th>\n",
       "      <td>0.0</td>\n",
       "    </tr>\n",
       "    <tr>\n",
       "      <th>(309, 989)</th>\n",
       "      <td>0.0</td>\n",
       "    </tr>\n",
       "    <tr>\n",
       "      <th>(468, 880)</th>\n",
       "      <td>0.0</td>\n",
       "    </tr>\n",
       "  </tbody>\n",
       "</table>\n",
       "</div>"
      ],
      "text/plain": [
       "            Future Connection\n",
       "(6, 840)                  0.0\n",
       "(4, 197)                  0.0\n",
       "(620, 979)                0.0\n",
       "(519, 872)                0.0\n",
       "(382, 423)                0.0\n",
       "(97, 226)                 1.0\n",
       "(349, 905)                0.0\n",
       "(429, 860)                0.0\n",
       "(309, 989)                0.0\n",
       "(468, 880)                0.0"
      ]
     },
     "execution_count": 24,
     "metadata": {},
     "output_type": "execute_result"
    }
   ],
   "source": [
    "df = pd.read_csv('Future_Connections.csv', index_col=0, converters={0: eval})\n",
    "df.head(10)\n"
   ]
  },
  {
   "cell_type": "markdown",
   "id": "9028d1be",
   "metadata": {},
   "source": [
    "## Instrucciones [segunda parte]\n",
    "\n",
    "Utiliza la reg `G` (de la primera parte) y `future_connections` para que construyas un modelo que identifique cuáles parejas de nodos en `future_connections` estarán conectados en el futuro.\n",
    "\n",
    "Para lograrlo, deberás crear una matriz con métricas que caractericen a las aristas de `future_connections` utilizando networkx.\n",
    "\n",
    "1. Elimina los casos en que la variable de respuesta no se encuentre registrada.\n",
    "2. Evalúa las características de las parejas de nodos del archivo `future_connections`.\n",
    "3. Separa los datos en subconjuntos de entrenamiento y prueba.\n",
    "4. Ajusta un modelo adecuado para predecir la formación de enlaces.\n",
    "5. Evalúa la calidad del modelo sobre el conjunto de prueba usando el área bajo la curva (tu modelo debe tener por lo menos un AUC de $0.82$ evaluada sobre el conjunto de prueba).\n"
   ]
  },
  {
   "cell_type": "markdown",
   "id": "b8fa74c3",
   "metadata": {},
   "source": [
    "### Elimina los casos en que la variable de respuesta no se encuentre registrada.\n"
   ]
  },
  {
   "cell_type": "code",
   "execution_count": 25,
   "id": "4d60b8f9",
   "metadata": {},
   "outputs": [],
   "source": [
    "df = df.dropna(subset=['Future Connection'])\n"
   ]
  },
  {
   "cell_type": "code",
   "execution_count": 26,
   "id": "6e163ac4",
   "metadata": {},
   "outputs": [],
   "source": [
    "deg_values = list(nx.degree_centrality(G).values())\n",
    "min_deg = min(deg_values)\n",
    "max_deg = max(deg_values)\n",
    "\n",
    "clus_values = list(nx.clustering(G).values())\n",
    "min_clus = min(clus_values)\n",
    "max_clus = max(clus_values)\n",
    "\n",
    "bet_values = list(nx.betweenness_centrality(G).values())\n",
    "min_bet = min(bet_values)\n",
    "max_bet = max(bet_values)\n",
    "max_clos = max(nx.closeness_centrality(G).values())\n",
    "min_clos = min(nx.closeness_centrality(G).values())\n"
   ]
  },
  {
   "cell_type": "code",
   "execution_count": 28,
   "id": "12978924",
   "metadata": {},
   "outputs": [],
   "source": [
    "# añadimos las características a las aristas\n",
    "for node in G.nodes():\n",
    "    G.node[node]['degree'] = G.degree(node)\n",
    "    G.node[node]['clustering'] = nx.clustering(G, node)\n",
    "    G.node[node]['betweenness'] = nx.betweenness_centrality(G)[node]\n",
    "    G.node[node]['closeness'] = nx.closeness_centrality(G, node)\n",
    "\n",
    "    # normalizamos las características entre 0 y 1\n",
    "    deg = G.node[node]['degree']\n",
    "    clus = G.node[node]['clustering']\n",
    "    bet = G.node[node]['betweenness']\n",
    "    clos = G.node[node]['closeness']\n",
    "\n",
    "    G.node[node]['degree_norm'] = (deg - min_deg) / (max_deg - min_deg)\n",
    "    G.node[node]['clustering_norm'] = (clus - min_clus) / (max_clus - min_clus)\n",
    "    G.node[node]['betweenness_norm'] = (bet - min_bet) / (max_bet - min_bet)\n",
    "    G.node[node]['closeness_norm'] = (clos - min_clos) / (max_clos - min_clos)\n"
   ]
  },
  {
   "cell_type": "code",
   "execution_count": 29,
   "id": "75c110c3",
   "metadata": {},
   "outputs": [
    {
     "ename": "KeyError",
     "evalue": "382",
     "output_type": "error",
     "traceback": [
      "\u001b[1;31m---------------------------------------------------------------------------\u001b[0m",
      "\u001b[1;31mKeyError\u001b[0m                                  Traceback (most recent call last)",
      "\u001b[1;32m<ipython-input-29-b59313094df4>\u001b[0m in \u001b[0;36m<module>\u001b[1;34m()\u001b[0m\n\u001b[0;32m      2\u001b[0m \u001b[0mfeatures\u001b[0m \u001b[1;33m=\u001b[0m \u001b[0mnp\u001b[0m\u001b[1;33m.\u001b[0m\u001b[0mzeros\u001b[0m\u001b[1;33m(\u001b[0m\u001b[1;33m(\u001b[0m\u001b[0mlen\u001b[0m\u001b[1;33m(\u001b[0m\u001b[0mdf\u001b[0m\u001b[1;33m)\u001b[0m\u001b[1;33m,\u001b[0m \u001b[1;36m8\u001b[0m\u001b[1;33m)\u001b[0m\u001b[1;33m)\u001b[0m\u001b[1;33m\u001b[0m\u001b[0m\n\u001b[0;32m      3\u001b[0m \u001b[1;32mfor\u001b[0m \u001b[0mi\u001b[0m\u001b[1;33m,\u001b[0m \u001b[1;33m(\u001b[0m\u001b[0mn1\u001b[0m\u001b[1;33m,\u001b[0m \u001b[0mn2\u001b[0m\u001b[1;33m)\u001b[0m \u001b[1;32min\u001b[0m \u001b[0menumerate\u001b[0m\u001b[1;33m(\u001b[0m\u001b[0mdf\u001b[0m\u001b[1;33m.\u001b[0m\u001b[0mindex\u001b[0m\u001b[1;33m)\u001b[0m\u001b[1;33m:\u001b[0m\u001b[1;33m\u001b[0m\u001b[0m\n\u001b[1;32m----> 4\u001b[1;33m     \u001b[0mfeatures\u001b[0m\u001b[1;33m[\u001b[0m\u001b[0mi\u001b[0m\u001b[1;33m,\u001b[0m \u001b[1;36m0\u001b[0m\u001b[1;33m]\u001b[0m \u001b[1;33m=\u001b[0m \u001b[0mG\u001b[0m\u001b[1;33m.\u001b[0m\u001b[0mnode\u001b[0m\u001b[1;33m[\u001b[0m\u001b[0mn1\u001b[0m\u001b[1;33m]\u001b[0m\u001b[1;33m[\u001b[0m\u001b[1;34m'degree_norm'\u001b[0m\u001b[1;33m]\u001b[0m\u001b[1;33m\u001b[0m\u001b[0m\n\u001b[0m\u001b[0;32m      5\u001b[0m     \u001b[0mfeatures\u001b[0m\u001b[1;33m[\u001b[0m\u001b[0mi\u001b[0m\u001b[1;33m,\u001b[0m \u001b[1;36m1\u001b[0m\u001b[1;33m]\u001b[0m \u001b[1;33m=\u001b[0m \u001b[0mG\u001b[0m\u001b[1;33m.\u001b[0m\u001b[0mnode\u001b[0m\u001b[1;33m[\u001b[0m\u001b[0mn1\u001b[0m\u001b[1;33m]\u001b[0m\u001b[1;33m[\u001b[0m\u001b[1;34m'clustering_norm'\u001b[0m\u001b[1;33m]\u001b[0m\u001b[1;33m\u001b[0m\u001b[0m\n\u001b[0;32m      6\u001b[0m     \u001b[0mfeatures\u001b[0m\u001b[1;33m[\u001b[0m\u001b[0mi\u001b[0m\u001b[1;33m,\u001b[0m \u001b[1;36m2\u001b[0m\u001b[1;33m]\u001b[0m \u001b[1;33m=\u001b[0m \u001b[0mG\u001b[0m\u001b[1;33m.\u001b[0m\u001b[0mnode\u001b[0m\u001b[1;33m[\u001b[0m\u001b[0mn1\u001b[0m\u001b[1;33m]\u001b[0m\u001b[1;33m[\u001b[0m\u001b[1;34m'betweenness_norm'\u001b[0m\u001b[1;33m]\u001b[0m\u001b[1;33m\u001b[0m\u001b[0m\n",
      "\u001b[1;31mKeyError\u001b[0m: 382"
     ]
    }
   ],
   "source": [
    "# creamos la matriz de características de las aristas en el conjunto de datos\n",
    "features = np.zeros((len(df), 8))\n",
    "for i, (n1, n2) in enumerate(df.index):\n",
    "    features[i, 0] = G.node[n1]['degree_norm']\n",
    "    features[i, 1] = G.node[n1]['clustering_norm']\n",
    "    features[i, 2] = G.node[n1]['betweenness_norm']\n",
    "    features[i, 3] = G.node[n1]['closeness_norm']\n",
    "    features[i, 4] = G.node[n2]['degree_norm']\n",
    "    features[i, 5] = G.node[n2]['clustering_norm']\n",
    "    features[i, 6] = G.node[n2]['betweenness_norm']\n",
    "    features[i, 7] = G.node[n2]['closeness_norm']\n",
    "\n",
    "# obtenemos la variable de respuesta\n",
    "target = df['Future Connection'].values\n"
   ]
  },
  {
   "cell_type": "code",
   "execution_count": null,
   "id": "fd8abe2c",
   "metadata": {},
   "outputs": [],
   "source": []
  }
 ],
 "metadata": {
  "kernelspec": {
   "display_name": "Python 3",
   "language": "python",
   "name": "python3"
  },
  "language_info": {
   "codemirror_mode": {
    "name": "ipython",
    "version": 3
   },
   "file_extension": ".py",
   "mimetype": "text/x-python",
   "name": "python",
   "nbconvert_exporter": "python",
   "pygments_lexer": "ipython3",
   "version": "3.5.6"
  }
 },
 "nbformat": 4,
 "nbformat_minor": 5
}
