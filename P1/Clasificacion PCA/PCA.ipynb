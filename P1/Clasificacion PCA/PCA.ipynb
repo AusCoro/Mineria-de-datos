{
  "cells": [
    {
      "cell_type": "markdown",
      "metadata": {
        "id": "77fMkM0paXnw"
      },
      "source": [
        "Carlos Yair Ruiz Tejeda\n",
        "\n",
        "Matricula 180300311"
      ]
    },
    {
      "cell_type": "code",
      "execution_count": 236,
      "metadata": {
        "id": "GFIrWrBzaXn2"
      },
      "outputs": [],
      "source": [
        "import numpy as np\n",
        "import matplotlib.pyplot as plt\n",
        "from sklearn.datasets import load_digits\n",
        "from random import randint\n",
        "from sklearn.model_selection import cross_val_score, train_test_split\n",
        "from sklearn.decomposition import PCA\n",
        "from xgboost import XGBClassifier\n",
        "from matplotlib.image import BboxImage\n",
        "from matplotlib.transforms import Bbox, TransformedBbox"
      ]
    },
    {
      "cell_type": "markdown",
      "metadata": {
        "id": "yAgydm16aXn4"
      },
      "source": [
        "# Clasificación de dígitos manuscritos con PCA\n",
        "\n",
        "Esta practica fue elavoradoa para mostrar la efectividad de la clasificacion para distingir imagnenes de manusncritos de los digitos 1 y 9, de esta forma proyectarlas a espacios de menor dimencionalidad por medio de la tacnica PCA."
      ]
    },
    {
      "cell_type": "markdown",
      "metadata": {
        "id": "iKj6e-zMaXn5"
      },
      "source": [
        "## PCA \n",
        "\n",
        "Analisis de componentes principales, es una tenica para reducir la dimencionalidad de los datos, manteniendo la mejor calidad e informacion posible, esta tencnica busca identificar las direcciones de los datos donde los datos varian mucho y proyectar esas direcciones creando nuevas variables o componente principales.\n",
        "los componentes princiaples se ordenan de forma decendente en la importancia de cantidad de la variabilidad que muestran los datos originales."
      ]
    },
    {
      "cell_type": "markdown",
      "metadata": {
        "id": "N7NmC34GaXn6"
      },
      "source": [
        "## Lectura de los datos manuscritos"
      ]
    },
    {
      "cell_type": "markdown",
      "metadata": {
        "id": "g78hqNTIaXn6"
      },
      "source": [
        "El conjunto de datos a desarrrollar proviene de la libreria de sklearn donde contienen los datos de imagenes de manuscritos sobre numeros los cuales solo se seleccionaran los numeros 1 y 9 del data set para ser visualizados y tratados por medio de PCA."
      ]
    },
    {
      "cell_type": "code",
      "execution_count": 237,
      "metadata": {
        "colab": {
          "base_uri": "https://localhost:8080/"
        },
        "id": "KDHc2DeNaXn7",
        "outputId": "1f753e94-6cbe-4e0b-bb07-3f69ed55bb0d"
      },
      "outputs": [
        {
          "output_type": "stream",
          "name": "stdout",
          "text": [
            "1797\n",
            "64\n"
          ]
        }
      ],
      "source": [
        "# Carga los datos y separa las características y las etiquetas\n",
        "[digits,labs] = load_digits(return_X_y=True)\n",
        "[N,d] = digits.shape # número de datos y dimensionalidad\n",
        "print(N) #número de observaciones\n",
        "print(d) #dimensionalidad"
      ]
    },
    {
      "cell_type": "code",
      "execution_count": 238,
      "metadata": {
        "colab": {
          "base_uri": "https://localhost:8080/"
        },
        "id": "OCHcOHEaaXn9",
        "outputId": "057afe89-6200-445c-82e7-54166fbb6bbc"
      },
      "outputs": [
        {
          "output_type": "stream",
          "name": "stdout",
          "text": [
            "(64,)\n"
          ]
        },
        {
          "output_type": "execute_result",
          "data": {
            "text/plain": [
              "array([ 0.,  0.,  5., 13.,  9.,  1.,  0.,  0.,  0.,  0., 13., 15., 10.,\n",
              "       15.,  5.,  0.,  0.,  3., 15.,  2.,  0., 11.,  8.,  0.,  0.,  4.,\n",
              "       12.,  0.,  0.,  8.,  8.,  0.,  0.,  5.,  8.,  0.,  0.,  9.,  8.,\n",
              "        0.,  0.,  4., 11.,  0.,  1., 12.,  7.,  0.,  0.,  2., 14.,  5.,\n",
              "       10., 12.,  0.,  0.,  0.,  0.,  6., 13., 10.,  0.,  0.,  0.])"
            ]
          },
          "metadata": {},
          "execution_count": 238
        }
      ],
      "source": [
        "print(digits[0,:].shape)\n",
        "digits[0,]"
      ]
    },
    {
      "cell_type": "code",
      "execution_count": 239,
      "metadata": {
        "colab": {
          "base_uri": "https://localhost:8080/",
          "height": 421
        },
        "id": "ZsgmD23UaXn9",
        "outputId": "bbf5ec1c-c4ef-47bd-c488-8ccb12cea4db"
      },
      "outputs": [
        {
          "output_type": "stream",
          "name": "stdout",
          "text": [
            "2\n",
            "[[ 0.  0.  7. 16. 14.  3.  0.  0.]\n",
            " [ 0.  0.  9. 14. 11. 15.  0.  0.]\n",
            " [ 0.  0.  1.  5.  0. 15.  5.  0.]\n",
            " [ 0.  0.  0.  0.  0. 16.  5.  0.]\n",
            " [ 0.  0.  0.  0.  3. 16.  4.  0.]\n",
            " [ 0.  0.  0.  1. 12. 14.  1.  0.]\n",
            " [ 0.  0.  5. 12. 16. 16. 14.  1.]\n",
            " [ 0.  0.  8. 16. 14. 10. 13.  3.]]\n"
          ]
        },
        {
          "output_type": "display_data",
          "data": {
            "text/plain": [
              "<Figure size 432x288 with 1 Axes>"
            ],
            "image/png": "[encoded data removed]"
          },
          "metadata": {
            "needs_background": "light"
          }
        }
      ],
      "source": [
        "#elige aleatoriamente algún dato y lo visualiza\n",
        "n = randint(0,N)\n",
        "\n",
        "plt.imshow(np.reshape(digits[n],(8,8)), cmap='gray')\n",
        "\n",
        "print(labs[n])\n",
        "print(np.reshape(digits[n],(8,8)))\n",
        "plt.show()"
      ]
    },
    {
      "cell_type": "markdown",
      "metadata": {
        "id": "KzoGrU1xaXn-"
      },
      "source": [
        "## Separacion de los datos manuscritos con los datos de 1 y 9\n"
      ]
    },
    {
      "cell_type": "code",
      "execution_count": 240,
      "metadata": {
        "id": "LgWuIV-zaXn_"
      },
      "outputs": [],
      "source": [
        "d1 = 1\n",
        "d2 = 9\n",
        "ind_d1 = labs == d1\n",
        "ind_d2 = labs == d2\n",
        "dig1 = digits[ind_d1]\n",
        "dig2 = digits[ind_d2]\n",
        "X = np.vstack((dig1,dig2)) #en esta matriz están los datos seleccionados\n",
        "lab1 = labs[ind_d1]\n",
        "lab2 = labs[ind_d2]\n",
        "nlabs = np.concatenate((lab1,lab2))"
      ]
    },
    {
      "cell_type": "code",
      "execution_count": 241,
      "metadata": {
        "colab": {
          "base_uri": "https://localhost:8080/",
          "height": 421
        },
        "id": "kCJyk74daXoA",
        "outputId": "de3ae788-17a5-40d5-febe-bef8fc9292ff"
      },
      "outputs": [
        {
          "output_type": "stream",
          "name": "stdout",
          "text": [
            "1\n",
            "[[ 0.  0.  0.  0. 14.  7.  0.  0.]\n",
            " [ 0.  0.  0. 13. 16.  9.  0.  0.]\n",
            " [ 0.  0. 10. 16. 16.  7.  0.  0.]\n",
            " [ 0.  7. 16.  8. 16.  2.  0.  0.]\n",
            " [ 0.  1.  5.  6. 16.  6.  0.  0.]\n",
            " [ 0.  0.  0.  4. 16.  6.  0.  0.]\n",
            " [ 0.  0.  0.  2. 16.  6.  0.  0.]\n",
            " [ 0.  0.  0.  0. 12. 11.  0.  0.]]\n"
          ]
        },
        {
          "output_type": "display_data",
          "data": {
            "text/plain": [
              "<Figure size 432x288 with 1 Axes>"
            ],
            "image/png": "[encoded data removed]"
          },
          "metadata": {
            "needs_background": "light"
          }
        }
      ],
      "source": [
        "#el primer subconjunto contiene 1's solamente\n",
        "n1 = randint(0, dig1.shape[0])\n",
        "\n",
        "print(lab1[n1])\n",
        "\n",
        "plt.imshow(np.reshape(dig1[n1],(8,8)), cmap='gray')\n",
        "print(np.reshape(dig1[n1],(8,8)))\n",
        "plt.show()"
      ]
    },
    {
      "cell_type": "code",
      "execution_count": 242,
      "metadata": {
        "colab": {
          "base_uri": "https://localhost:8080/",
          "height": 421
        },
        "id": "CvT-MpXIaXoA",
        "outputId": "a80d27a3-5b4a-4705-fe66-25e00eb25af8"
      },
      "outputs": [
        {
          "output_type": "stream",
          "name": "stdout",
          "text": [
            "9\n",
            "[[ 0.  0. 11. 10.  0.  0.  0.  0.]\n",
            " [ 0.  0. 13. 15.  0.  0.  0.  0.]\n",
            " [ 0.  0. 12. 16.  5.  0.  0.  0.]\n",
            " [ 0.  1. 15. 16.  5.  0.  0.  0.]\n",
            " [ 0.  0.  3. 13. 10.  0.  0.  0.]\n",
            " [ 0.  0.  0. 10. 14.  0.  0.  0.]\n",
            " [ 0.  0.  5. 11. 16.  9.  5.  1.]\n",
            " [ 0.  0. 12. 16. 16. 16. 16. 12.]]\n"
          ]
        },
        {
          "output_type": "display_data",
          "data": {
            "text/plain": [
              "<Figure size 432x288 with 1 Axes>"
            ],
            "image/png": "[encoded data removed]"
          },
          "metadata": {
            "needs_background": "light"
          }
        }
      ],
      "source": [
        "#el segundo subconjunto contiene 9's solamente\n",
        "n2 = randint(0, dig2.shape[0])\n",
        "\n",
        "print(lab2[n2])\n",
        "\n",
        "plt.imshow(np.reshape(dig2[n2],(8,8)), cmap='gray')\n",
        "print(np.reshape(dig1[n2],(8,8)))\n",
        "plt.show()"
      ]
    },
    {
      "cell_type": "markdown",
      "metadata": {
        "id": "txhKxj-FaXoB"
      },
      "source": [
        "## Realizacion de PCA caso #1\n",
        "\n",
        "Usar todas la componentes\n",
        "\n",
        "Modelo 1"
      ]
    },
    {
      "cell_type": "code",
      "execution_count": 243,
      "metadata": {
        "id": "SkU2xCQPaXoB"
      },
      "outputs": [],
      "source": [
        "pca = PCA(n_components = 64) # usamos todas las dimensiones inicialmente para identificar el total de varianza proyectada\n",
        "xpca = pca.fit_transform(X)"
      ]
    },
    {
      "cell_type": "code",
      "execution_count": 244,
      "metadata": {
        "colab": {
          "base_uri": "https://localhost:8080/"
        },
        "id": "L17qBRBEaXoC",
        "outputId": "53b0f8aa-5080-4f62-87f9-904ee9240c9e"
      },
      "outputs": [
        {
          "output_type": "execute_result",
          "data": {
            "text/plain": [
              "array([ 31.96830813,  47.80287723,  56.92281122,  62.56829035,\n",
              "        67.48177928,  71.4454917 ,  74.93223361,  77.88246893,\n",
              "        80.63263319,  82.91461305,  84.77955187,  86.52505518,\n",
              "        87.82062034,  89.01190235,  90.10335009,  90.98534339,\n",
              "        91.7933638 ,  92.56247386,  93.22193481,  93.83651735,\n",
              "        94.37622597,  94.8875305 ,  95.3781327 ,  95.8116442 ,\n",
              "        96.18181992,  96.54305904,  96.88780198,  97.18354235,\n",
              "        97.45972534,  97.7243511 ,  97.98476812,  98.19474211,\n",
              "        98.39762914,  98.59244562,  98.7611034 ,  98.92029679,\n",
              "        99.06158336,  99.18642438,  99.29245723,  99.39736253,\n",
              "        99.48982197,  99.57209467,  99.65215951,  99.72516247,\n",
              "        99.78735994,  99.84428003,  99.89571924,  99.94302481,\n",
              "        99.9813025 ,  99.9877524 ,  99.99259676,  99.99577785,\n",
              "        99.99804657,  99.99906495, 100.        , 100.        ,\n",
              "       100.        , 100.        , 100.        , 100.        ,\n",
              "       100.        , 100.        , 100.        , 100.        ])"
            ]
          },
          "metadata": {},
          "execution_count": 244
        }
      ],
      "source": [
        "var_exp = pca.explained_variance_\n",
        "np.cumsum(var_exp)/sum(var_exp)*100"
      ]
    },
    {
      "cell_type": "markdown",
      "source": [
        "### Entrenamiento y validacion"
      ],
      "metadata": {
        "id": "faUMcepqryQZ"
      }
    },
    {
      "cell_type": "code",
      "source": [
        "X_train, X_test, y_train, y_test = train_test_split(xpca, nlabs, test_size=0.2)\n",
        "xgb_classifier = XGBClassifier()\n",
        "xgb_classifier.fit(X_train, y_train)\n",
        "\n",
        "pred = xgb_classifier.predict(X_test)\n",
        "scores = cross_val_score(xgb_classifier, xpca, nlabs, cv=5)\n",
        "print(\"Accuracy: {:.4f}%\".format(np.mean(scores) * 100, np.std(scores) * 100))"
      ],
      "metadata": {
        "colab": {
          "base_uri": "https://localhost:8080/"
        },
        "id": "PvoYoxePb55e",
        "outputId": "597b4f00-967e-4c52-ba19-294da8bebf79"
      },
      "execution_count": 245,
      "outputs": [
        {
          "output_type": "stream",
          "name": "stdout",
          "text": [
            "Accuracy: 96.1339%\n"
          ]
        }
      ]
    },
    {
      "cell_type": "markdown",
      "metadata": {
        "id": "bIvH1UuDaXoC"
      },
      "source": [
        "### Resultados bidemincionales"
      ]
    },
    {
      "cell_type": "code",
      "execution_count": 246,
      "metadata": {
        "colab": {
          "base_uri": "https://localhost:8080/",
          "height": 592
        },
        "id": "mPGI-KgwaXoD",
        "outputId": "28d6e6ef-98c9-4203-ccd7-9db08a3370a5"
      },
      "outputs": [
        {
          "output_type": "display_data",
          "data": {
            "text/plain": [
              "<Figure size 864x720 with 1 Axes>"
            ],
            "image/png": "[encoded data removed]"
          },
          "metadata": {
            "needs_background": "light"
          }
        }
      ],
      "source": [
        "dat_proy = pca.transform(X)\n",
        "ind1 = nlabs == d1\n",
        "ind2 = nlabs == d2\n",
        "\n",
        "dig1_proy = dat_proy[ind1]\n",
        "dig2_proy = dat_proy[ind2]\n",
        "\n",
        "#grafica las proyecciones de cada dato\n",
        "fig = plt.figure(figsize=(12, 10))\n",
        "ax = fig.add_subplot(111)\n",
        "\n",
        "plt.plot(dig1_proy[:,0],dig1_proy[:,1],'r.')\n",
        "plt.plot(dig2_proy[:,0],dig2_proy[:,1],'b.')\n",
        "\n",
        "#selecciona aleatoriamente algunos datos y despliega sus imágenes\n",
        "\n",
        "[N,d] = dat_proy.shape\n",
        "for i in range(20):\n",
        "    n = randint(0,N-1)\n",
        "    x = dat_proy[n,0]\n",
        "    y = dat_proy[n,1]\n",
        "    bb = Bbox.from_bounds(x,y,5,5)  \n",
        "    bb2 = TransformedBbox(bb,ax.transData)\n",
        "    bbox_image = BboxImage(bb2, norm = None, origin=None, clip_on=False)\n",
        "    im = np.reshape(X[n,],(8,8))\n",
        "    bbox_image.set_data(im)\n",
        "    ax.add_artist(bbox_image)\n",
        "plt.show()"
      ]
    },
    {
      "cell_type": "markdown",
      "metadata": {
        "id": "koLPZg9JaXoD"
      },
      "source": [
        "## Caso #2 \n",
        "\n",
        "Preservacion del 80% de varianza.\n",
        "\n",
        "Modelo 2"
      ]
    },
    {
      "cell_type": "code",
      "execution_count": 247,
      "metadata": {
        "id": "4JV4mpVAaXoE"
      },
      "outputs": [],
      "source": [
        "pca = PCA(n_components = 0.8) # proyectamos sobre el espacio definido por las primeras 9 componentes principales\n",
        "xpca = pca.fit_transform(X)"
      ]
    },
    {
      "cell_type": "code",
      "source": [
        "var_exp = pca.explained_variance_\n",
        "np.cumsum(var_exp)/sum(var_exp)*100"
      ],
      "metadata": {
        "colab": {
          "base_uri": "https://localhost:8080/"
        },
        "id": "pBFtpsSogcIe",
        "outputId": "46def7a3-62f6-4f3c-f671-357f05b5e170"
      },
      "execution_count": 248,
      "outputs": [
        {
          "output_type": "execute_result",
          "data": {
            "text/plain": [
              "array([ 39.64686115,  59.28477756,  70.59525277,  77.59673457,\n",
              "        83.69040748,  88.60617454,  92.93040626,  96.58926647,\n",
              "       100.        ])"
            ]
          },
          "metadata": {},
          "execution_count": 248
        }
      ]
    },
    {
      "cell_type": "markdown",
      "source": [
        "### Entrenamiento y validacion"
      ],
      "metadata": {
        "id": "oZejxXuorvEX"
      }
    },
    {
      "cell_type": "code",
      "source": [
        "X_train, X_test, y_train, y_test = train_test_split(xpca, nlabs, test_size=0.2)\n",
        "xgb_classifier = XGBClassifier()\n",
        "xgb_classifier.fit(X_train, y_train)\n",
        "\n",
        "pred = xgb_classifier.predict(X_test)\n",
        "scores = cross_val_score(xgb_classifier, xpca, nlabs, cv=5)\n",
        "print(\"Accuracy: {:.4f}%\".format(np.mean(scores) * 100, np.std(scores) * 100))"
      ],
      "metadata": {
        "colab": {
          "base_uri": "https://localhost:8080/"
        },
        "id": "FBuqxzy2nIJn",
        "outputId": "ab33df90-9bc8-4418-afd3-1243282cc3e0"
      },
      "execution_count": 249,
      "outputs": [
        {
          "output_type": "stream",
          "name": "stdout",
          "text": [
            "Accuracy: 96.1301%\n"
          ]
        }
      ]
    },
    {
      "cell_type": "markdown",
      "metadata": {
        "id": "NMHKY7rWaXoF"
      },
      "source": [
        "### Visualizacion bidimencional de los resultados\n"
      ]
    },
    {
      "cell_type": "code",
      "execution_count": 250,
      "metadata": {
        "colab": {
          "base_uri": "https://localhost:8080/",
          "height": 592
        },
        "id": "cf3ZPh9HaXoF",
        "outputId": "69e40938-211e-4ee1-d23e-dde6010dc461"
      },
      "outputs": [
        {
          "output_type": "display_data",
          "data": {
            "text/plain": [
              "<Figure size 864x720 with 1 Axes>"
            ],
            "image/png": "[encoded data removed]"
          },
          "metadata": {
            "needs_background": "light"
          }
        }
      ],
      "source": [
        "ind1 = nlabs == d1\n",
        "ind2 = nlabs == d2\n",
        "\n",
        "dig1_proy = dat_proy[ind1]\n",
        "dig2_proy = dat_proy[ind2]\n",
        "\n",
        "#grafica las proyecciones de cada dato\n",
        "fig = plt.figure(figsize=(12, 10))\n",
        "ax = fig.add_subplot(111)\n",
        "\n",
        "plt.plot(dig1_proy[:,0],dig1_proy[:,1],'r.')\n",
        "plt.plot(dig2_proy[:,0],dig2_proy[:,1],'b.')\n",
        "\n",
        "#selecciona aleatoriamente algunos datos y despliega sus imágenes\n",
        "\n",
        "[N,d] = dat_proy.shape\n",
        "for i in range(20):\n",
        "    n = randint(0,N-1)\n",
        "    x = dat_proy[n,0]\n",
        "    y = dat_proy[n,1]\n",
        "    bb = Bbox.from_bounds(x,y,5,5)  \n",
        "    bb2 = TransformedBbox(bb,ax.transData)\n",
        "    bbox_image = BboxImage(bb2, norm = None, origin=None, clip_on=False)\n",
        "    im = np.reshape(X[n,],(8,8))\n",
        "    bbox_image.set_data(im)\n",
        "    ax.add_artist(bbox_image)\n",
        "plt.show()"
      ]
    },
    {
      "cell_type": "markdown",
      "metadata": {
        "id": "X1iSKIE0aXoG"
      },
      "source": [
        "## Caso #3 \n",
        "\n",
        "Emplear solo dos componentes.\n",
        "\n",
        "Modelo 3"
      ]
    },
    {
      "cell_type": "code",
      "execution_count": 251,
      "metadata": {
        "id": "7FOrZefjaXoG"
      },
      "outputs": [],
      "source": [
        "pca = PCA(n_components = 2) # proyectamos sobre el espacio definido por las primeras 9 componentes principales\n",
        "xpca = pca.fit_transform(X)"
      ]
    },
    {
      "cell_type": "code",
      "source": [
        "var_exp = pca.explained_variance_\n",
        "np.cumsum(var_exp)/sum(var_exp)*100"
      ],
      "metadata": {
        "colab": {
          "base_uri": "https://localhost:8080/"
        },
        "id": "b2maTem6kU0f",
        "outputId": "4e227a87-fb8b-4c84-c619-ed2ecdb557ff"
      },
      "execution_count": 252,
      "outputs": [
        {
          "output_type": "execute_result",
          "data": {
            "text/plain": [
              "array([ 66.87528028, 100.        ])"
            ]
          },
          "metadata": {},
          "execution_count": 252
        }
      ]
    },
    {
      "cell_type": "markdown",
      "source": [
        "### Entrenamiento y validacion"
      ],
      "metadata": {
        "id": "f0DjzJzLrhIK"
      }
    },
    {
      "cell_type": "code",
      "source": [
        "X_train, X_test, y_train, y_test = train_test_split(xpca, nlabs, test_size=0.2)\n",
        "xgb_classifier = XGBClassifier()\n",
        "xgb_classifier.fit(X_train, y_train)\n",
        "\n",
        "pred = xgb_classifier.predict(X_test)\n",
        "scores = cross_val_score(xgb_classifier, xpca, nlabs, cv=5)\n",
        "print(\"Accuracy: {:.4f}%\".format(np.mean(scores) * 100, np.std(scores) * 100))"
      ],
      "metadata": {
        "colab": {
          "base_uri": "https://localhost:8080/"
        },
        "id": "7y-k0y4rkfIb",
        "outputId": "ae3fa34b-7586-41e8-ffcf-917c61c6f85d"
      },
      "execution_count": 253,
      "outputs": [
        {
          "output_type": "stream",
          "name": "stdout",
          "text": [
            "Accuracy: 91.4155%\n"
          ]
        }
      ]
    },
    {
      "cell_type": "markdown",
      "metadata": {
        "id": "n05mNJkOaXoG"
      },
      "source": [
        "### Visualizacion bidimencional de los resultados"
      ]
    },
    {
      "cell_type": "code",
      "execution_count": 254,
      "metadata": {
        "colab": {
          "base_uri": "https://localhost:8080/",
          "height": 592
        },
        "id": "7Q0x1woHaXoG",
        "outputId": "3d50e328-9560-4d96-f661-302cc083a94c"
      },
      "outputs": [
        {
          "output_type": "display_data",
          "data": {
            "text/plain": [
              "<Figure size 864x720 with 1 Axes>"
            ],
            "image/png": "[encoded data removed]"
          },
          "metadata": {
            "needs_background": "light"
          }
        }
      ],
      "source": [
        "dat_proy = pca.transform(X)\n",
        "ind1 = nlabs == d1\n",
        "ind2 = nlabs == d2\n",
        "\n",
        "dig1_proy = dat_proy[ind1]\n",
        "dig2_proy = dat_proy[ind2]\n",
        "\n",
        "#grafica las proyecciones de cada dato\n",
        "fig = plt.figure(figsize=(12, 10))\n",
        "ax = fig.add_subplot(111)\n",
        "\n",
        "plt.plot(dig1_proy[:,0],dig1_proy[:,1],'r.')\n",
        "plt.plot(dig2_proy[:,0],dig2_proy[:,1],'b.')\n",
        "\n",
        "#selecciona aleatoriamente algunos datos y despliega sus imágenes\n",
        "\n",
        "[N,d] = dat_proy.shape\n",
        "for i in range(20):\n",
        "    n = randint(0,N-1)\n",
        "    x = dat_proy[n,0]\n",
        "    y = dat_proy[n,1]\n",
        "    bb = Bbox.from_bounds(x,y,5,5)  \n",
        "    bb2 = TransformedBbox(bb,ax.transData)\n",
        "    bbox_image = BboxImage(bb2, norm = None, origin=None, clip_on=False)\n",
        "    im = np.reshape(X[n,],(8,8))\n",
        "    bbox_image.set_data(im)\n",
        "    ax.add_artist(bbox_image)\n",
        "plt.show()"
      ]
    },
    {
      "cell_type": "markdown",
      "metadata": {
        "id": "YtkTggobaXoH"
      },
      "source": [
        "## Conclusion \n",
        "\n",
        "En conclusion dada el Accuracy:\n",
        "\n",
        "Caso #1 con todos los componentes:  **Accuracy: 96.1339%**\n",
        "\n",
        "Caso #2 con 80% de la varianza:  **Accuracy: 96.1301%**\n",
        "\n",
        "Caso #3 con 2 componentes:  **Accuracy: 91.4155%**\n",
        "\n",
        "Podemos observar que en todos los casos el que tiene mayor presicion es el caso 1 por lo tanto este seria el modelo a seleccionar."
      ]
    }
  ],
  "metadata": {
    "kernelspec": {
      "display_name": "base",
      "language": "python",
      "name": "python3"
    },
    "language_info": {
      "codemirror_mode": {
        "name": "ipython",
        "version": 3
      },
      "file_extension": ".py",
      "mimetype": "text/x-python",
      "name": "python",
      "nbconvert_exporter": "python",
      "pygments_lexer": "ipython3",
      "version": "3.9.13"
    },
    "orig_nbformat": 4,
    "vscode": {
      "interpreter": {
        "hash": "6cc01fb9532e7735d0f7aeaa2408a448931d94881f528e024e53505cbb4313bc"
      }
    },
    "colab": {
      "provenance": []
    }
  },
  "nbformat": 4,
  "nbformat_minor": 0
}