{
 "cells": [
  {
   "cell_type": "code",
   "execution_count": 215,
   "id": "55df4248",
   "metadata": {},
   "outputs": [],
   "source": [
    "import networkx as nx  # es necesario que instales la versión 1.11\n",
    "import numpy as np\n",
    "import pandas as pd\n",
    "import matplotlib.pyplot as plt\n",
    "import seaborn as sns\n",
    "from networkx.classes.function import common_neighbors\n",
    "from sklearn.model_selection import train_test_split, cross_val_score, KFold\n",
    "from sklearn.metrics import roc_auc_score\n",
    "from sklearn.linear_model import LogisticRegression\n",
    "from sklearn import datasets, metrics\n"
   ]
  },
  {
   "attachments": {},
   "cell_type": "markdown",
   "id": "9dd7276f",
   "metadata": {},
   "source": [
    "# Primera parte\n",
    "\n",
    "En la primera parte de esta tarea trabajarás con la red que se forma a partir de las comunicaciones por correo electrónico en una compañía. Cada nodo corresponde a una persona y cada enlace indica que por lo menos se ha enviado un correo entre las personas.\n",
    "\n",
    "La red también contiene los atributos `Department` y `ManagementSalary`. El atributo `Department` registra el departamento al cual pertenece cada persona y `ManagementSalary` indica si recibe un salario asociado con una posición directiva.\n"
   ]
  },
  {
   "cell_type": "code",
   "execution_count": 216,
   "id": "eeab1726",
   "metadata": {},
   "outputs": [
    {
     "data": {
      "text/plain": [
       "1005"
      ]
     },
     "execution_count": 216,
     "metadata": {},
     "output_type": "execute_result"
    }
   ],
   "source": [
    "G = nx.read_gpickle('email_prediction.txt')\n",
    "len(G.nodes())\n"
   ]
  },
  {
   "cell_type": "code",
   "execution_count": 217,
   "id": "6c4520df",
   "metadata": {},
   "outputs": [
    {
     "data": {
      "text/plain": [
       "[(0, {'Department': 1, 'ManagementSalary': 0.0}),\n",
       " (1, {'Department': 1, 'ManagementSalary': nan}),\n",
       " (2, {'Department': 21, 'ManagementSalary': nan}),\n",
       " (3, {'Department': 21, 'ManagementSalary': 1.0}),\n",
       " (4, {'Department': 21, 'ManagementSalary': 1.0}),\n",
       " (5, {'Department': 25, 'ManagementSalary': nan}),\n",
       " (6, {'Department': 25, 'ManagementSalary': 1.0}),\n",
       " (7, {'Department': 14, 'ManagementSalary': 0.0}),\n",
       " (8, {'Department': 14, 'ManagementSalary': nan}),\n",
       " (9, {'Department': 14, 'ManagementSalary': 0.0})]"
      ]
     },
     "execution_count": 217,
     "metadata": {},
     "output_type": "execute_result"
    }
   ],
   "source": [
    "G.nodes(data=True)[0:10]\n"
   ]
  },
  {
   "attachments": {},
   "cell_type": "markdown",
   "id": "359947f6",
   "metadata": {},
   "source": [
    "## Instrucciones [primera parte]\n",
    "\n",
    "El objetivo de esta primera práctica es que construyas un modelo que prediga el valor de la variable `ManagementSalary`.\n",
    "\n",
    "1. Ignora los casos en los que no se tiene registrada la etiqueta.\n",
    "2. Separa el conjunto de datos en subconjuntos de entrenamiento y prueba.\n",
    "3. Ajusta un modelo a los datos usando alguna técnica de aprendizaje adecuada. Puedes utilizar como predictores métricas que caractericen a los nodos (de centralidad, distancia, conexión, ...).\n",
    "4. Evalúa la calidad del modelo sobre el conjunto de prueba usando el área bajo la curva (tu modelo debe tener por lo menos un AUC de $0.82$ evaluada sobre el conjunto de prueba).\n"
   ]
  },
  {
   "attachments": {},
   "cell_type": "markdown",
   "id": "dfc144d3",
   "metadata": {},
   "source": [
    "### Eliminamos los casos en los que no se tinee registrada la etiqueta\n"
   ]
  },
  {
   "cell_type": "code",
   "execution_count": 218,
   "id": "0e12bb3e",
   "metadata": {},
   "outputs": [],
   "source": [
    "df = pd.DataFrame(index=G.nodes())\n",
    "df['Department'] = pd.Series(nx.get_node_attributes(G, 'Department'))\n",
    "df['ManagementSalary'] = pd.Series(\n",
    "    nx.get_node_attributes(G, 'ManagementSalary'))\n"
   ]
  },
  {
   "cell_type": "code",
   "execution_count": 219,
   "id": "35272836",
   "metadata": {},
   "outputs": [],
   "source": [
    "df = df.dropna(subset=['ManagementSalary'])\n"
   ]
  },
  {
   "attachments": {},
   "cell_type": "markdown",
   "id": "16256ba2",
   "metadata": {},
   "source": [
    "### Ajusta un modelo a los datos usando alguna técnica de aprendizaje adecuada. Puedes utilizar como predictores métricas que caractericen a los nodos (de centralidad, distancia, conexión, ...).\n"
   ]
  },
  {
   "cell_type": "code",
   "execution_count": 220,
   "id": "2c10b500",
   "metadata": {},
   "outputs": [],
   "source": [
    "# Métricas de centralidad\n",
    "df['degree centrality'] = pd.Series(nx.degree_centrality(G))\n",
    "df['closeness'] = pd.Series(nx.closeness_centrality(G, normalized=True))\n",
    "df['betweenness'] = pd.Series(nx.betweenness_centrality(G, normalized=True))\n",
    "\n",
    "# metricas de distancia\n",
    "df['degree'] = pd.Series(nx.degree(G))\n",
    "\n",
    "# metrica de conexion\n",
    "df['clustering'] = pd.Series(nx.clustering(G))\n"
   ]
  },
  {
   "cell_type": "code",
   "execution_count": 221,
   "id": "5d34114a",
   "metadata": {},
   "outputs": [
    {
     "data": {
      "text/html": [
       "<div>\n",
       "<style scoped>\n",
       "    .dataframe tbody tr th:only-of-type {\n",
       "        vertical-align: middle;\n",
       "    }\n",
       "\n",
       "    .dataframe tbody tr th {\n",
       "        vertical-align: top;\n",
       "    }\n",
       "\n",
       "    .dataframe thead th {\n",
       "        text-align: right;\n",
       "    }\n",
       "</style>\n",
       "<table border=\"1\" class=\"dataframe\">\n",
       "  <thead>\n",
       "    <tr style=\"text-align: right;\">\n",
       "      <th></th>\n",
       "      <th>Department</th>\n",
       "      <th>ManagementSalary</th>\n",
       "      <th>degree centrality</th>\n",
       "      <th>closeness</th>\n",
       "      <th>betweenness</th>\n",
       "      <th>degree</th>\n",
       "      <th>clustering</th>\n",
       "    </tr>\n",
       "  </thead>\n",
       "  <tbody>\n",
       "    <tr>\n",
       "      <th>0</th>\n",
       "      <td>1</td>\n",
       "      <td>0.0</td>\n",
       "      <td>0.043825</td>\n",
       "      <td>0.421991</td>\n",
       "      <td>0.001124</td>\n",
       "      <td>44</td>\n",
       "      <td>0.276423</td>\n",
       "    </tr>\n",
       "    <tr>\n",
       "      <th>3</th>\n",
       "      <td>21</td>\n",
       "      <td>1.0</td>\n",
       "      <td>0.070717</td>\n",
       "      <td>0.441663</td>\n",
       "      <td>0.001654</td>\n",
       "      <td>71</td>\n",
       "      <td>0.384910</td>\n",
       "    </tr>\n",
       "    <tr>\n",
       "      <th>4</th>\n",
       "      <td>21</td>\n",
       "      <td>1.0</td>\n",
       "      <td>0.095618</td>\n",
       "      <td>0.462152</td>\n",
       "      <td>0.005547</td>\n",
       "      <td>96</td>\n",
       "      <td>0.318691</td>\n",
       "    </tr>\n",
       "    <tr>\n",
       "      <th>6</th>\n",
       "      <td>25</td>\n",
       "      <td>1.0</td>\n",
       "      <td>0.114542</td>\n",
       "      <td>0.475805</td>\n",
       "      <td>0.012387</td>\n",
       "      <td>115</td>\n",
       "      <td>0.155183</td>\n",
       "    </tr>\n",
       "    <tr>\n",
       "      <th>7</th>\n",
       "      <td>14</td>\n",
       "      <td>0.0</td>\n",
       "      <td>0.071713</td>\n",
       "      <td>0.420156</td>\n",
       "      <td>0.002818</td>\n",
       "      <td>72</td>\n",
       "      <td>0.287785</td>\n",
       "    </tr>\n",
       "  </tbody>\n",
       "</table>\n",
       "</div>"
      ],
      "text/plain": [
       "   Department  ManagementSalary  degree centrality  closeness  betweenness  \\\n",
       "0           1               0.0           0.043825   0.421991     0.001124   \n",
       "3          21               1.0           0.070717   0.441663     0.001654   \n",
       "4          21               1.0           0.095618   0.462152     0.005547   \n",
       "6          25               1.0           0.114542   0.475805     0.012387   \n",
       "7          14               0.0           0.071713   0.420156     0.002818   \n",
       "\n",
       "   degree  clustering  \n",
       "0      44    0.276423  \n",
       "3      71    0.384910  \n",
       "4      96    0.318691  \n",
       "6     115    0.155183  \n",
       "7      72    0.287785  "
      ]
     },
     "execution_count": 221,
     "metadata": {},
     "output_type": "execute_result"
    }
   ],
   "source": [
    "df.head()\n"
   ]
  },
  {
   "cell_type": "code",
   "execution_count": 222,
   "id": "48ebd512",
   "metadata": {},
   "outputs": [
    {
     "data": {
      "text/plain": [
       "753"
      ]
     },
     "execution_count": 222,
     "metadata": {},
     "output_type": "execute_result"
    }
   ],
   "source": [
    "len(df)\n"
   ]
  },
  {
   "attachments": {},
   "cell_type": "markdown",
   "id": "23e33079",
   "metadata": {},
   "source": [
    "### Separa el conjunto de datos en subconjuntos de entrenamiento y prueba.\n"
   ]
  },
  {
   "cell_type": "code",
   "execution_count": 223,
   "id": "87a257df",
   "metadata": {},
   "outputs": [],
   "source": [
    "X_train, X_test, y_train, y_test = train_test_split(df.drop(\n",
    "    'ManagementSalary', axis=1), df['ManagementSalary'], test_size=0.2, random_state=42)\n"
   ]
  },
  {
   "attachments": {},
   "cell_type": "markdown",
   "id": "981e5f70",
   "metadata": {},
   "source": [
    "### Evalúa la calidad del modelo sobre el conjunto de prueba usando el área bajo la curva (tu modelo debe tener por lo menos un AUC de $0.82$ evaluada sobre el conjunto de prueba).\n"
   ]
  },
  {
   "cell_type": "code",
   "execution_count": 224,
   "id": "2f1bc60e",
   "metadata": {},
   "outputs": [
    {
     "data": {
      "text/plain": [
       "LogisticRegression(C=1.0, class_weight=None, dual=False, fit_intercept=True,\n",
       "                   intercept_scaling=1, l1_ratio=None, max_iter=100,\n",
       "                   multi_class='auto', n_jobs=None, penalty='l2',\n",
       "                   random_state=None, solver='lbfgs', tol=0.0001, verbose=0,\n",
       "                   warm_start=False)"
      ]
     },
     "execution_count": 224,
     "metadata": {},
     "output_type": "execute_result"
    }
   ],
   "source": [
    "lr = LogisticRegression()\n",
    "lr.fit(X_train, y_train)\n"
   ]
  },
  {
   "cell_type": "code",
   "execution_count": 225,
   "id": "5f30536e",
   "metadata": {},
   "outputs": [
    {
     "name": "stdout",
     "output_type": "stream",
     "text": [
      "AUC: 0.899\n"
     ]
    }
   ],
   "source": [
    "y_pred_proba = lr.predict_proba(X_test)[:, 1]\n",
    "auc = roc_auc_score(y_test, y_pred_proba)\n",
    "print('AUC: %.3f' % auc)\n"
   ]
  },
  {
   "cell_type": "code",
   "execution_count": 226,
   "id": "80b0d823",
   "metadata": {},
   "outputs": [
    {
     "data": {
      "image/png": "[encoded data removed]",
      "text/plain": [
       "<Figure size 432x288 with 1 Axes>"
      ]
     },
     "metadata": {
      "needs_background": "light"
     },
     "output_type": "display_data"
    }
   ],
   "source": [
    "ns_probs = [0 for _ in range(len(y_test))]\n",
    "ns_fpr, ns_tpr, _ = metrics.roc_curve(y_test, ns_probs)\n",
    "fpr, tpr, _ = metrics.roc_curve(y_test, y_pred_proba)\n",
    "plt.plot(fpr, tpr, marker='.', label=\"AUC=\"+str(auc*100)+\"%\")\n",
    "plt.plot(ns_fpr, ns_tpr, linestyle='--', label='Sin entrenar')\n",
    "plt.xlabel('Tasa de Falsos Positivos')\n",
    "plt.ylabel('Tasa de Verdaderos Positivos')\n",
    "plt.title('ROC CURVE')\n",
    "plt.legend()\n",
    "plt.show()\n"
   ]
  },
  {
   "attachments": {},
   "cell_type": "markdown",
   "id": "3ebcd7c5",
   "metadata": {},
   "source": [
    "# Segunda parte\n",
    "\n",
    "En la última parte de esta práctica vas a predecir las futuras conexiones enyte los empleados de la red. La información de la formación de tales conexiones se encuentra en el archivo `future_connections`, cuyo índice es una dupla de nodos que no están conectados actualmente. La columna `Future Connection` indica si en el futuro se establecerá una arista entre ambos nodos (el valor de 1.0 indica una futura conexión).\n"
   ]
  },
  {
   "cell_type": "code",
   "execution_count": 227,
   "id": "d16fdc4f",
   "metadata": {},
   "outputs": [
    {
     "data": {
      "text/html": [
       "<div>\n",
       "<style scoped>\n",
       "    .dataframe tbody tr th:only-of-type {\n",
       "        vertical-align: middle;\n",
       "    }\n",
       "\n",
       "    .dataframe tbody tr th {\n",
       "        vertical-align: top;\n",
       "    }\n",
       "\n",
       "    .dataframe thead th {\n",
       "        text-align: right;\n",
       "    }\n",
       "</style>\n",
       "<table border=\"1\" class=\"dataframe\">\n",
       "  <thead>\n",
       "    <tr style=\"text-align: right;\">\n",
       "      <th></th>\n",
       "      <th>Future Connection</th>\n",
       "    </tr>\n",
       "  </thead>\n",
       "  <tbody>\n",
       "    <tr>\n",
       "      <th>(6, 840)</th>\n",
       "      <td>0.0</td>\n",
       "    </tr>\n",
       "    <tr>\n",
       "      <th>(4, 197)</th>\n",
       "      <td>0.0</td>\n",
       "    </tr>\n",
       "    <tr>\n",
       "      <th>(620, 979)</th>\n",
       "      <td>0.0</td>\n",
       "    </tr>\n",
       "    <tr>\n",
       "      <th>(519, 872)</th>\n",
       "      <td>0.0</td>\n",
       "    </tr>\n",
       "    <tr>\n",
       "      <th>(382, 423)</th>\n",
       "      <td>0.0</td>\n",
       "    </tr>\n",
       "    <tr>\n",
       "      <th>(97, 226)</th>\n",
       "      <td>1.0</td>\n",
       "    </tr>\n",
       "    <tr>\n",
       "      <th>(349, 905)</th>\n",
       "      <td>0.0</td>\n",
       "    </tr>\n",
       "    <tr>\n",
       "      <th>(429, 860)</th>\n",
       "      <td>0.0</td>\n",
       "    </tr>\n",
       "    <tr>\n",
       "      <th>(309, 989)</th>\n",
       "      <td>0.0</td>\n",
       "    </tr>\n",
       "    <tr>\n",
       "      <th>(468, 880)</th>\n",
       "      <td>0.0</td>\n",
       "    </tr>\n",
       "  </tbody>\n",
       "</table>\n",
       "</div>"
      ],
      "text/plain": [
       "            Future Connection\n",
       "(6, 840)                  0.0\n",
       "(4, 197)                  0.0\n",
       "(620, 979)                0.0\n",
       "(519, 872)                0.0\n",
       "(382, 423)                0.0\n",
       "(97, 226)                 1.0\n",
       "(349, 905)                0.0\n",
       "(429, 860)                0.0\n",
       "(309, 989)                0.0\n",
       "(468, 880)                0.0"
      ]
     },
     "execution_count": 227,
     "metadata": {},
     "output_type": "execute_result"
    }
   ],
   "source": [
    "df = pd.read_csv('Future_Connections.csv', index_col=0, converters={0: eval})\n",
    "df.head(10)\n"
   ]
  },
  {
   "attachments": {},
   "cell_type": "markdown",
   "id": "9028d1be",
   "metadata": {},
   "source": [
    "## Instrucciones [segunda parte]\n",
    "\n",
    "Utiliza la reg `G` (de la primera parte) y `future_connections` para que construyas un modelo que identifique cuáles parejas de nodos en `future_connections` estarán conectados en el futuro.\n",
    "\n",
    "Para lograrlo, deberás crear una matriz con métricas que caractericen a las aristas de `future_connections` utilizando networkx.\n",
    "\n",
    "1. Elimina los casos en que la variable de respuesta no se encuentre registrada.\n",
    "2. Evalúa las características de las parejas de nodos del archivo `future_connections`.\n",
    "3. Separa los datos en subconjuntos de entrenamiento y prueba.\n",
    "4. Ajusta un modelo adecuado para predecir la formación de enlaces.\n",
    "5. Evalúa la calidad del modelo sobre el conjunto de prueba usando el área bajo la curva (tu modelo debe tener por lo menos un AUC de $0.82$ evaluada sobre el conjunto de prueba).\n"
   ]
  },
  {
   "attachments": {},
   "cell_type": "markdown",
   "id": "be921f9e",
   "metadata": {},
   "source": [
    "### Evalúa las características de las parejas de nodos del archivo `future_connections`.\n"
   ]
  },
  {
   "attachments": {},
   "cell_type": "markdown",
   "id": "4858465b",
   "metadata": {},
   "source": [
    "#### Funciones a utilizar\n"
   ]
  },
  {
   "cell_type": "code",
   "execution_count": 228,
   "id": "58a59a64",
   "metadata": {},
   "outputs": [],
   "source": [
    "def get_values(pairs):\n",
    "    return [i[2] for i in pairs]\n",
    "\n",
    "\n",
    "def common_neighbors(g):\n",
    "    comm_neigh = [(e[0], e[1], len(list(nx.common_neighbors(g, e[0], e[1]))))\n",
    "                  for e in nx.non_edges(g)]\n",
    "    return get_values(comm_neigh)\n",
    "\n",
    "\n",
    "def jaccard_coefficient(g):\n",
    "    jacc = list(nx.jaccard_coefficient(g))\n",
    "    return get_values(jacc)\n",
    "\n",
    "\n",
    "def resource_allocation(g):\n",
    "    res = list(nx.resource_allocation_index(g))\n",
    "    return get_values(res)\n",
    "\n",
    "\n",
    "def adamic_adar(g):\n",
    "    adamic_adar = list(nx.adamic_adar_index(g))\n",
    "    return get_values(adamic_adar)\n",
    "\n",
    "\n",
    "def preferential_attachment(g):\n",
    "    pref = list(nx.preferential_attachment(g))\n",
    "    return get_values(pref)\n"
   ]
  },
  {
   "attachments": {},
   "cell_type": "markdown",
   "id": "40f91a31",
   "metadata": {},
   "source": [
    "#### Evaluando\n"
   ]
  },
  {
   "cell_type": "code",
   "execution_count": 229,
   "id": "e523cf30",
   "metadata": {},
   "outputs": [
    {
     "data": {
      "text/html": [
       "<div>\n",
       "<style scoped>\n",
       "    .dataframe tbody tr th:only-of-type {\n",
       "        vertical-align: middle;\n",
       "    }\n",
       "\n",
       "    .dataframe tbody tr th {\n",
       "        vertical-align: top;\n",
       "    }\n",
       "\n",
       "    .dataframe thead th {\n",
       "        text-align: right;\n",
       "    }\n",
       "</style>\n",
       "<table border=\"1\" class=\"dataframe\">\n",
       "  <thead>\n",
       "    <tr style=\"text-align: right;\">\n",
       "      <th></th>\n",
       "      <th>Future Connection</th>\n",
       "      <th>common_neighbors</th>\n",
       "      <th>jacc_coef</th>\n",
       "      <th>res_alloc</th>\n",
       "      <th>adamic_adar</th>\n",
       "      <th>pref_attach</th>\n",
       "    </tr>\n",
       "  </thead>\n",
       "  <tbody>\n",
       "    <tr>\n",
       "      <th>(0, 2)</th>\n",
       "      <td>0.0</td>\n",
       "      <td>6</td>\n",
       "      <td>0.045802</td>\n",
       "      <td>0.055340</td>\n",
       "      <td>1.257626</td>\n",
       "      <td>4180</td>\n",
       "    </tr>\n",
       "    <tr>\n",
       "      <th>(0, 3)</th>\n",
       "      <td>0.0</td>\n",
       "      <td>3</td>\n",
       "      <td>0.027273</td>\n",
       "      <td>0.021388</td>\n",
       "      <td>0.605728</td>\n",
       "      <td>3124</td>\n",
       "    </tr>\n",
       "    <tr>\n",
       "      <th>(0, 4)</th>\n",
       "      <td>0.0</td>\n",
       "      <td>3</td>\n",
       "      <td>0.022222</td>\n",
       "      <td>0.021388</td>\n",
       "      <td>0.605728</td>\n",
       "      <td>4224</td>\n",
       "    </tr>\n",
       "    <tr>\n",
       "      <th>(0, 7)</th>\n",
       "      <td>0.0</td>\n",
       "      <td>4</td>\n",
       "      <td>0.036364</td>\n",
       "      <td>0.061668</td>\n",
       "      <td>0.938816</td>\n",
       "      <td>3168</td>\n",
       "    </tr>\n",
       "    <tr>\n",
       "      <th>(0, 8)</th>\n",
       "      <td>0.0</td>\n",
       "      <td>1</td>\n",
       "      <td>0.012821</td>\n",
       "      <td>0.011628</td>\n",
       "      <td>0.224500</td>\n",
       "      <td>1628</td>\n",
       "    </tr>\n",
       "    <tr>\n",
       "      <th>(0, 9)</th>\n",
       "      <td>NaN</td>\n",
       "      <td>2</td>\n",
       "      <td>0.025000</td>\n",
       "      <td>0.041931</td>\n",
       "      <td>0.510499</td>\n",
       "      <td>1760</td>\n",
       "    </tr>\n",
       "    <tr>\n",
       "      <th>(0, 10)</th>\n",
       "      <td>0.0</td>\n",
       "      <td>1</td>\n",
       "      <td>0.011236</td>\n",
       "      <td>0.005882</td>\n",
       "      <td>0.194712</td>\n",
       "      <td>2068</td>\n",
       "    </tr>\n",
       "    <tr>\n",
       "      <th>(0, 11)</th>\n",
       "      <td>0.0</td>\n",
       "      <td>4</td>\n",
       "      <td>0.035088</td>\n",
       "      <td>0.053661</td>\n",
       "      <td>0.899701</td>\n",
       "      <td>3344</td>\n",
       "    </tr>\n",
       "    <tr>\n",
       "      <th>(0, 12)</th>\n",
       "      <td>0.0</td>\n",
       "      <td>4</td>\n",
       "      <td>0.041667</td>\n",
       "      <td>0.065762</td>\n",
       "      <td>0.953236</td>\n",
       "      <td>2552</td>\n",
       "    </tr>\n",
       "    <tr>\n",
       "      <th>(0, 13)</th>\n",
       "      <td>0.0</td>\n",
       "      <td>7</td>\n",
       "      <td>0.032558</td>\n",
       "      <td>0.199248</td>\n",
       "      <td>1.943251</td>\n",
       "      <td>7920</td>\n",
       "    </tr>\n",
       "  </tbody>\n",
       "</table>\n",
       "</div>"
      ],
      "text/plain": [
       "         Future Connection  common_neighbors  jacc_coef  res_alloc  \\\n",
       "(0, 2)                 0.0                 6   0.045802   0.055340   \n",
       "(0, 3)                 0.0                 3   0.027273   0.021388   \n",
       "(0, 4)                 0.0                 3   0.022222   0.021388   \n",
       "(0, 7)                 0.0                 4   0.036364   0.061668   \n",
       "(0, 8)                 0.0                 1   0.012821   0.011628   \n",
       "(0, 9)                 NaN                 2   0.025000   0.041931   \n",
       "(0, 10)                0.0                 1   0.011236   0.005882   \n",
       "(0, 11)                0.0                 4   0.035088   0.053661   \n",
       "(0, 12)                0.0                 4   0.041667   0.065762   \n",
       "(0, 13)                0.0                 7   0.032558   0.199248   \n",
       "\n",
       "         adamic_adar  pref_attach  \n",
       "(0, 2)      1.257626         4180  \n",
       "(0, 3)      0.605728         3124  \n",
       "(0, 4)      0.605728         4224  \n",
       "(0, 7)      0.938816         3168  \n",
       "(0, 8)      0.224500         1628  \n",
       "(0, 9)      0.510499         1760  \n",
       "(0, 10)     0.194712         2068  \n",
       "(0, 11)     0.899701         3344  \n",
       "(0, 12)     0.953236         2552  \n",
       "(0, 13)     1.943251         7920  "
      ]
     },
     "execution_count": 229,
     "metadata": {},
     "output_type": "execute_result"
    }
   ],
   "source": [
    "df.sort_index(inplace=True)\n",
    "df['common_neighbors'] = common_neighbors(G)\n",
    "df['jacc_coef'] = jaccard_coefficient(G)\n",
    "df['res_alloc'] = resource_allocation(G)\n",
    "df['adamic_adar'] = adamic_adar(G)\n",
    "df['pref_attach'] = preferential_attachment(G)\n",
    "df.head(10)\n"
   ]
  },
  {
   "attachments": {},
   "cell_type": "markdown",
   "id": "b8fa74c3",
   "metadata": {},
   "source": [
    "### Elimina los casos en que la variable de respuesta no se encuentre registrada.\n"
   ]
  },
  {
   "cell_type": "code",
   "execution_count": 230,
   "id": "8f4ce89d",
   "metadata": {},
   "outputs": [
    {
     "data": {
      "text/html": [
       "<div>\n",
       "<style scoped>\n",
       "    .dataframe tbody tr th:only-of-type {\n",
       "        vertical-align: middle;\n",
       "    }\n",
       "\n",
       "    .dataframe tbody tr th {\n",
       "        vertical-align: top;\n",
       "    }\n",
       "\n",
       "    .dataframe thead th {\n",
       "        text-align: right;\n",
       "    }\n",
       "</style>\n",
       "<table border=\"1\" class=\"dataframe\">\n",
       "  <thead>\n",
       "    <tr style=\"text-align: right;\">\n",
       "      <th></th>\n",
       "      <th>Future Connection</th>\n",
       "      <th>common_neighbors</th>\n",
       "      <th>jacc_coef</th>\n",
       "      <th>res_alloc</th>\n",
       "      <th>adamic_adar</th>\n",
       "      <th>pref_attach</th>\n",
       "    </tr>\n",
       "  </thead>\n",
       "  <tbody>\n",
       "    <tr>\n",
       "      <th>(0, 2)</th>\n",
       "      <td>0.0</td>\n",
       "      <td>6</td>\n",
       "      <td>0.045802</td>\n",
       "      <td>0.055340</td>\n",
       "      <td>1.257626</td>\n",
       "      <td>4180</td>\n",
       "    </tr>\n",
       "    <tr>\n",
       "      <th>(0, 3)</th>\n",
       "      <td>0.0</td>\n",
       "      <td>3</td>\n",
       "      <td>0.027273</td>\n",
       "      <td>0.021388</td>\n",
       "      <td>0.605728</td>\n",
       "      <td>3124</td>\n",
       "    </tr>\n",
       "    <tr>\n",
       "      <th>(0, 4)</th>\n",
       "      <td>0.0</td>\n",
       "      <td>3</td>\n",
       "      <td>0.022222</td>\n",
       "      <td>0.021388</td>\n",
       "      <td>0.605728</td>\n",
       "      <td>4224</td>\n",
       "    </tr>\n",
       "    <tr>\n",
       "      <th>(0, 7)</th>\n",
       "      <td>0.0</td>\n",
       "      <td>4</td>\n",
       "      <td>0.036364</td>\n",
       "      <td>0.061668</td>\n",
       "      <td>0.938816</td>\n",
       "      <td>3168</td>\n",
       "    </tr>\n",
       "    <tr>\n",
       "      <th>(0, 8)</th>\n",
       "      <td>0.0</td>\n",
       "      <td>1</td>\n",
       "      <td>0.012821</td>\n",
       "      <td>0.011628</td>\n",
       "      <td>0.224500</td>\n",
       "      <td>1628</td>\n",
       "    </tr>\n",
       "    <tr>\n",
       "      <th>(0, 10)</th>\n",
       "      <td>0.0</td>\n",
       "      <td>1</td>\n",
       "      <td>0.011236</td>\n",
       "      <td>0.005882</td>\n",
       "      <td>0.194712</td>\n",
       "      <td>2068</td>\n",
       "    </tr>\n",
       "    <tr>\n",
       "      <th>(0, 11)</th>\n",
       "      <td>0.0</td>\n",
       "      <td>4</td>\n",
       "      <td>0.035088</td>\n",
       "      <td>0.053661</td>\n",
       "      <td>0.899701</td>\n",
       "      <td>3344</td>\n",
       "    </tr>\n",
       "    <tr>\n",
       "      <th>(0, 12)</th>\n",
       "      <td>0.0</td>\n",
       "      <td>4</td>\n",
       "      <td>0.041667</td>\n",
       "      <td>0.065762</td>\n",
       "      <td>0.953236</td>\n",
       "      <td>2552</td>\n",
       "    </tr>\n",
       "    <tr>\n",
       "      <th>(0, 13)</th>\n",
       "      <td>0.0</td>\n",
       "      <td>7</td>\n",
       "      <td>0.032558</td>\n",
       "      <td>0.199248</td>\n",
       "      <td>1.943251</td>\n",
       "      <td>7920</td>\n",
       "    </tr>\n",
       "    <tr>\n",
       "      <th>(0, 14)</th>\n",
       "      <td>1.0</td>\n",
       "      <td>11</td>\n",
       "      <td>0.099099</td>\n",
       "      <td>0.177760</td>\n",
       "      <td>2.635144</td>\n",
       "      <td>3520</td>\n",
       "    </tr>\n",
       "  </tbody>\n",
       "</table>\n",
       "</div>"
      ],
      "text/plain": [
       "         Future Connection  common_neighbors  jacc_coef  res_alloc  \\\n",
       "(0, 2)                 0.0                 6   0.045802   0.055340   \n",
       "(0, 3)                 0.0                 3   0.027273   0.021388   \n",
       "(0, 4)                 0.0                 3   0.022222   0.021388   \n",
       "(0, 7)                 0.0                 4   0.036364   0.061668   \n",
       "(0, 8)                 0.0                 1   0.012821   0.011628   \n",
       "(0, 10)                0.0                 1   0.011236   0.005882   \n",
       "(0, 11)                0.0                 4   0.035088   0.053661   \n",
       "(0, 12)                0.0                 4   0.041667   0.065762   \n",
       "(0, 13)                0.0                 7   0.032558   0.199248   \n",
       "(0, 14)                1.0                11   0.099099   0.177760   \n",
       "\n",
       "         adamic_adar  pref_attach  \n",
       "(0, 2)      1.257626         4180  \n",
       "(0, 3)      0.605728         3124  \n",
       "(0, 4)      0.605728         4224  \n",
       "(0, 7)      0.938816         3168  \n",
       "(0, 8)      0.224500         1628  \n",
       "(0, 10)     0.194712         2068  \n",
       "(0, 11)     0.899701         3344  \n",
       "(0, 12)     0.953236         2552  \n",
       "(0, 13)     1.943251         7920  \n",
       "(0, 14)     2.635144         3520  "
      ]
     },
     "execution_count": 230,
     "metadata": {},
     "output_type": "execute_result"
    }
   ],
   "source": [
    "df.dropna(subset=['Future Connection'], inplace=True)\n",
    "df.head(10)\n"
   ]
  },
  {
   "attachments": {},
   "cell_type": "markdown",
   "id": "71769a9f",
   "metadata": {},
   "source": [
    "### Separa los datos en subconjuntos de entrenamiento y prueba.\n"
   ]
  },
  {
   "cell_type": "code",
   "execution_count": 231,
   "id": "ffd48ac7",
   "metadata": {},
   "outputs": [],
   "source": [
    "col = list(df.columns)\n",
    "col.remove('Future Connection')\n",
    "y = df['Future Connection'].astype(int)\n",
    "X = df[col]\n"
   ]
  },
  {
   "cell_type": "code",
   "execution_count": 232,
   "id": "8afb4dc2",
   "metadata": {},
   "outputs": [],
   "source": [
    "X_train, X_test, y_train, y_test = train_test_split(\n",
    "    X, y, test_size=0.2, random_state=42)\n"
   ]
  },
  {
   "attachments": {},
   "cell_type": "markdown",
   "id": "b7328867",
   "metadata": {},
   "source": [
    "### Ajusta un modelo adecuado para predecir la formación de enlaces.\n"
   ]
  },
  {
   "cell_type": "code",
   "execution_count": 233,
   "id": "6229448d",
   "metadata": {},
   "outputs": [],
   "source": [
    "model = LogisticRegression()\n",
    "model.fit(X_train, y_train)\n",
    "pred = model.predict(X_test)\n"
   ]
  },
  {
   "cell_type": "code",
   "execution_count": 234,
   "id": "b84e978c",
   "metadata": {},
   "outputs": [
    {
     "name": "stdout",
     "output_type": "stream",
     "text": [
      "Accuracy: 95.71703495434507\n"
     ]
    }
   ],
   "source": [
    "print('Accuracy:', model.score(X_test, y_test)*100)\n"
   ]
  },
  {
   "attachments": {},
   "cell_type": "markdown",
   "id": "d91f27e8",
   "metadata": {},
   "source": [
    "### Evalúa la calidad del modelo sobre el conjunto de prueba usando el área bajo la curva (tu modelo debe tener por lo menos un AUC de $0.82$ evaluada sobre el conjunto de prueba).\n"
   ]
  },
  {
   "cell_type": "code",
   "execution_count": 235,
   "id": "94a82f64",
   "metadata": {},
   "outputs": [],
   "source": [
    "y_pred = model.predict_proba(X_test)\n",
    "y_pred = y_pred[:, 1]\n",
    "auc = metrics.roc_auc_score(y_test, y_pred)\n"
   ]
  },
  {
   "cell_type": "code",
   "execution_count": 236,
   "id": "824acfe0",
   "metadata": {},
   "outputs": [
    {
     "data": {
      "image/png": "[encoded data removed]",
      "text/plain": [
       "<Figure size 432x288 with 1 Axes>"
      ]
     },
     "metadata": {
      "needs_background": "light"
     },
     "output_type": "display_data"
    }
   ],
   "source": [
    "ns_probs = [0 for _ in range(len(y_test))]\n",
    "ns_fpr, ns_tpr, _ = metrics.roc_curve(y_test, ns_probs)\n",
    "fpr, tpr, _ = metrics.roc_curve(y_test, y_pred)\n",
    "plt.plot(fpr, tpr, marker='.', label=\"AUC=\"+str(auc*100)+\"%\")\n",
    "plt.plot(ns_fpr, ns_tpr, linestyle='--', label='No train')\n",
    "plt.legend()\n",
    "plt.show()\n"
   ]
  }
 ],
 "metadata": {
  "kernelspec": {
   "display_name": "Python 3",
   "language": "python",
   "name": "python3"
  },
  "language_info": {
   "codemirror_mode": {
    "name": "ipython",
    "version": 3
   },
   "file_extension": ".py",
   "mimetype": "text/x-python",
   "name": "python",
   "nbconvert_exporter": "python",
   "pygments_lexer": "ipython3",
   "version": "3.5.6"
  }
 },
 "nbformat": 4,
 "nbformat_minor": 5
}
