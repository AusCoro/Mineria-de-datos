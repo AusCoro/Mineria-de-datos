{
 "cells": [
  {
   "attachments": {},
   "cell_type": "markdown",
   "id": "fd12084d",
   "metadata": {},
   "source": [
    "> **NOMBRE:** ENGER ISAAC CANUL POOT\n"
   ]
  },
  {
   "attachments": {},
   "cell_type": "markdown",
   "id": "bf770c63",
   "metadata": {},
   "source": [
    "## **INSTALACIONES Y LIBRERIAS:**\n"
   ]
  },
  {
   "attachments": {},
   "cell_type": "markdown",
   "id": "22ef1f67",
   "metadata": {},
   "source": [
    "**NOTA:** _Para la realización de estas prácticas se creo un ambiente en Anaconda con la versión de Python 3.5.6._\n"
   ]
  },
  {
   "cell_type": "code",
   "execution_count": 1,
   "id": "3daf7414",
   "metadata": {
    "colab": {
     "base_uri": "https://localhost:8080/",
     "height": 349
    },
    "id": "RjlUoTe0V6rw",
    "outputId": "04240346-fc48-4538-ff61-f89f53f2eba7"
   },
   "outputs": [],
   "source": [
    "# !pip install networkx==1.11\n"
   ]
  },
  {
   "cell_type": "code",
   "execution_count": 2,
   "id": "4851dc08",
   "metadata": {
    "id": "368cee16"
   },
   "outputs": [],
   "source": [
    "import networkx as nx  # Con la versión 1.11\n",
    "import numpy as np\n",
    "import pandas as pd\n",
    "import matplotlib.pyplot as plt\n",
    "import seaborn as sns\n",
    "from networkx.classes.function import common_neighbors\n",
    "from sklearn.model_selection import train_test_split, cross_val_score, KFold\n",
    "from sklearn.metrics import roc_auc_score\n",
    "from sklearn.linear_model import LogisticRegression\n",
    "from sklearn import datasets, metrics\n"
   ]
  },
  {
   "attachments": {},
   "cell_type": "markdown",
   "id": "0891b5d2",
   "metadata": {},
   "source": [
    "## **INTRODUCCIÓN:**\n"
   ]
  },
  {
   "attachments": {},
   "cell_type": "markdown",
   "id": "301f37d7",
   "metadata": {},
   "source": [
    "Los gráficos o redes son estructuras de datos que permiten representar las relaciones entre varias entidades. Se utilizan en muchos escenarios de la vida real, como en las redes sociales, la gestión de proyectos, la ingeniería, la biología, entre otros. Los gráficos constan de dos entidades principales: los nodos o vértices y los bordes. Los nodos representan las entidades del sistema y los bordes representan las relaciones entre ellas. Por ejemplo, en una red social, los nodos podrían representar usuarios y los bordes podrían representar la amistad entre ellos.\n",
    "\n",
    "El análisis de gráficos puede ayudar a responder preguntas como:\n",
    "\n",
    "¿Cuáles son los nodos más importantes en la red?\n",
    "¿Existen comunidades o grupos de nodos que están muy conectados entre sí pero tienen pocas conexiones con otros grupos?\n",
    "¿Existen patrones en la forma en que las entidades están conectadas en la red?\n",
    "\n",
    "Los gráficos o redes son una estructura de datos utilizada para representar las relaciones entre entidades en diferentes escenarios de la vida real. El análisis de su estructura requiere un conjunto de algoritmos especializados y la comprensión de varias propiedades del grafo.\n"
   ]
  },
  {
   "attachments": {},
   "cell_type": "markdown",
   "id": "cf5813a4",
   "metadata": {
    "id": "53a68012"
   },
   "source": [
    "# **PRIMERA PARTE:**\n"
   ]
  },
  {
   "attachments": {},
   "cell_type": "markdown",
   "id": "5550a2ab",
   "metadata": {},
   "source": [
    "En la primera parte de esta tarea trabajarás con la red que se forma a partir de las comunicaciones por correo electrónico en una compañía. Cada nodo corresponde a una persona y cada enlace indica que por lo menos se ha enviado un correo entre las personas.\n",
    "\n",
    "La red también contiene los atributos `Department` y `ManagementSalary`. El atributo `Department` registra el departamento al cual pertenece cada persona y `ManagementSalary` indica si recibe un salario asociado con una posición directiva.\n"
   ]
  },
  {
   "cell_type": "code",
   "execution_count": 3,
   "id": "876b2299",
   "metadata": {
    "colab": {
     "base_uri": "https://localhost:8080/"
    },
    "id": "a24560ef",
    "outputId": "c86ff1ad-6bbc-4e95-c60c-3631cb30639a"
   },
   "outputs": [
    {
     "data": {
      "text/plain": [
       "1005"
      ]
     },
     "execution_count": 3,
     "metadata": {},
     "output_type": "execute_result"
    }
   ],
   "source": [
    "G = nx.read_gpickle('email_prediction.txt')\n",
    "len(G.nodes())\n"
   ]
  },
  {
   "attachments": {},
   "cell_type": "markdown",
   "id": "138adffe",
   "metadata": {
    "id": "9e0d6070"
   },
   "source": [
    "## **Instrucciones [primera parte]**\n",
    "\n",
    "El objetivo de esta primera práctica es que construyas un modelo que prediga el valor de la variable `ManagementSalary`.\n",
    "\n",
    "1. Ignora los casos en los que no se tiene registrada la etiqueta.\n",
    "2. Separa el conjunto de datos en subconjuntos de entrenamiento y prueba.\n",
    "3. Ajusta un modelo a los datos usando alguna técnica de aprendizaje adecuada. Puedes utilizar como predictores métricas que caractericen a los nodos (de centralidad, distancia, conexión, ...).\n",
    "4. Evalúa la calidad del modelo sobre el conjunto de prueba usando el área bajo la curva (tu modelo debe tener por lo menos un AUC de $0.82$ evaluada sobre el conjunto de prueba).\n"
   ]
  },
  {
   "attachments": {},
   "cell_type": "markdown",
   "id": "2af9eef9",
   "metadata": {
    "id": "1XxoxDaTbAGi"
   },
   "source": [
    "## **LECTURA Y VISUALIZACIÓN DE LOS DATOS:**\n"
   ]
  },
  {
   "attachments": {},
   "cell_type": "markdown",
   "id": "bc80ae84",
   "metadata": {},
   "source": [
    "Como podemos denotar por cada nodo hay un diccionario, en el que se destacan tres valores:\n",
    "\n",
    "- **0:** No recibe un salario asociado con una posición directiva.\n",
    "- **1:** Sí recibe un salario asociado con una posición directiva\n",
    "- **nan:** Sin datos.\n"
   ]
  },
  {
   "cell_type": "code",
   "execution_count": 4,
   "id": "e06e56cf",
   "metadata": {
    "colab": {
     "base_uri": "https://localhost:8080/"
    },
    "id": "9b16e9e6",
    "outputId": "6cf4135c-8cd4-4742-8aec-8b76eafa6261"
   },
   "outputs": [
    {
     "data": {
      "text/plain": [
       "[(0, {'Department': 1, 'ManagementSalary': 0.0}),\n",
       " (1, {'Department': 1, 'ManagementSalary': nan}),\n",
       " (2, {'Department': 21, 'ManagementSalary': nan}),\n",
       " (3, {'Department': 21, 'ManagementSalary': 1.0}),\n",
       " (4, {'Department': 21, 'ManagementSalary': 1.0}),\n",
       " (5, {'Department': 25, 'ManagementSalary': nan}),\n",
       " (6, {'Department': 25, 'ManagementSalary': 1.0}),\n",
       " (7, {'Department': 14, 'ManagementSalary': 0.0}),\n",
       " (8, {'Department': 14, 'ManagementSalary': nan}),\n",
       " (9, {'Department': 14, 'ManagementSalary': 0.0})]"
      ]
     },
     "execution_count": 4,
     "metadata": {},
     "output_type": "execute_result"
    }
   ],
   "source": [
    "G.nodes(data=True)[0:10]\n"
   ]
  },
  {
   "attachments": {},
   "cell_type": "markdown",
   "id": "7ba1072e",
   "metadata": {},
   "source": [
    "Podemos visualizar los nodos:\n"
   ]
  },
  {
   "cell_type": "code",
   "execution_count": 5,
   "id": "cee4cc3e",
   "metadata": {},
   "outputs": [
    {
     "data": {
      "text/plain": [
       "<matplotlib.collections.PathCollection at 0x2302fecb828>"
      ]
     },
     "execution_count": 5,
     "metadata": {},
     "output_type": "execute_result"
    },
    {
     "data": {
      "image/png": "[encoded data removed]",
      "text/plain": [
       "<Figure size 432x288 with 1 Axes>"
      ]
     },
     "metadata": {
      "needs_background": "light"
     },
     "output_type": "display_data"
    }
   ],
   "source": [
    "nx.draw_networkx_nodes(G, pos=nx.spring_layout(G))\n"
   ]
  },
  {
   "attachments": {},
   "cell_type": "markdown",
   "id": "aa8cbc16",
   "metadata": {},
   "source": [
    "## **CONVERSIÓN A DATAFRAME:**\n"
   ]
  },
  {
   "attachments": {},
   "cell_type": "markdown",
   "id": "99eefa91",
   "metadata": {
    "id": "As2XkefwqXam"
   },
   "source": [
    "Para evaluar con mayor entendimiento la información podemos explorarlo a partir de un DataFrame, por lo que optaremos por transformar el Grafo. El objetivo de esta práctica es un modelo para predecir la variable **Management Salary**.\n"
   ]
  },
  {
   "cell_type": "code",
   "execution_count": 6,
   "id": "4e20f176",
   "metadata": {},
   "outputs": [],
   "source": [
    "dat_node = {\n",
    "    'Node': [],\n",
    "    'Department': [],\n",
    "    'Management Salary': []\n",
    "}\n"
   ]
  },
  {
   "attachments": {},
   "cell_type": "markdown",
   "id": "93860fbb",
   "metadata": {},
   "source": [
    "Creación de las columnas del DataFrame.\n"
   ]
  },
  {
   "cell_type": "code",
   "execution_count": 7,
   "id": "37ad41ee",
   "metadata": {},
   "outputs": [
    {
     "data": {
      "text/html": [
       "<div>\n",
       "<style scoped>\n",
       "    .dataframe tbody tr th:only-of-type {\n",
       "        vertical-align: middle;\n",
       "    }\n",
       "\n",
       "    .dataframe tbody tr th {\n",
       "        vertical-align: top;\n",
       "    }\n",
       "\n",
       "    .dataframe thead th {\n",
       "        text-align: right;\n",
       "    }\n",
       "</style>\n",
       "<table border=\"1\" class=\"dataframe\">\n",
       "  <thead>\n",
       "    <tr style=\"text-align: right;\">\n",
       "      <th></th>\n",
       "      <th>Department</th>\n",
       "      <th>Management Salary</th>\n",
       "      <th>Node</th>\n",
       "    </tr>\n",
       "  </thead>\n",
       "  <tbody>\n",
       "    <tr>\n",
       "      <th>0</th>\n",
       "      <td>1</td>\n",
       "      <td>0</td>\n",
       "      <td>0</td>\n",
       "    </tr>\n",
       "    <tr>\n",
       "      <th>1</th>\n",
       "      <td>1</td>\n",
       "      <td>-1</td>\n",
       "      <td>1</td>\n",
       "    </tr>\n",
       "    <tr>\n",
       "      <th>2</th>\n",
       "      <td>21</td>\n",
       "      <td>-1</td>\n",
       "      <td>2</td>\n",
       "    </tr>\n",
       "    <tr>\n",
       "      <th>3</th>\n",
       "      <td>21</td>\n",
       "      <td>1</td>\n",
       "      <td>3</td>\n",
       "    </tr>\n",
       "    <tr>\n",
       "      <th>4</th>\n",
       "      <td>21</td>\n",
       "      <td>1</td>\n",
       "      <td>4</td>\n",
       "    </tr>\n",
       "  </tbody>\n",
       "</table>\n",
       "</div>"
      ],
      "text/plain": [
       "   Department  Management Salary  Node\n",
       "0           1                  0     0\n",
       "1           1                 -1     1\n",
       "2          21                 -1     2\n",
       "3          21                  1     3\n",
       "4          21                  1     4"
      ]
     },
     "execution_count": 7,
     "metadata": {},
     "output_type": "execute_result"
    }
   ],
   "source": [
    "for columns, data in G.nodes(data=True):\n",
    "    dat_node['Node'].append(columns)\n",
    "    dat_node['Department'].append(data['Department'])\n",
    "    if not pd.isna(data['ManagementSalary']):\n",
    "        dat_node['Management Salary'].append(int(data['ManagementSalary']))\n",
    "    else:\n",
    "        dat_node['Management Salary'].append(-1)  # convertimos nan a -1\n",
    "df = pd.DataFrame(dat_node)\n",
    "df.head()\n"
   ]
  },
  {
   "attachments": {},
   "cell_type": "markdown",
   "id": "4f8953db",
   "metadata": {},
   "source": [
    "Asi mismo para crear el modelo, necesitamos variables predictoras y métricas de centralidad que son las medidas utilizadas para cuantificar la importancia o centralidad de los nodos en una red. Estas métricas proporcionan información sobre la posición de los nodos en la red y su capacidad para influir en la información o el flujo de recursos.\n",
    "\n",
    "Las metricas que se usaran para este modelo son:\n",
    "\n",
    "- **Grado:** El número de otros nodos que están conectados a un nodo.\n",
    "- **Cercania:** Puntúa cada nodo en función de su \"_cercanía_ a todos los demás nodos de la red.\n",
    "- **Intermediación:** Muestra la cantidad de caminos más cortos que pasan por un nodo.\n",
    "- **Grado de centralidad:** Número de enlaces o conexiones que posee un vértice con el resto de los nodos pertenecientes a un grafo.\n",
    "- **Coeficiente de clusterización:** Cuantifica qué tanto está de agrupado (o interconectado) con sus vecinos.\n"
   ]
  },
  {
   "cell_type": "code",
   "execution_count": 8,
   "id": "17025238",
   "metadata": {
    "colab": {
     "base_uri": "https://localhost:8080/",
     "height": 270
    },
    "id": "jLe_9ROeecb7",
    "outputId": "a82aaf59-3817-49c6-d4a1-a197908fcc39"
   },
   "outputs": [
    {
     "data": {
      "text/html": [
       "<div>\n",
       "<style scoped>\n",
       "    .dataframe tbody tr th:only-of-type {\n",
       "        vertical-align: middle;\n",
       "    }\n",
       "\n",
       "    .dataframe tbody tr th {\n",
       "        vertical-align: top;\n",
       "    }\n",
       "\n",
       "    .dataframe thead th {\n",
       "        text-align: right;\n",
       "    }\n",
       "</style>\n",
       "<table border=\"1\" class=\"dataframe\">\n",
       "  <thead>\n",
       "    <tr style=\"text-align: right;\">\n",
       "      <th></th>\n",
       "      <th>Department</th>\n",
       "      <th>Management Salary</th>\n",
       "      <th>Node</th>\n",
       "      <th>Grado</th>\n",
       "      <th>Cercania</th>\n",
       "      <th>Intermediacion</th>\n",
       "      <th>G_centralidad</th>\n",
       "      <th>Clusterizacion</th>\n",
       "    </tr>\n",
       "  </thead>\n",
       "  <tbody>\n",
       "    <tr>\n",
       "      <th>0</th>\n",
       "      <td>1</td>\n",
       "      <td>0</td>\n",
       "      <td>0</td>\n",
       "      <td>44</td>\n",
       "      <td>0.421991</td>\n",
       "      <td>0.001124</td>\n",
       "      <td>0.043825</td>\n",
       "      <td>0.276423</td>\n",
       "    </tr>\n",
       "    <tr>\n",
       "      <th>1</th>\n",
       "      <td>1</td>\n",
       "      <td>-1</td>\n",
       "      <td>1</td>\n",
       "      <td>52</td>\n",
       "      <td>0.422360</td>\n",
       "      <td>0.001195</td>\n",
       "      <td>0.051793</td>\n",
       "      <td>0.265306</td>\n",
       "    </tr>\n",
       "    <tr>\n",
       "      <th>2</th>\n",
       "      <td>21</td>\n",
       "      <td>-1</td>\n",
       "      <td>2</td>\n",
       "      <td>95</td>\n",
       "      <td>0.461490</td>\n",
       "      <td>0.006570</td>\n",
       "      <td>0.094622</td>\n",
       "      <td>0.297803</td>\n",
       "    </tr>\n",
       "    <tr>\n",
       "      <th>3</th>\n",
       "      <td>21</td>\n",
       "      <td>1</td>\n",
       "      <td>3</td>\n",
       "      <td>71</td>\n",
       "      <td>0.441663</td>\n",
       "      <td>0.001654</td>\n",
       "      <td>0.070717</td>\n",
       "      <td>0.384910</td>\n",
       "    </tr>\n",
       "    <tr>\n",
       "      <th>4</th>\n",
       "      <td>21</td>\n",
       "      <td>1</td>\n",
       "      <td>4</td>\n",
       "      <td>96</td>\n",
       "      <td>0.462152</td>\n",
       "      <td>0.005547</td>\n",
       "      <td>0.095618</td>\n",
       "      <td>0.318691</td>\n",
       "    </tr>\n",
       "  </tbody>\n",
       "</table>\n",
       "</div>"
      ],
      "text/plain": [
       "   Department  Management Salary  Node  Grado  Cercania  Intermediacion  \\\n",
       "0           1                  0     0     44  0.421991        0.001124   \n",
       "1           1                 -1     1     52  0.422360        0.001195   \n",
       "2          21                 -1     2     95  0.461490        0.006570   \n",
       "3          21                  1     3     71  0.441663        0.001654   \n",
       "4          21                  1     4     96  0.462152        0.005547   \n",
       "\n",
       "   G_centralidad  Clusterizacion  \n",
       "0       0.043825        0.276423  \n",
       "1       0.051793        0.265306  \n",
       "2       0.094622        0.297803  \n",
       "3       0.070717        0.384910  \n",
       "4       0.095618        0.318691  "
      ]
     },
     "execution_count": 8,
     "metadata": {},
     "output_type": "execute_result"
    }
   ],
   "source": [
    "# metricas de centralidad\n",
    "df['Grado'] = nx.degree(G).values()\n",
    "df['Cercania'] = nx.closeness_centrality(G).values()\n",
    "df['Intermediacion'] = nx.betweenness_centrality(G).values()\n",
    "# metricas de distancia\n",
    "df['G_centralidad'] = nx.degree_centrality(G).values()\n",
    "# metrica de conexion\n",
    "df['Clusterizacion'] = nx.clustering(G).values()\n",
    "\n",
    "df.head()\n"
   ]
  },
  {
   "cell_type": "code",
   "execution_count": 9,
   "id": "33cdf383",
   "metadata": {},
   "outputs": [
    {
     "data": {
      "text/plain": [
       "1005"
      ]
     },
     "execution_count": 9,
     "metadata": {},
     "output_type": "execute_result"
    }
   ],
   "source": [
    "len(df)\n"
   ]
  },
  {
   "attachments": {},
   "cell_type": "markdown",
   "id": "4d7d2b48",
   "metadata": {},
   "source": [
    "## **1. ELIMINAMOS LOS QUE CONTENGAN UN VALOR NAN:**\n"
   ]
  },
  {
   "attachments": {},
   "cell_type": "markdown",
   "id": "ee0f6132",
   "metadata": {
    "id": "xwbFTleAqdiP"
   },
   "source": [
    "Como primer paso eliminaremos las filas con las etiquetas sin registro (nan) que anteriormente se convirtieron en **\"-1\"**.\n"
   ]
  },
  {
   "cell_type": "code",
   "execution_count": 10,
   "id": "3aa819b5",
   "metadata": {
    "colab": {
     "base_uri": "https://localhost:8080/",
     "height": 270
    },
    "id": "ZZ_BaY3YqUYe",
    "outputId": "e80b7d1c-9da8-4efb-e239-6aa05858922c"
   },
   "outputs": [
    {
     "data": {
      "text/html": [
       "<div>\n",
       "<style scoped>\n",
       "    .dataframe tbody tr th:only-of-type {\n",
       "        vertical-align: middle;\n",
       "    }\n",
       "\n",
       "    .dataframe tbody tr th {\n",
       "        vertical-align: top;\n",
       "    }\n",
       "\n",
       "    .dataframe thead th {\n",
       "        text-align: right;\n",
       "    }\n",
       "</style>\n",
       "<table border=\"1\" class=\"dataframe\">\n",
       "  <thead>\n",
       "    <tr style=\"text-align: right;\">\n",
       "      <th></th>\n",
       "      <th>Department</th>\n",
       "      <th>Management Salary</th>\n",
       "      <th>Node</th>\n",
       "      <th>Grado</th>\n",
       "      <th>Cercania</th>\n",
       "      <th>Intermediacion</th>\n",
       "      <th>G_centralidad</th>\n",
       "      <th>Clusterizacion</th>\n",
       "    </tr>\n",
       "  </thead>\n",
       "  <tbody>\n",
       "    <tr>\n",
       "      <th>0</th>\n",
       "      <td>1</td>\n",
       "      <td>0</td>\n",
       "      <td>0</td>\n",
       "      <td>44</td>\n",
       "      <td>0.421991</td>\n",
       "      <td>0.001124</td>\n",
       "      <td>0.043825</td>\n",
       "      <td>0.276423</td>\n",
       "    </tr>\n",
       "    <tr>\n",
       "      <th>1</th>\n",
       "      <td>21</td>\n",
       "      <td>1</td>\n",
       "      <td>3</td>\n",
       "      <td>71</td>\n",
       "      <td>0.441663</td>\n",
       "      <td>0.001654</td>\n",
       "      <td>0.070717</td>\n",
       "      <td>0.384910</td>\n",
       "    </tr>\n",
       "    <tr>\n",
       "      <th>2</th>\n",
       "      <td>21</td>\n",
       "      <td>1</td>\n",
       "      <td>4</td>\n",
       "      <td>96</td>\n",
       "      <td>0.462152</td>\n",
       "      <td>0.005547</td>\n",
       "      <td>0.095618</td>\n",
       "      <td>0.318691</td>\n",
       "    </tr>\n",
       "    <tr>\n",
       "      <th>3</th>\n",
       "      <td>25</td>\n",
       "      <td>1</td>\n",
       "      <td>6</td>\n",
       "      <td>115</td>\n",
       "      <td>0.475805</td>\n",
       "      <td>0.012387</td>\n",
       "      <td>0.114542</td>\n",
       "      <td>0.155183</td>\n",
       "    </tr>\n",
       "    <tr>\n",
       "      <th>4</th>\n",
       "      <td>14</td>\n",
       "      <td>0</td>\n",
       "      <td>7</td>\n",
       "      <td>72</td>\n",
       "      <td>0.420156</td>\n",
       "      <td>0.002818</td>\n",
       "      <td>0.071713</td>\n",
       "      <td>0.287785</td>\n",
       "    </tr>\n",
       "  </tbody>\n",
       "</table>\n",
       "</div>"
      ],
      "text/plain": [
       "   Department  Management Salary  Node  Grado  Cercania  Intermediacion  \\\n",
       "0           1                  0     0     44  0.421991        0.001124   \n",
       "1          21                  1     3     71  0.441663        0.001654   \n",
       "2          21                  1     4     96  0.462152        0.005547   \n",
       "3          25                  1     6    115  0.475805        0.012387   \n",
       "4          14                  0     7     72  0.420156        0.002818   \n",
       "\n",
       "   G_centralidad  Clusterizacion  \n",
       "0       0.043825        0.276423  \n",
       "1       0.070717        0.384910  \n",
       "2       0.095618        0.318691  \n",
       "3       0.114542        0.155183  \n",
       "4       0.071713        0.287785  "
      ]
     },
     "execution_count": 10,
     "metadata": {},
     "output_type": "execute_result"
    }
   ],
   "source": [
    "id_remove = []\n",
    "for i, data in df.iterrows():\n",
    "    if data['Management Salary'] == -1:\n",
    "        id_remove.append(i)\n",
    "\n",
    "df.drop(index=id_remove, inplace=True)\n",
    "df.reset_index(drop=True, inplace=True)\n",
    "\n",
    "df.head()\n"
   ]
  },
  {
   "attachments": {},
   "cell_type": "markdown",
   "id": "535e09bf",
   "metadata": {},
   "source": [
    "Podemos denotar que pasamos de tener **1,005** datos a **753**.\n"
   ]
  },
  {
   "cell_type": "code",
   "execution_count": 11,
   "id": "16097192",
   "metadata": {},
   "outputs": [
    {
     "data": {
      "text/plain": [
       "753"
      ]
     },
     "execution_count": 11,
     "metadata": {},
     "output_type": "execute_result"
    }
   ],
   "source": [
    "len(df)\n"
   ]
  },
  {
   "attachments": {},
   "cell_type": "markdown",
   "id": "0422eba9",
   "metadata": {},
   "source": [
    "## **2. SUBCONJUNTO DE PRUEBA Y ENTRENAMIENTO:**\n"
   ]
  },
  {
   "attachments": {},
   "cell_type": "markdown",
   "id": "66f73500",
   "metadata": {
    "id": "BrHZxwYItQ1S"
   },
   "source": [
    "Dividiremos el conjunto de datos en un conjunto de entrenamiento y un conjunto de pruebas, separando los datos en **80% en train** y el **20% en test**.\n"
   ]
  },
  {
   "cell_type": "code",
   "execution_count": 12,
   "id": "5c3859ad",
   "metadata": {
    "id": "33t7y3zftWbU"
   },
   "outputs": [
    {
     "data": {
      "text/plain": [
       "['Department',\n",
       " 'Management Salary',\n",
       " 'Node',\n",
       " 'Grado',\n",
       " 'Cercania',\n",
       " 'Intermediacion',\n",
       " 'G_centralidad',\n",
       " 'Clusterizacion']"
      ]
     },
     "execution_count": 12,
     "metadata": {},
     "output_type": "execute_result"
    }
   ],
   "source": [
    "col_X = list(df.columns)\n",
    "col_X\n"
   ]
  },
  {
   "cell_type": "code",
   "execution_count": 13,
   "id": "69b7c4d7",
   "metadata": {},
   "outputs": [
    {
     "data": {
      "text/plain": [
       "'Management Salary'"
      ]
     },
     "execution_count": 13,
     "metadata": {},
     "output_type": "execute_result"
    }
   ],
   "source": [
    "col_y = 'Management Salary'\n",
    "col_y\n"
   ]
  },
  {
   "cell_type": "code",
   "execution_count": 14,
   "id": "c470c8c9",
   "metadata": {},
   "outputs": [],
   "source": [
    "col_X.remove(col_y)  # Removemos la columna Management Salary de las demás\n",
    "X = df[col_X]\n",
    "y = df[col_y]\n"
   ]
  },
  {
   "cell_type": "code",
   "execution_count": 15,
   "id": "c6f598cf",
   "metadata": {},
   "outputs": [],
   "source": [
    "X_train, X_test, y_train, y_test = train_test_split(\n",
    "    X, y, test_size=0.2, random_state=0)\n"
   ]
  },
  {
   "attachments": {},
   "cell_type": "markdown",
   "id": "635e1754",
   "metadata": {},
   "source": [
    "## **3. CREACIÓN Y AJUSTE DEL MODELO DE APRENDIZAJE:**\n"
   ]
  },
  {
   "attachments": {},
   "cell_type": "markdown",
   "id": "875bbc2d",
   "metadata": {
    "id": "YdcO8_aPvO9u"
   },
   "source": [
    "Este es un problema binario, ya que los datos que se manejan son **1 y 0**, por lo que podemos aplicar el modelo de **Regresión Logística**.\n"
   ]
  },
  {
   "cell_type": "code",
   "execution_count": 16,
   "id": "b00ac285",
   "metadata": {
    "colab": {
     "base_uri": "https://localhost:8080/"
    },
    "id": "nNNTL47ztkuo",
    "outputId": "bb0eff79-96b2-40bb-cd17-1a16bbe4a4cd"
   },
   "outputs": [
    {
     "data": {
      "text/plain": [
       "LogisticRegression(C=1.0, class_weight=None, dual=False, fit_intercept=True,\n",
       "                   intercept_scaling=1, l1_ratio=None, max_iter=100,\n",
       "                   multi_class='auto', n_jobs=None, penalty='l2',\n",
       "                   random_state=None, solver='lbfgs', tol=0.0001, verbose=0,\n",
       "                   warm_start=False)"
      ]
     },
     "execution_count": 16,
     "metadata": {},
     "output_type": "execute_result"
    }
   ],
   "source": [
    "mod_lr = LogisticRegression()\n",
    "mod_lr.fit(X_train, y_train)\n"
   ]
  },
  {
   "cell_type": "code",
   "execution_count": 17,
   "id": "39a0be9b",
   "metadata": {},
   "outputs": [
    {
     "data": {
      "text/plain": [
       "array([0, 0, 0, 0, 0, 0, 0, 0, 0, 1, 0, 1, 0, 0, 0, 0, 0, 0, 0, 0, 0, 0,\n",
       "       0, 1, 0, 0, 0, 0, 0, 0, 0, 0, 0, 0, 1, 0, 0, 1, 0, 0, 0, 0, 0, 0,\n",
       "       0, 0, 0, 0, 0, 0, 0, 0, 0, 0, 0, 0, 0, 0, 0, 0, 0, 0, 0, 0, 0, 0,\n",
       "       0, 0, 0, 1, 0, 0, 0, 0, 1, 0, 0, 0, 0, 0, 0, 0, 0, 0, 0, 0, 0, 0,\n",
       "       0, 0, 0, 0, 0, 0, 0, 0, 0, 0, 0, 0, 1, 0, 0, 0, 0, 0, 0, 0, 0, 0,\n",
       "       0, 0, 0, 0, 0, 0, 0, 0, 0, 0, 0, 0, 0, 0, 0, 0, 0, 0, 0, 0, 0, 0,\n",
       "       0, 0, 0, 0, 1, 1, 0, 0, 0, 0, 0, 0, 0, 0, 0, 0, 0, 0, 0],\n",
       "      dtype=int64)"
      ]
     },
     "execution_count": 17,
     "metadata": {},
     "output_type": "execute_result"
    }
   ],
   "source": [
    "y_pred = mod_lr.predict(X_test)\n",
    "y_pred\n"
   ]
  },
  {
   "cell_type": "code",
   "execution_count": 18,
   "id": "4459771f",
   "metadata": {},
   "outputs": [
    {
     "name": "stdout",
     "output_type": "stream",
     "text": [
      "Accuracy: 86.75496688741721\n"
     ]
    }
   ],
   "source": [
    "print('Accuracy:', mod_lr.score(X_test, y_test)*100)\n"
   ]
  },
  {
   "attachments": {},
   "cell_type": "markdown",
   "id": "102a9e02",
   "metadata": {},
   "source": [
    "## **4. EVALUACIÓN DEL MODELO:**\n"
   ]
  },
  {
   "attachments": {},
   "cell_type": "markdown",
   "id": "0662e22b",
   "metadata": {
    "id": "I2hbFtjOwWQh"
   },
   "source": [
    "Para evaluar el modelo a los datos de prueba se usará el **área bajo la curva ROC**, ROC es un acrónimo que viene del inglés Receiver Operating Characteristic (Característica Operativa del Receptor). Es una gráfica que enfrenta el ratio de falsos positivos (eje x) con el ratio de falsos negativos (eje y). Estos ratios los va obteniendo en función de una serie de umbrales definidos entre 0 y 1. En palabras comunes y referenciando al ejemplo anterior, enfrenta la **falsa alarma** vs la tasa de éxito.\n",
    "La curva ROC es útil por dos principales motivos:\n",
    "\n",
    "- Permite comparar diferentes modelos para identificar cual otorga mejor rendimiento como clasificador.\n",
    "- El área debajo de la curva (AUC) puede ser utilizado como resumen de la calidad del modelo.\n"
   ]
  },
  {
   "attachments": {
    "image.png": {
     "image/png": "[encoded data removed]"
    }
   },
   "cell_type": "markdown",
   "id": "ed631d55",
   "metadata": {},
   "source": [
    "![image.png](attachment:image.png)\n"
   ]
  },
  {
   "cell_type": "code",
   "execution_count": 19,
   "id": "6a48dfff",
   "metadata": {
    "colab": {
     "base_uri": "https://localhost:8080/"
    },
    "id": "bU0Ss2i0witW",
    "outputId": "bb98914c-0f83-411e-fe10-a6751e3a3939"
   },
   "outputs": [],
   "source": [
    "y_pred_prob = mod_lr.predict_proba(X_test)\n",
    "y_pred_prob = y_pred_prob[:, 1]\n",
    "auc = metrics.roc_auc_score(y_test, y_pred_prob)\n"
   ]
  },
  {
   "cell_type": "code",
   "execution_count": 20,
   "id": "9423edf3",
   "metadata": {},
   "outputs": [
    {
     "name": "stdout",
     "output_type": "stream",
     "text": [
      "AUC: 86.54855643044618\n"
     ]
    }
   ],
   "source": [
    "print(\"AUC:\", auc*100)\n"
   ]
  },
  {
   "attachments": {},
   "cell_type": "markdown",
   "id": "81bf8c7d",
   "metadata": {
    "id": "1WGFd_HQxffs"
   },
   "source": [
    "La curva de característica operativa del receptor (ROC) es una gráfica de la tasa de positivos verdaderos contra la tasa de falsos positivos. Muestra la compensación entre sensibilidad y especificidad, la gráfica de la curva quedaría de la siguiente forma. El valor AUC se utiliza como resumen del rendimiento del modelo. Cuanto más esté hacia la izquierda la curva, más área habrá contenida bajo ella y por ende, mejor será el clasificador. El clasificador sin entrenar tendría una AUC de **50%** mientras que el clasificador perfecto tendría un AUC de 1, pero en nuestro caso supera el **82%**, que es lo minimo que se espera.\n"
   ]
  },
  {
   "cell_type": "code",
   "execution_count": 21,
   "id": "e7a80c5f",
   "metadata": {
    "colab": {
     "base_uri": "https://localhost:8080/",
     "height": 265
    },
    "id": "k1060Us0xmj8",
    "outputId": "a0bf3686-ef46-495f-ce85-e501e99955b4"
   },
   "outputs": [
    {
     "data": {
      "image/png": "[encoded data removed]",
      "text/plain": [
       "<Figure size 432x288 with 1 Axes>"
      ]
     },
     "metadata": {
      "needs_background": "light"
     },
     "output_type": "display_data"
    }
   ],
   "source": [
    "ns_probs = [0 for _ in range(len(y_test))]\n",
    "ns_fpr, ns_tpr, _ = metrics.roc_curve(y_test, ns_probs)\n",
    "fpr, tpr, _ = metrics.roc_curve(y_test, y_pred_prob)\n",
    "plt.plot(fpr, tpr, marker='.', label=\"AUC=\"+str(auc*100)+\"%\")\n",
    "plt.plot(ns_fpr, ns_tpr, linestyle='--', label='Sin entrenar')\n",
    "plt.xlabel('Tasa de Falsos Positivos')\n",
    "plt.ylabel('Tasa de Verdaderos Positivos')\n",
    "plt.title('ROC CURVE')\n",
    "plt.legend()\n",
    "plt.show()\n"
   ]
  },
  {
   "attachments": {},
   "cell_type": "markdown",
   "id": "72e5de52",
   "metadata": {},
   "source": [
    "Cumplimos con la evaluación designada del punto cuatro, superando el **AUC del 82%** de lo antes evaluado. Por lo que nuestro modelo es capaz de predecir con una buena precisión si una persona en la red de correo electrónico recibe un salario de posición directiva o no. Esto podría tener implicaciones importantes como por ejemplo, en la gestión de recursos humanos de la compañía, ya que permitiría identificar de manera más eficiente a aquellos empleados que podrían ser considerados para posiciones de liderazgo.\n"
   ]
  },
  {
   "attachments": {},
   "cell_type": "markdown",
   "id": "aa2f7ca6",
   "metadata": {
    "id": "e7774da5"
   },
   "source": [
    "# SEGUNDA PARTE:\n",
    "\n",
    "En la última parte de esta práctica vas a predecir las futuras conexiones enyte los empleados de la red. La información de la formación de tales conexiones se encuentra en el archivo `future_connections`, cuyo índice es una dupla de nodos que no están conectados actualmente. La columna `Future Connection` indica si en el futuro se establecerá una arista entre ambos nodos (el valor de 1.0 indica una futura conexión).\n"
   ]
  },
  {
   "cell_type": "code",
   "execution_count": 22,
   "id": "c935454c",
   "metadata": {
    "colab": {
     "base_uri": "https://localhost:8080/",
     "height": 363
    },
    "id": "7102eda9",
    "outputId": "42972cab-1382-4137-a0c7-5c01663ea8e8"
   },
   "outputs": [
    {
     "data": {
      "text/html": [
       "<div>\n",
       "<style scoped>\n",
       "    .dataframe tbody tr th:only-of-type {\n",
       "        vertical-align: middle;\n",
       "    }\n",
       "\n",
       "    .dataframe tbody tr th {\n",
       "        vertical-align: top;\n",
       "    }\n",
       "\n",
       "    .dataframe thead th {\n",
       "        text-align: right;\n",
       "    }\n",
       "</style>\n",
       "<table border=\"1\" class=\"dataframe\">\n",
       "  <thead>\n",
       "    <tr style=\"text-align: right;\">\n",
       "      <th></th>\n",
       "      <th>Future Connection</th>\n",
       "    </tr>\n",
       "  </thead>\n",
       "  <tbody>\n",
       "    <tr>\n",
       "      <th>(6, 840)</th>\n",
       "      <td>0.0</td>\n",
       "    </tr>\n",
       "    <tr>\n",
       "      <th>(4, 197)</th>\n",
       "      <td>0.0</td>\n",
       "    </tr>\n",
       "    <tr>\n",
       "      <th>(620, 979)</th>\n",
       "      <td>0.0</td>\n",
       "    </tr>\n",
       "    <tr>\n",
       "      <th>(519, 872)</th>\n",
       "      <td>0.0</td>\n",
       "    </tr>\n",
       "    <tr>\n",
       "      <th>(382, 423)</th>\n",
       "      <td>0.0</td>\n",
       "    </tr>\n",
       "    <tr>\n",
       "      <th>(97, 226)</th>\n",
       "      <td>1.0</td>\n",
       "    </tr>\n",
       "    <tr>\n",
       "      <th>(349, 905)</th>\n",
       "      <td>0.0</td>\n",
       "    </tr>\n",
       "    <tr>\n",
       "      <th>(429, 860)</th>\n",
       "      <td>0.0</td>\n",
       "    </tr>\n",
       "    <tr>\n",
       "      <th>(309, 989)</th>\n",
       "      <td>0.0</td>\n",
       "    </tr>\n",
       "    <tr>\n",
       "      <th>(468, 880)</th>\n",
       "      <td>0.0</td>\n",
       "    </tr>\n",
       "  </tbody>\n",
       "</table>\n",
       "</div>"
      ],
      "text/plain": [
       "            Future Connection\n",
       "(6, 840)                  0.0\n",
       "(4, 197)                  0.0\n",
       "(620, 979)                0.0\n",
       "(519, 872)                0.0\n",
       "(382, 423)                0.0\n",
       "(97, 226)                 1.0\n",
       "(349, 905)                0.0\n",
       "(429, 860)                0.0\n",
       "(309, 989)                0.0\n",
       "(468, 880)                0.0"
      ]
     },
     "execution_count": 22,
     "metadata": {},
     "output_type": "execute_result"
    }
   ],
   "source": [
    "df_p2 = pd.read_csv('Future_Connections.csv',\n",
    "                    index_col=0, converters={0: eval})\n",
    "df_p2.head(10)\n"
   ]
  },
  {
   "attachments": {},
   "cell_type": "markdown",
   "id": "f6433ebe",
   "metadata": {
    "id": "87aa24e4"
   },
   "source": [
    "## Instrucciones [segunda parte]\n",
    "\n",
    "Utiliza la reg `G` (de la primera parte) y `future_connections` para que construyas un modelo que identifique cuáles parejas de nodos en `future_connections` estarán conectados en el futuro.\n",
    "\n",
    "Para lograrlo, deberás crear una matriz con métricas que caractericen a las aristas de `future_connections` utilizando networkx.\n",
    "\n",
    "1. Elimina los casos en que la variable de respuesta no se encuentre registrada.\n",
    "2. Evalúa las características de las parejas de nodos del archivo `future_connections`.\n",
    "3. Separa los datos en subconjuntos de entrenamiento y prueba.\n",
    "4. Ajusta un modelo adecuado para predecir la formación de enlaces.\n",
    "5. Evalúa la calidad del modelo sobre el conjunto de prueba usando el área bajo la curva (tu modelo debe tener por lo menos un AUC de $0.82$ evaluada sobre el conjunto de prueba).\n"
   ]
  },
  {
   "attachments": {},
   "cell_type": "markdown",
   "id": "0cbfb935",
   "metadata": {},
   "source": [
    "## DEFINICIÓN DE MÉTRICAS:\n"
   ]
  },
  {
   "cell_type": "code",
   "execution_count": 24,
   "id": "b07d8277",
   "metadata": {},
   "outputs": [],
   "source": [
    "def get_values(pairs):\n",
    "    return [i[2] for i in pairs]\n"
   ]
  },
  {
   "attachments": {},
   "cell_type": "markdown",
   "id": "d509ce8e",
   "metadata": {
    "id": "GGJX0eBu9bMB"
   },
   "source": [
    "Las métricas que se pueden calcular en una red y que se han utilizado para caracterizar las aristas de la red `future_connections` son:\n",
    "\n",
    "- **Vecinos comunes:** Es el número de vecinos comunes que tienen dos nodos. Si dos nodos tienen muchos vecinos comunes, es más probable que estén conectados en la red.\n"
   ]
  },
  {
   "cell_type": "code",
   "execution_count": 25,
   "id": "2076beb1",
   "metadata": {},
   "outputs": [],
   "source": [
    "def common_neighbors(g):\n",
    "    comm_neigh = [(e[0], e[1], len(list(nx.common_neighbors(g, e[0], e[1]))))\n",
    "                  for e in nx.non_edges(g)]\n",
    "    return get_values(comm_neigh)\n"
   ]
  },
  {
   "attachments": {},
   "cell_type": "markdown",
   "id": "0811c45a",
   "metadata": {},
   "source": [
    "- **Coeficiente de Jaccard:** Mide la similitud entre dos conjuntos. En el contexto de una red, se utiliza para medir la similitud entre los vecinos de dos nodos. El coeficiente de Jaccard es mayor si dos nodos tienen vecinos similares y, por lo tanto, es más probable que estén conectados.\n"
   ]
  },
  {
   "cell_type": "code",
   "execution_count": 26,
   "id": "fe28c7a7",
   "metadata": {},
   "outputs": [],
   "source": [
    "def jaccard_coefficient(g):\n",
    "    jacc = list(nx.jaccard_coefficient(g))\n",
    "    return get_values(jacc)\n"
   ]
  },
  {
   "attachments": {},
   "cell_type": "markdown",
   "id": "71605480",
   "metadata": {},
   "source": [
    "- **Distribución de recursos:** Mide la cantidad de recursos (por ejemplo, dinero, información) que fluye a través de una arista en la red. Esta métrica se utiliza para predecir la probabilidad de que una arista se forme en la red.\n"
   ]
  },
  {
   "cell_type": "code",
   "execution_count": 27,
   "id": "879dbda9",
   "metadata": {},
   "outputs": [],
   "source": [
    "def resource_allocation(g):\n",
    "    res = list(nx.resource_allocation_index(g))\n",
    "    return get_values(res)\n"
   ]
  },
  {
   "attachments": {},
   "cell_type": "markdown",
   "id": "4a3adf65",
   "metadata": {},
   "source": [
    "- **Índice Adamic-Adar:** Se basa en la idea de que los vecinos con pocos vecinos comunes son más importantes que los vecinos con muchos vecinos comunes. Por lo tanto, esta métrica da más peso a los vecinos comunes que son raros en la red.\n"
   ]
  },
  {
   "cell_type": "code",
   "execution_count": 28,
   "id": "9ee470c6",
   "metadata": {},
   "outputs": [],
   "source": [
    "def adamic_adar(g):\n",
    "    adamic_adar = list(nx.adamic_adar_index(g))\n",
    "    return get_values(adamic_adar)\n"
   ]
  },
  {
   "attachments": {},
   "cell_type": "markdown",
   "id": "1ddf9bb3",
   "metadata": {},
   "source": [
    "- **Enlace preferencial:** Se basa en la idea de que los nodos con muchos vecinos tienen más probabilidades de ser conectados con nuevos nodos. Esta métrica se utiliza para predecir la probabilidad de que una arista se forme en la red.\n"
   ]
  },
  {
   "cell_type": "code",
   "execution_count": 29,
   "id": "4fd9f8da",
   "metadata": {
    "id": "d3b0c6f4"
   },
   "outputs": [],
   "source": [
    "def preferential_attachment(g):\n",
    "    pref = list(nx.preferential_attachment(g))\n",
    "    return get_values(pref)\n"
   ]
  },
  {
   "attachments": {},
   "cell_type": "markdown",
   "id": "725b9973",
   "metadata": {},
   "source": [
    "## **EVALUACIÓN DE LAS CARACTERÍSTICAS:**\n"
   ]
  },
  {
   "cell_type": "code",
   "execution_count": 30,
   "id": "255e2e86",
   "metadata": {
    "colab": {
     "base_uri": "https://localhost:8080/",
     "height": 354
    },
    "id": "9L3uB_e8DWrK",
    "outputId": "b21bbc35-fea0-4e97-cce9-078a023e775c"
   },
   "outputs": [
    {
     "data": {
      "text/html": [
       "<div>\n",
       "<style scoped>\n",
       "    .dataframe tbody tr th:only-of-type {\n",
       "        vertical-align: middle;\n",
       "    }\n",
       "\n",
       "    .dataframe tbody tr th {\n",
       "        vertical-align: top;\n",
       "    }\n",
       "\n",
       "    .dataframe thead th {\n",
       "        text-align: right;\n",
       "    }\n",
       "</style>\n",
       "<table border=\"1\" class=\"dataframe\">\n",
       "  <thead>\n",
       "    <tr style=\"text-align: right;\">\n",
       "      <th></th>\n",
       "      <th>Future Connection</th>\n",
       "      <th>common_neighbors</th>\n",
       "      <th>jacc_coef</th>\n",
       "      <th>res_alloc</th>\n",
       "      <th>adamic_adar</th>\n",
       "      <th>pref_attach</th>\n",
       "    </tr>\n",
       "  </thead>\n",
       "  <tbody>\n",
       "    <tr>\n",
       "      <th>(0, 2)</th>\n",
       "      <td>0.0</td>\n",
       "      <td>6</td>\n",
       "      <td>0.045802</td>\n",
       "      <td>0.055340</td>\n",
       "      <td>1.257626</td>\n",
       "      <td>4180</td>\n",
       "    </tr>\n",
       "    <tr>\n",
       "      <th>(0, 3)</th>\n",
       "      <td>0.0</td>\n",
       "      <td>3</td>\n",
       "      <td>0.027273</td>\n",
       "      <td>0.021388</td>\n",
       "      <td>0.605728</td>\n",
       "      <td>3124</td>\n",
       "    </tr>\n",
       "    <tr>\n",
       "      <th>(0, 4)</th>\n",
       "      <td>0.0</td>\n",
       "      <td>3</td>\n",
       "      <td>0.022222</td>\n",
       "      <td>0.021388</td>\n",
       "      <td>0.605728</td>\n",
       "      <td>4224</td>\n",
       "    </tr>\n",
       "    <tr>\n",
       "      <th>(0, 7)</th>\n",
       "      <td>0.0</td>\n",
       "      <td>4</td>\n",
       "      <td>0.036364</td>\n",
       "      <td>0.061668</td>\n",
       "      <td>0.938816</td>\n",
       "      <td>3168</td>\n",
       "    </tr>\n",
       "    <tr>\n",
       "      <th>(0, 8)</th>\n",
       "      <td>0.0</td>\n",
       "      <td>1</td>\n",
       "      <td>0.012821</td>\n",
       "      <td>0.011628</td>\n",
       "      <td>0.224500</td>\n",
       "      <td>1628</td>\n",
       "    </tr>\n",
       "    <tr>\n",
       "      <th>(0, 9)</th>\n",
       "      <td>NaN</td>\n",
       "      <td>2</td>\n",
       "      <td>0.025000</td>\n",
       "      <td>0.041931</td>\n",
       "      <td>0.510499</td>\n",
       "      <td>1760</td>\n",
       "    </tr>\n",
       "    <tr>\n",
       "      <th>(0, 10)</th>\n",
       "      <td>0.0</td>\n",
       "      <td>1</td>\n",
       "      <td>0.011236</td>\n",
       "      <td>0.005882</td>\n",
       "      <td>0.194712</td>\n",
       "      <td>2068</td>\n",
       "    </tr>\n",
       "    <tr>\n",
       "      <th>(0, 11)</th>\n",
       "      <td>0.0</td>\n",
       "      <td>4</td>\n",
       "      <td>0.035088</td>\n",
       "      <td>0.053661</td>\n",
       "      <td>0.899701</td>\n",
       "      <td>3344</td>\n",
       "    </tr>\n",
       "    <tr>\n",
       "      <th>(0, 12)</th>\n",
       "      <td>0.0</td>\n",
       "      <td>4</td>\n",
       "      <td>0.041667</td>\n",
       "      <td>0.065762</td>\n",
       "      <td>0.953236</td>\n",
       "      <td>2552</td>\n",
       "    </tr>\n",
       "    <tr>\n",
       "      <th>(0, 13)</th>\n",
       "      <td>0.0</td>\n",
       "      <td>7</td>\n",
       "      <td>0.032558</td>\n",
       "      <td>0.199248</td>\n",
       "      <td>1.943251</td>\n",
       "      <td>7920</td>\n",
       "    </tr>\n",
       "  </tbody>\n",
       "</table>\n",
       "</div>"
      ],
      "text/plain": [
       "         Future Connection  common_neighbors  jacc_coef  res_alloc  \\\n",
       "(0, 2)                 0.0                 6   0.045802   0.055340   \n",
       "(0, 3)                 0.0                 3   0.027273   0.021388   \n",
       "(0, 4)                 0.0                 3   0.022222   0.021388   \n",
       "(0, 7)                 0.0                 4   0.036364   0.061668   \n",
       "(0, 8)                 0.0                 1   0.012821   0.011628   \n",
       "(0, 9)                 NaN                 2   0.025000   0.041931   \n",
       "(0, 10)                0.0                 1   0.011236   0.005882   \n",
       "(0, 11)                0.0                 4   0.035088   0.053661   \n",
       "(0, 12)                0.0                 4   0.041667   0.065762   \n",
       "(0, 13)                0.0                 7   0.032558   0.199248   \n",
       "\n",
       "         adamic_adar  pref_attach  \n",
       "(0, 2)      1.257626         4180  \n",
       "(0, 3)      0.605728         3124  \n",
       "(0, 4)      0.605728         4224  \n",
       "(0, 7)      0.938816         3168  \n",
       "(0, 8)      0.224500         1628  \n",
       "(0, 9)      0.510499         1760  \n",
       "(0, 10)     0.194712         2068  \n",
       "(0, 11)     0.899701         3344  \n",
       "(0, 12)     0.953236         2552  \n",
       "(0, 13)     1.943251         7920  "
      ]
     },
     "execution_count": 30,
     "metadata": {},
     "output_type": "execute_result"
    }
   ],
   "source": [
    "df_p2.sort_index(inplace=True)\n",
    "df_p2['common_neighbors'] = common_neighbors(G)\n",
    "df_p2['jacc_coef'] = jaccard_coefficient(G)\n",
    "df_p2['res_alloc'] = resource_allocation(G)\n",
    "df_p2['adamic_adar'] = adamic_adar(G)\n",
    "df_p2['pref_attach'] = preferential_attachment(G)\n",
    "df_p2.head(10)\n"
   ]
  },
  {
   "attachments": {},
   "cell_type": "markdown",
   "id": "a37c33a5",
   "metadata": {},
   "source": [
    "Total de datos antes del filtrado del DataFrame.\n"
   ]
  },
  {
   "cell_type": "code",
   "execution_count": 31,
   "id": "5cf52862",
   "metadata": {},
   "outputs": [
    {
     "data": {
      "text/plain": [
       "488446"
      ]
     },
     "execution_count": 31,
     "metadata": {},
     "output_type": "execute_result"
    }
   ],
   "source": [
    "len(df_p2)\n"
   ]
  },
  {
   "attachments": {},
   "cell_type": "markdown",
   "id": "c7db6cf3",
   "metadata": {},
   "source": [
    "## **1. ELIMINAMOS LOS QUE CONTENGAN UN VALOR NAN:**\n"
   ]
  },
  {
   "attachments": {},
   "cell_type": "markdown",
   "id": "ffc3dd8a",
   "metadata": {
    "id": "gCET69T4FThc"
   },
   "source": [
    "Eliminación de los registros cuya variable de respuesta sea **nan**.\n"
   ]
  },
  {
   "cell_type": "code",
   "execution_count": 32,
   "id": "9c293aea",
   "metadata": {
    "colab": {
     "base_uri": "https://localhost:8080/"
    },
    "id": "qgiULjpJE-Nx",
    "outputId": "dc667fb9-7df2-41e7-dd68-13bb60994aa5"
   },
   "outputs": [
    {
     "data": {
      "text/html": [
       "<div>\n",
       "<style scoped>\n",
       "    .dataframe tbody tr th:only-of-type {\n",
       "        vertical-align: middle;\n",
       "    }\n",
       "\n",
       "    .dataframe tbody tr th {\n",
       "        vertical-align: top;\n",
       "    }\n",
       "\n",
       "    .dataframe thead th {\n",
       "        text-align: right;\n",
       "    }\n",
       "</style>\n",
       "<table border=\"1\" class=\"dataframe\">\n",
       "  <thead>\n",
       "    <tr style=\"text-align: right;\">\n",
       "      <th></th>\n",
       "      <th>Future Connection</th>\n",
       "      <th>common_neighbors</th>\n",
       "      <th>jacc_coef</th>\n",
       "      <th>res_alloc</th>\n",
       "      <th>adamic_adar</th>\n",
       "      <th>pref_attach</th>\n",
       "    </tr>\n",
       "  </thead>\n",
       "  <tbody>\n",
       "    <tr>\n",
       "      <th>(0, 2)</th>\n",
       "      <td>0.0</td>\n",
       "      <td>6</td>\n",
       "      <td>0.045802</td>\n",
       "      <td>0.055340</td>\n",
       "      <td>1.257626</td>\n",
       "      <td>4180</td>\n",
       "    </tr>\n",
       "    <tr>\n",
       "      <th>(0, 3)</th>\n",
       "      <td>0.0</td>\n",
       "      <td>3</td>\n",
       "      <td>0.027273</td>\n",
       "      <td>0.021388</td>\n",
       "      <td>0.605728</td>\n",
       "      <td>3124</td>\n",
       "    </tr>\n",
       "    <tr>\n",
       "      <th>(0, 4)</th>\n",
       "      <td>0.0</td>\n",
       "      <td>3</td>\n",
       "      <td>0.022222</td>\n",
       "      <td>0.021388</td>\n",
       "      <td>0.605728</td>\n",
       "      <td>4224</td>\n",
       "    </tr>\n",
       "    <tr>\n",
       "      <th>(0, 7)</th>\n",
       "      <td>0.0</td>\n",
       "      <td>4</td>\n",
       "      <td>0.036364</td>\n",
       "      <td>0.061668</td>\n",
       "      <td>0.938816</td>\n",
       "      <td>3168</td>\n",
       "    </tr>\n",
       "    <tr>\n",
       "      <th>(0, 8)</th>\n",
       "      <td>0.0</td>\n",
       "      <td>1</td>\n",
       "      <td>0.012821</td>\n",
       "      <td>0.011628</td>\n",
       "      <td>0.224500</td>\n",
       "      <td>1628</td>\n",
       "    </tr>\n",
       "    <tr>\n",
       "      <th>(0, 10)</th>\n",
       "      <td>0.0</td>\n",
       "      <td>1</td>\n",
       "      <td>0.011236</td>\n",
       "      <td>0.005882</td>\n",
       "      <td>0.194712</td>\n",
       "      <td>2068</td>\n",
       "    </tr>\n",
       "    <tr>\n",
       "      <th>(0, 11)</th>\n",
       "      <td>0.0</td>\n",
       "      <td>4</td>\n",
       "      <td>0.035088</td>\n",
       "      <td>0.053661</td>\n",
       "      <td>0.899701</td>\n",
       "      <td>3344</td>\n",
       "    </tr>\n",
       "    <tr>\n",
       "      <th>(0, 12)</th>\n",
       "      <td>0.0</td>\n",
       "      <td>4</td>\n",
       "      <td>0.041667</td>\n",
       "      <td>0.065762</td>\n",
       "      <td>0.953236</td>\n",
       "      <td>2552</td>\n",
       "    </tr>\n",
       "    <tr>\n",
       "      <th>(0, 13)</th>\n",
       "      <td>0.0</td>\n",
       "      <td>7</td>\n",
       "      <td>0.032558</td>\n",
       "      <td>0.199248</td>\n",
       "      <td>1.943251</td>\n",
       "      <td>7920</td>\n",
       "    </tr>\n",
       "    <tr>\n",
       "      <th>(0, 14)</th>\n",
       "      <td>1.0</td>\n",
       "      <td>11</td>\n",
       "      <td>0.099099</td>\n",
       "      <td>0.177760</td>\n",
       "      <td>2.635144</td>\n",
       "      <td>3520</td>\n",
       "    </tr>\n",
       "  </tbody>\n",
       "</table>\n",
       "</div>"
      ],
      "text/plain": [
       "         Future Connection  common_neighbors  jacc_coef  res_alloc  \\\n",
       "(0, 2)                 0.0                 6   0.045802   0.055340   \n",
       "(0, 3)                 0.0                 3   0.027273   0.021388   \n",
       "(0, 4)                 0.0                 3   0.022222   0.021388   \n",
       "(0, 7)                 0.0                 4   0.036364   0.061668   \n",
       "(0, 8)                 0.0                 1   0.012821   0.011628   \n",
       "(0, 10)                0.0                 1   0.011236   0.005882   \n",
       "(0, 11)                0.0                 4   0.035088   0.053661   \n",
       "(0, 12)                0.0                 4   0.041667   0.065762   \n",
       "(0, 13)                0.0                 7   0.032558   0.199248   \n",
       "(0, 14)                1.0                11   0.099099   0.177760   \n",
       "\n",
       "         adamic_adar  pref_attach  \n",
       "(0, 2)      1.257626         4180  \n",
       "(0, 3)      0.605728         3124  \n",
       "(0, 4)      0.605728         4224  \n",
       "(0, 7)      0.938816         3168  \n",
       "(0, 8)      0.224500         1628  \n",
       "(0, 10)     0.194712         2068  \n",
       "(0, 11)     0.899701         3344  \n",
       "(0, 12)     0.953236         2552  \n",
       "(0, 13)     1.943251         7920  \n",
       "(0, 14)     2.635144         3520  "
      ]
     },
     "execution_count": 32,
     "metadata": {},
     "output_type": "execute_result"
    }
   ],
   "source": [
    "nan = df_p2['Future Connection'].isnull()\n",
    "# Filtramos las filas que no tienen valores faltantes\n",
    "df_p2 = df_p2.loc[~nan]\n",
    "df_p2.head(10)\n"
   ]
  },
  {
   "cell_type": "code",
   "execution_count": 33,
   "id": "2a80e290",
   "metadata": {},
   "outputs": [
    {
     "data": {
      "text/plain": [
       "366334"
      ]
     },
     "execution_count": 33,
     "metadata": {},
     "output_type": "execute_result"
    }
   ],
   "source": [
    "len(df_p2)\n"
   ]
  },
  {
   "attachments": {},
   "cell_type": "markdown",
   "id": "c88a7064",
   "metadata": {},
   "source": [
    "Podemos visualizar que disminuyo la cantidad de datos a analizar pasando de **488,446** a **366,334**.\n"
   ]
  },
  {
   "attachments": {},
   "cell_type": "markdown",
   "id": "1a929c3f",
   "metadata": {
    "id": "rz3eautAGfAY"
   },
   "source": [
    "## **2. SUBCONJUNTO DE PRUEBA Y ENTRENAMIENTO:**\n"
   ]
  },
  {
   "attachments": {},
   "cell_type": "markdown",
   "id": "fd35ac7c",
   "metadata": {},
   "source": [
    "Dividiremos el conjunto de datos en un conjunto de entrenamiento y un conjunto de pruebas, separando los datos en **80% en train** y el **20% en test**.\n"
   ]
  },
  {
   "cell_type": "code",
   "execution_count": 45,
   "id": "bf515090",
   "metadata": {
    "colab": {
     "base_uri": "https://localhost:8080/",
     "height": 206
    },
    "id": "3nVIwCKgGwSf",
    "outputId": "4a8523e8-8a39-4844-e6c2-300ec31c4e78"
   },
   "outputs": [],
   "source": [
    "col_X = list(df_p2.columns)\n",
    "col_y = 'Future Connection'\n",
    "col_X.remove(col_y)\n"
   ]
  },
  {
   "cell_type": "code",
   "execution_count": 46,
   "id": "f3769b92",
   "metadata": {},
   "outputs": [
    {
     "data": {
      "text/plain": [
       "['common_neighbors', 'jacc_coef', 'res_alloc', 'adamic_adar', 'pref_attach']"
      ]
     },
     "execution_count": 46,
     "metadata": {},
     "output_type": "execute_result"
    }
   ],
   "source": [
    "col_X\n"
   ]
  },
  {
   "cell_type": "code",
   "execution_count": 47,
   "id": "dd808a61",
   "metadata": {},
   "outputs": [
    {
     "data": {
      "text/plain": [
       "'Future Connection'"
      ]
     },
     "execution_count": 47,
     "metadata": {},
     "output_type": "execute_result"
    }
   ],
   "source": [
    "col_y\n"
   ]
  },
  {
   "cell_type": "code",
   "execution_count": 35,
   "id": "eec49ce9",
   "metadata": {},
   "outputs": [
    {
     "data": {
      "text/plain": [
       "(0, 2)    0\n",
       "(0, 3)    0\n",
       "(0, 4)    0\n",
       "(0, 7)    0\n",
       "(0, 8)    0\n",
       "Name: Future Connection, dtype: int32"
      ]
     },
     "execution_count": 35,
     "metadata": {},
     "output_type": "execute_result"
    }
   ],
   "source": [
    "# Sí queremos podemos evaluara con enteros en lugar de flotantes\n",
    "df_p2[col_y] = df_p2[col_y].astype(int)\n",
    "y = df_p2[col_y]\n",
    "y.head()\n"
   ]
  },
  {
   "cell_type": "code",
   "execution_count": 36,
   "id": "bfb10f2f",
   "metadata": {},
   "outputs": [
    {
     "data": {
      "text/html": [
       "<div>\n",
       "<style scoped>\n",
       "    .dataframe tbody tr th:only-of-type {\n",
       "        vertical-align: middle;\n",
       "    }\n",
       "\n",
       "    .dataframe tbody tr th {\n",
       "        vertical-align: top;\n",
       "    }\n",
       "\n",
       "    .dataframe thead th {\n",
       "        text-align: right;\n",
       "    }\n",
       "</style>\n",
       "<table border=\"1\" class=\"dataframe\">\n",
       "  <thead>\n",
       "    <tr style=\"text-align: right;\">\n",
       "      <th></th>\n",
       "      <th>common_neighbors</th>\n",
       "      <th>jacc_coef</th>\n",
       "      <th>res_alloc</th>\n",
       "      <th>adamic_adar</th>\n",
       "      <th>pref_attach</th>\n",
       "    </tr>\n",
       "  </thead>\n",
       "  <tbody>\n",
       "    <tr>\n",
       "      <th>(0, 2)</th>\n",
       "      <td>6</td>\n",
       "      <td>0.045802</td>\n",
       "      <td>0.055340</td>\n",
       "      <td>1.257626</td>\n",
       "      <td>4180</td>\n",
       "    </tr>\n",
       "    <tr>\n",
       "      <th>(0, 3)</th>\n",
       "      <td>3</td>\n",
       "      <td>0.027273</td>\n",
       "      <td>0.021388</td>\n",
       "      <td>0.605728</td>\n",
       "      <td>3124</td>\n",
       "    </tr>\n",
       "    <tr>\n",
       "      <th>(0, 4)</th>\n",
       "      <td>3</td>\n",
       "      <td>0.022222</td>\n",
       "      <td>0.021388</td>\n",
       "      <td>0.605728</td>\n",
       "      <td>4224</td>\n",
       "    </tr>\n",
       "    <tr>\n",
       "      <th>(0, 7)</th>\n",
       "      <td>4</td>\n",
       "      <td>0.036364</td>\n",
       "      <td>0.061668</td>\n",
       "      <td>0.938816</td>\n",
       "      <td>3168</td>\n",
       "    </tr>\n",
       "    <tr>\n",
       "      <th>(0, 8)</th>\n",
       "      <td>1</td>\n",
       "      <td>0.012821</td>\n",
       "      <td>0.011628</td>\n",
       "      <td>0.224500</td>\n",
       "      <td>1628</td>\n",
       "    </tr>\n",
       "  </tbody>\n",
       "</table>\n",
       "</div>"
      ],
      "text/plain": [
       "        common_neighbors  jacc_coef  res_alloc  adamic_adar  pref_attach\n",
       "(0, 2)                 6   0.045802   0.055340     1.257626         4180\n",
       "(0, 3)                 3   0.027273   0.021388     0.605728         3124\n",
       "(0, 4)                 3   0.022222   0.021388     0.605728         4224\n",
       "(0, 7)                 4   0.036364   0.061668     0.938816         3168\n",
       "(0, 8)                 1   0.012821   0.011628     0.224500         1628"
      ]
     },
     "execution_count": 36,
     "metadata": {},
     "output_type": "execute_result"
    }
   ],
   "source": [
    "X = df_p2[col_X]\n",
    "X.head()\n"
   ]
  },
  {
   "cell_type": "code",
   "execution_count": 37,
   "id": "e435786a",
   "metadata": {
    "id": "DoG6R6VzHXJ4"
   },
   "outputs": [],
   "source": [
    "X_train_p2, X_test_p2, y_train_p2, y_test_p2 = train_test_split(\n",
    "    X, y, test_size=0.2, random_state=0)\n"
   ]
  },
  {
   "attachments": {},
   "cell_type": "markdown",
   "id": "4b0bfa6f",
   "metadata": {},
   "source": [
    "## **3. CREACIÓN Y AJUSTE DEL MODELO DE APRENDIZAJE:**\n"
   ]
  },
  {
   "attachments": {},
   "cell_type": "markdown",
   "id": "1598c9b6",
   "metadata": {
    "id": "LFX9fUq2HnJq"
   },
   "source": [
    "Como en la práctica anterior, aquí tambien los datos evaluados son binarios, por lo que se optará por el modelo de **Regresión Logística**.\n"
   ]
  },
  {
   "cell_type": "code",
   "execution_count": 38,
   "id": "ac97d930",
   "metadata": {
    "colab": {
     "base_uri": "https://localhost:8080/"
    },
    "id": "r9UiLcTJHyfk",
    "outputId": "8578b5c2-2978-4b9f-b4e5-ffbdd51de15d"
   },
   "outputs": [
    {
     "data": {
      "text/plain": [
       "LogisticRegression(C=1.0, class_weight=None, dual=False, fit_intercept=True,\n",
       "                   intercept_scaling=1, l1_ratio=None, max_iter=100,\n",
       "                   multi_class='auto', n_jobs=None, penalty='l2',\n",
       "                   random_state=None, solver='lbfgs', tol=0.0001, verbose=0,\n",
       "                   warm_start=False)"
      ]
     },
     "execution_count": 38,
     "metadata": {},
     "output_type": "execute_result"
    }
   ],
   "source": [
    "mod_lr_p2 = LogisticRegression()\n",
    "mod_lr_p2.fit(X_train_p2, y_train_p2)\n"
   ]
  },
  {
   "cell_type": "code",
   "execution_count": 39,
   "id": "2a153522",
   "metadata": {},
   "outputs": [
    {
     "data": {
      "text/plain": [
       "array([0, 1, 0, ..., 0, 1, 0])"
      ]
     },
     "execution_count": 39,
     "metadata": {},
     "output_type": "execute_result"
    }
   ],
   "source": [
    "y_pred_p2 = mod_lr_p2.predict(X_test_p2)\n",
    "y_pred_p2\n"
   ]
  },
  {
   "cell_type": "code",
   "execution_count": 40,
   "id": "82282d8b",
   "metadata": {},
   "outputs": [
    {
     "name": "stdout",
     "output_type": "stream",
     "text": [
      "Accuracy: 95.75525134098571\n"
     ]
    }
   ],
   "source": [
    "print('Accuracy:', mod_lr_p2.score(X_test_p2, y_test_p2)*100)\n"
   ]
  },
  {
   "attachments": {},
   "cell_type": "markdown",
   "id": "79ee510e",
   "metadata": {
    "id": "ppU2kc5NIiaL"
   },
   "source": [
    "## **4. EVALUACIÓN DEL MODELO:**\n"
   ]
  },
  {
   "attachments": {},
   "cell_type": "markdown",
   "id": "817db508",
   "metadata": {},
   "source": [
    "Como en la práctica anterior el modelo a los datos de prueba se usará el área bajo **la curva ROC**.\n"
   ]
  },
  {
   "cell_type": "code",
   "execution_count": 41,
   "id": "89832a53",
   "metadata": {
    "colab": {
     "base_uri": "https://localhost:8080/"
    },
    "id": "uY8_84EuIhqN",
    "outputId": "352e72f0-3771-4801-90e0-b7835b5cf91b"
   },
   "outputs": [],
   "source": [
    "y_pred_prob_p2 = mod_lr_p2.predict_proba(X_test_p2)\n",
    "y_pred_prob_p2 = y_pred_prob_p2[:, 1]\n",
    "auc_p2 = metrics.roc_auc_score(y_test_p2, y_pred_prob_p2)\n"
   ]
  },
  {
   "cell_type": "code",
   "execution_count": 42,
   "id": "959b3c14",
   "metadata": {},
   "outputs": [
    {
     "name": "stdout",
     "output_type": "stream",
     "text": [
      "AUC: 90.10303895344607\n"
     ]
    }
   ],
   "source": [
    "print(\"AUC:\", auc_p2*100)\n"
   ]
  },
  {
   "attachments": {},
   "cell_type": "markdown",
   "id": "636d3749",
   "metadata": {
    "id": "CbdzdZ3ZJFmi"
   },
   "source": [
    "A diferencia de la prática anterior, aquí la curva se denota más como curva, ya que se trabaja con un mayor número de datos.\n"
   ]
  },
  {
   "cell_type": "code",
   "execution_count": 43,
   "id": "293a0515",
   "metadata": {
    "colab": {
     "base_uri": "https://localhost:8080/",
     "height": 265
    },
    "id": "TpFyb1mhJFN-",
    "outputId": "63526c7a-ffdc-4c13-de2a-bc8c8d11dc2c"
   },
   "outputs": [
    {
     "data": {
      "image/png": "[encoded data removed]",
      "text/plain": [
       "<Figure size 432x288 with 1 Axes>"
      ]
     },
     "metadata": {
      "needs_background": "light"
     },
     "output_type": "display_data"
    }
   ],
   "source": [
    "ns_probs = [0 for _ in range(len(y_test_p2))]\n",
    "ns_fpr, ns_tpr, _ = metrics.roc_curve(y_test_p2, ns_probs)\n",
    "fpr, tpr, _ = metrics.roc_curve(y_test_p2, y_pred_prob_p2)\n",
    "plt.plot(fpr, tpr, marker='.', label=\"AUC=\"+str(auc_p2*100)+\"%\")\n",
    "plt.plot(ns_fpr, ns_tpr, linestyle='--', label='Sin entrenar')\n",
    "plt.xlabel('Tasa de Falsos Positivos')\n",
    "plt.ylabel('Tasa de Verdaderos Positivos')\n",
    "plt.title('ROC CURVE')\n",
    "plt.legend()\n",
    "plt.show()\n"
   ]
  },
  {
   "attachments": {},
   "cell_type": "markdown",
   "id": "db64dd60",
   "metadata": {},
   "source": [
    "Comparando el resultado con lo solicitado, también logramos superar el **82%** solicitado. Por ende podemos predecir las conexiones futuras en la red con una mayor exactitud.\n"
   ]
  },
  {
   "attachments": {},
   "cell_type": "markdown",
   "id": "e07a4c9c",
   "metadata": {},
   "source": [
    "## **REFERENCIAS:**\n"
   ]
  },
  {
   "attachments": {},
   "cell_type": "markdown",
   "id": "5996a106",
   "metadata": {},
   "source": [
    "- Torres, L. (2023). Curva ROC y AUC en python. The Machine Learners. https://www.themachinelearners.com/curva-roc-vs-prec-recall/\n",
    "  -Fatima, U., Hina, S., & Wasif, M. (2022). A Novel Global Clustering Coefficient- Dependent Degree Centrality (Gccdc) Metric for Large Network Analysis Using Real-World Datasets. Social Science Research Network. https://doi.org/10.2139/ssrn.4284451\n",
    "- Link Prediction — NetworkX 3.1 documentation. (2004). Retrieved May 10, 2023, from https://networkx.org/documentation/stable/reference/algorithms/link_prediction.html\n"
   ]
  }
 ],
 "metadata": {
  "colab": {
   "name": "proyecto.ipynb",
   "provenance": []
  },
  "interpreter": {
   "hash": "7f2633a0dd9fad194999ffc17b7b93627efd4bccf6144e14bc5fef7dfd0c6355"
  },
  "kernelspec": {
   "display_name": "Python 3",
   "language": "python",
   "name": "python3"
  },
  "language_info": {
   "codemirror_mode": {
    "name": "ipython",
    "version": 3
   },
   "file_extension": ".py",
   "mimetype": "text/x-python",
   "name": "python",
   "nbconvert_exporter": "python",
   "pygments_lexer": "ipython3",
   "version": "3.5.6"
  }
 },
 "nbformat": 4,
 "nbformat_minor": 5
}
