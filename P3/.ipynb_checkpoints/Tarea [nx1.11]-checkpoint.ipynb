{
 "cells": [
  {
   "cell_type": "code",
   "execution_count": null,
   "id": "f0f2ccc6",
   "metadata": {},
   "outputs": [
    {
     "ename": "",
     "evalue": "",
     "output_type": "error",
     "traceback": [
      "\u001b[1;31mLa ejecución de celdas con 'c:\\Users\\cyair\\AppData\\Local\\Programs\\Python\\Python35\\python.exe' requiere el paquete ipykernel.\n",
      "\u001b[1;31mRun the following command to install 'ipykernel' into the Python environment. \n",
      "\u001b[1;31mCommand: 'c:/Users/cyair/AppData/Local/Programs/Python/Python35/python.exe -m pip install ipykernel -U --user --force-reinstall'"
     ]
    }
   ],
   "source": [
    "pip install networkx==1.11\n"
   ]
  },
  {
   "cell_type": "code",
   "execution_count": 1,
   "id": "368cee16",
   "metadata": {},
   "outputs": [],
   "source": [
    "import networkx as nx # es necesario que instales la versión 1.11\n",
    "import numpy as np\n",
    "import pandas as pd"
   ]
  },
  {
   "cell_type": "markdown",
   "id": "53a68012",
   "metadata": {},
   "source": [
    "# Primera parte\n",
    "\n",
    "En la primera parte de esta tarea trabajarás con la red que se forma a partir de las comunicaciones por correo electrónico en una compañía. Cada nodo corresponde a una persona y cada enlace indica que por lo menos se ha enviado un correo entre las personas.\n",
    "\n",
    "La red también contiene los atributos `Department` y `ManagementSalary`. El atributo `Department` registra el departamento al cual pertenece cada persona y `ManagementSalary` indica si recibe un salario asociado con una posición directiva.\n"
   ]
  },
  {
   "cell_type": "code",
   "execution_count": 2,
   "id": "a24560ef",
   "metadata": {},
   "outputs": [
    {
     "data": {
      "text/plain": [
       "1005"
      ]
     },
     "execution_count": 2,
     "metadata": {},
     "output_type": "execute_result"
    }
   ],
   "source": [
    "G = nx.read_gpickle('email_prediction.txt')\n",
    "len(G.nodes())"
   ]
  },
  {
   "cell_type": "markdown",
   "id": "9e0d6070",
   "metadata": {},
   "source": [
    "## Instrucciones [primera parte]\n",
    "\n",
    "El objetivo de esta primera práctica es que construyas un modelo que prediga el valor de la variable `ManagementSalary`. \n",
    "\n",
    "1. Ignora los casos en los que no se tiene registrada la etiqueta.\n",
    "2. Separa el conjunto de datos en subconjuntos de entrenamiento y prueba.\n",
    "3. Ajusta un modelo a los datos usando alguna técnica de aprendizaje adecuada. Puedes utilizar como predictores métricas que caractericen a los nodos (de centralidad, distancia, conexión, ...).\n",
    "4. Evalúa la calidad del modelo sobre el conjunto de prueba usando el área bajo la curva (tu modelo debe tener por lo menos un AUC de $0.82$ evaluada sobre el conjunto de prueba). "
   ]
  },
  {
   "cell_type": "code",
   "execution_count": null,
   "id": "9b16e9e6",
   "metadata": {},
   "outputs": [],
   "source": []
  },
  {
   "cell_type": "markdown",
   "id": "e7774da5",
   "metadata": {},
   "source": [
    "# Segunda parte\n",
    "\n",
    "En la última parte de esta práctica vas a predecir las futuras conexiones enyte los empleados de la red. La información de la formación de tales conexiones se encuentra en el archivo `future_connections`, cuyo índice es una dupla de nodos que no están conectados actualmente. La columna `Future Connection` indica si en el futuro se establecerá una arista entre ambos nodos (el valor de 1.0 indica una futura conexión)."
   ]
  },
  {
   "cell_type": "code",
   "execution_count": 3,
   "id": "7102eda9",
   "metadata": {},
   "outputs": [
    {
     "data": {
      "text/html": [
       "<div>\n",
       "<style scoped>\n",
       "    .dataframe tbody tr th:only-of-type {\n",
       "        vertical-align: middle;\n",
       "    }\n",
       "\n",
       "    .dataframe tbody tr th {\n",
       "        vertical-align: top;\n",
       "    }\n",
       "\n",
       "    .dataframe thead th {\n",
       "        text-align: right;\n",
       "    }\n",
       "</style>\n",
       "<table border=\"1\" class=\"dataframe\">\n",
       "  <thead>\n",
       "    <tr style=\"text-align: right;\">\n",
       "      <th></th>\n",
       "      <th>Future Connection</th>\n",
       "    </tr>\n",
       "  </thead>\n",
       "  <tbody>\n",
       "    <tr>\n",
       "      <th>(6, 840)</th>\n",
       "      <td>0.0</td>\n",
       "    </tr>\n",
       "    <tr>\n",
       "      <th>(4, 197)</th>\n",
       "      <td>0.0</td>\n",
       "    </tr>\n",
       "    <tr>\n",
       "      <th>(620, 979)</th>\n",
       "      <td>0.0</td>\n",
       "    </tr>\n",
       "    <tr>\n",
       "      <th>(519, 872)</th>\n",
       "      <td>0.0</td>\n",
       "    </tr>\n",
       "    <tr>\n",
       "      <th>(382, 423)</th>\n",
       "      <td>0.0</td>\n",
       "    </tr>\n",
       "    <tr>\n",
       "      <th>(97, 226)</th>\n",
       "      <td>1.0</td>\n",
       "    </tr>\n",
       "    <tr>\n",
       "      <th>(349, 905)</th>\n",
       "      <td>0.0</td>\n",
       "    </tr>\n",
       "    <tr>\n",
       "      <th>(429, 860)</th>\n",
       "      <td>0.0</td>\n",
       "    </tr>\n",
       "    <tr>\n",
       "      <th>(309, 989)</th>\n",
       "      <td>0.0</td>\n",
       "    </tr>\n",
       "    <tr>\n",
       "      <th>(468, 880)</th>\n",
       "      <td>0.0</td>\n",
       "    </tr>\n",
       "  </tbody>\n",
       "</table>\n",
       "</div>"
      ],
      "text/plain": [
       "            Future Connection\n",
       "(6, 840)                  0.0\n",
       "(4, 197)                  0.0\n",
       "(620, 979)                0.0\n",
       "(519, 872)                0.0\n",
       "(382, 423)                0.0\n",
       "(97, 226)                 1.0\n",
       "(349, 905)                0.0\n",
       "(429, 860)                0.0\n",
       "(309, 989)                0.0\n",
       "(468, 880)                0.0"
      ]
     },
     "execution_count": 3,
     "metadata": {},
     "output_type": "execute_result"
    }
   ],
   "source": [
    "df = pd.read_csv('Future_Connections.csv', index_col=0, converters={0: eval})\n",
    "df.head(10)"
   ]
  },
  {
   "cell_type": "markdown",
   "id": "87aa24e4",
   "metadata": {},
   "source": [
    "## Instrucciones [segunda parte]\n",
    "\n",
    "Utiliza la reg `G` (de la primera parte) y `future_connections` para que construyas un modelo que identifique cuáles parejas de nodos en `future_connections` estarán conectados en el futuro. \n",
    "\n",
    "Para lograrlo, deberás crear una matriz con métricas que caractericen a las aristas de `future_connections` utilizando networkx. \n",
    "\n",
    "1. Elimina los casos en que la variable de respuesta no se encuentre registrada.\n",
    "2. Evalúa las características de las parejas de nodos del archivo `future_connections`.\n",
    "3. Separa los datos en subconjuntos de entrenamiento y prueba.\n",
    "4. Ajusta un modelo adecuado para predecir la formación de enlaces.\n",
    "5. Evalúa la calidad del modelo sobre el conjunto de prueba usando el área bajo la curva (tu modelo debe tener por lo menos un AUC de $0.82$ evaluada sobre el conjunto de prueba). "
   ]
  },
  {
   "cell_type": "code",
   "execution_count": null,
   "id": "d3b0c6f4",
   "metadata": {},
   "outputs": [],
   "source": []
  }
 ],
 "metadata": {
  "kernelspec": {
   "display_name": "Python 3 (ipykernel)",
   "language": "python",
   "name": "python3"
  },
  "language_info": {
   "codemirror_mode": {
    "name": "ipython",
    "version": 3
   },
   "file_extension": ".py",
   "mimetype": "text/x-python",
   "name": "python",
   "nbconvert_exporter": "python",
   "pygments_lexer": "ipython3",
   "version": "3.5.0"
  }
 },
 "nbformat": 4,
 "nbformat_minor": 5
}
