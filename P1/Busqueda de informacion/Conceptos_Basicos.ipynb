{
  "cells": [
    {
      "cell_type": "markdown",
      "metadata": {
        "id": "YyUotjq3X95i"
      },
      "source": [
        "# Recuperación de Información (Information Retrieval)\n"
      ]
    },
    {
      "cell_type": "markdown",
      "metadata": {
        "id": "vUHo6qLLX95m"
      },
      "source": [
        "## Conceptos básicos\n",
        "\n",
        "### <u>Documentos</u>"
      ]
    },
    {
      "cell_type": "markdown",
      "metadata": {
        "id": "9ZXijmNRX95n"
      },
      "source": [
        "En nuestro curso nos limitaremos a la recuperación de información en colecciones de textos a los cuales llamaremos <b>documentos</b>\n"
      ]
    },
    {
      "cell_type": "code",
      "execution_count": null,
      "metadata": {
        "collapsed": true,
        "id": "lvbvkVmnX95n"
      },
      "outputs": [],
      "source": [
        "# algunos ejemplos de documentos básicos que pueden \n",
        "#ser representados como cadenas de caracteres\n",
        "\n",
        "d1 = \"... Las habilidades que los niños necesitan en relación\\\n",
        " con los medios digitales no se limitan a la recuperación de información ...\"\n",
        "d2 = \"... como el procesamiento de datos, el desarrollo y la recuperación de información\\\n",
        " son ejemplos de posibles áreas de cambio ...\"\n",
        "d3 = \"... la enumeración de varios nombres puede aumentar las probabilidades de recuperación ...\"\n",
        "d4 = \"... Usar estructuras cognitivas facilita la recuperación y la actualización de\\\n",
        " las bases de conocimiento a través de los puntos clave ...\"\n",
        "d5 = \"... en su defecto la fecha de efectos aplicada en ausencia de otra información\\\n",
        " fue la de solicitud ...\""
      ]
    },
    {
      "cell_type": "markdown",
      "metadata": {
        "id": "c6EOWG0_X95o"
      },
      "source": [
        "### <u>Colección</u>"
      ]
    },
    {
      "cell_type": "markdown",
      "metadata": {
        "id": "y0bsXiAiX95o"
      },
      "source": [
        "Llamaremos <b>colección</b> a un conjunto de documentos. Observa que los documentos d1, d2, d3, d4 y d5 forman una colección"
      ]
    },
    {
      "cell_type": "code",
      "execution_count": null,
      "metadata": {
        "id": "z9hHv80wX95o"
      },
      "outputs": [],
      "source": [
        "#podemos formar la colección de documentos mediante un diccionario\n",
        "colecc = {'d1':d1, 'd2':d2, 'd3':d3, 'd4':d4, 'd5':d5}"
      ]
    },
    {
      "cell_type": "code",
      "execution_count": null,
      "metadata": {
        "id": "x8SgKTJUX95p",
        "colab": {
          "base_uri": "https://localhost:8080/"
        },
        "outputId": "f4d07570-e0d5-472e-eb6c-340efc5bbc3f"
      },
      "outputs": [
        {
          "output_type": "stream",
          "name": "stdout",
          "text": [
            "... la enumeración de varios nombres puede aumentar las probabilidades de recuperación ...\n"
          ]
        }
      ],
      "source": [
        "print(colecc['d3'])"
      ]
    },
    {
      "cell_type": "markdown",
      "metadata": {
        "id": "bVAZ9OFTX95q"
      },
      "source": [
        "\n",
        "\n",
        "### <u> Bolsa de palabras</u>\n",
        "\n",
        "Una documento puede representarse como una <b>bolsa de palabras</b>. Básicamente es un conjunto que contiene a cada palabra presente en el documento. Con esta representación se pierde la información correspondiente al orden en el cual se presentan las palabras en un documento.\n",
        "\n",
        "A las palabras también se les conoce como <b>términos</b>"
      ]
    },
    {
      "cell_type": "code",
      "execution_count": null,
      "metadata": {
        "id": "lASs5_vrX95q",
        "colab": {
          "base_uri": "https://localhost:8080/"
        },
        "outputId": "8ac2f401-0511-4135-b770-fad9d5bd3efe"
      },
      "outputs": [
        {
          "output_type": "stream",
          "name": "stdout",
          "text": [
            "el\n",
            "procesamiento\n",
            "ejemplos\n",
            "de\n",
            "posibles\n",
            "como\n",
            "la\n",
            "son\n",
            "cambio\n",
            "áreas\n",
            "recuperación\n",
            "datos,\n",
            "información\n",
            "...\n",
            "y\n",
            "desarrollo\n"
          ]
        }
      ],
      "source": [
        "# construcción de la bolsa de palabras de un documento\n",
        "sp = d2.split(\" \") #suponemos que las palabras están separadas por espacios \n",
        "bp = set(sp)\n",
        "\n",
        "for e in bp:\n",
        "    print(e)"
      ]
    },
    {
      "cell_type": "markdown",
      "source": [
        "Podemos definir una función que construya la bolsa de palabras de un documento \n",
        "ya que es un proceso que se utilizará con frecuencia\n"
      ],
      "metadata": {
        "id": "fq4eIoBwYrkx"
      }
    },
    {
      "cell_type": "code",
      "execution_count": null,
      "metadata": {
        "id": "tiBTY6-aX95r"
      },
      "outputs": [],
      "source": [
        "# Primera versión\n",
        "def bag_of_words(d): #recibe un documento cualquiera\n",
        "    #removemos algunos signos de puntuación\n",
        "    sigs = [',', '.', ':', ';']\n",
        "    dc = d\n",
        "    for s in sigs:\n",
        "        dc = dc.replace(s,\"\")\n",
        "    \n",
        "    #dividimos las palabras por medio de los espacios y las convertimos a minúsculas para uniformizar\n",
        "    sp = dc.split(\" \")\n",
        "    bw = set(sp)\n",
        "    bw = [w.lower() for w in bw]\n",
        "    return bw    "
      ]
    },
    {
      "cell_type": "markdown",
      "source": [
        "Podemos utilizar la función para extraer la bolsa de palabras de cualquier documento de la colección\n"
      ],
      "metadata": {
        "id": "XUsHne9LY8LE"
      }
    },
    {
      "cell_type": "code",
      "execution_count": null,
      "metadata": {
        "id": "kPxwXb_kX95r",
        "colab": {
          "base_uri": "https://localhost:8080/"
        },
        "outputId": "305d63ab-f440-45ac-d4fb-3ac2f526f4b8"
      },
      "outputs": [
        {
          "output_type": "stream",
          "name": "stdout",
          "text": [
            "\n",
            "procesamiento\n",
            "el\n",
            "ejemplos\n",
            "de\n",
            "posibles\n",
            "como\n",
            "la\n",
            "son\n",
            "cambio\n",
            "áreas\n",
            "recuperación\n",
            "información\n",
            "y\n",
            "datos\n",
            "desarrollo\n"
          ]
        }
      ],
      "source": [
        "bw = bag_of_words(colecc['d2'])\n",
        "\n",
        "for w in bw:\n",
        "    print(w)\n",
        "    "
      ]
    },
    {
      "cell_type": "markdown",
      "metadata": {
        "id": "Em7-dxIMX95s"
      },
      "source": [
        "### <u>Vocabulario</u>\n",
        "\n",
        "Conjunto de términos presentes en los documentos de una colección"
      ]
    },
    {
      "cell_type": "code",
      "execution_count": null,
      "metadata": {
        "id": "HW1jAEdrX95s",
        "colab": {
          "base_uri": "https://localhost:8080/"
        },
        "outputId": "4306d60f-f8d8-4530-9f2e-80f66dd20c39"
      },
      "outputs": [
        {
          "output_type": "stream",
          "name": "stdout",
          "text": [
            "\n",
            "necesitan\n",
            "ausencia\n",
            "con\n",
            "fue\n",
            "efectos\n",
            "defecto\n",
            "digitales\n",
            "niños\n",
            "facilita\n",
            "medios\n",
            "probabilidades\n",
            "puntos\n",
            "relación\n",
            "desarrollo\n",
            "aplicada\n",
            "el\n",
            "ejemplos\n",
            "habilidades\n",
            "en\n",
            "a\n",
            "cognitivas\n",
            "limitan\n",
            "la\n",
            "puede\n",
            "nombres\n",
            "recuperación\n",
            "varios\n",
            "información\n",
            "solicitud\n",
            "las\n",
            "que\n",
            "procesamiento\n",
            "otra\n",
            "usar\n",
            "de\n",
            "clave\n",
            "cambio\n",
            "fecha\n",
            "estructuras\n",
            "través\n",
            "enumeración\n",
            "aumentar\n",
            "y\n",
            "conocimiento\n",
            "se\n",
            "no\n",
            "como\n",
            "son\n",
            "bases\n",
            "los\n",
            "áreas\n",
            "actualización\n",
            "su\n",
            "datos\n",
            "posibles\n"
          ]
        }
      ],
      "source": [
        "# construimos el vocabulario guardando en un conjunto los términos de \n",
        "# todos los documentos en la colección\n",
        "\n",
        "voc = set()\n",
        "\n",
        "for d in colecc:\n",
        "    bw = bag_of_words(colecc[d])\n",
        "    voc = voc.union(bw)\n",
        "\n",
        "for e in voc:\n",
        "    print(e)"
      ]
    },
    {
      "cell_type": "markdown",
      "metadata": {
        "id": "F1Ofu1KEX95s"
      },
      "source": [
        "## Preprocesamiento\n",
        "\n"
      ]
    },
    {
      "cell_type": "markdown",
      "source": [
        "### <u> Stop Words</u>"
      ],
      "metadata": {
        "id": "Cd6pYMLZezsR"
      }
    },
    {
      "cell_type": "markdown",
      "metadata": {
        "id": "_-1DN-LIX95s"
      },
      "source": [
        "Es una práctica común el ignorar palabras que aparecen con mucha frecuencia en los documentos y que pueden aportar muy poca información al proceso de búsqueda, por ejemplo: los artículos, las preposiciones, pronombres, conectivos, etc.\n",
        "\n",
        "Por ejemplo, al construir la bolsa de palabras podríamos ignorar las siguientes: <b> son, en, el, la los, de, las, a, y, que,...</b> A dichas palabras se les conoce en inglés como <b>stop words</b>. "
      ]
    },
    {
      "cell_type": "code",
      "execution_count": null,
      "metadata": {
        "collapsed": true,
        "id": "KuRqdHdvX95t"
      },
      "outputs": [],
      "source": [
        "#segunda versión\n",
        "def bag_of_words(d):\n",
        "    stop_words = [\"son\", \"el\", \"la\", \"los\", \"de\", \"las\", \"a\", \"y\", \"que\", \"en\", \"se\", \"su\", \"fue\", \"no\", \n",
        "              \"con\", \"como\"]\n",
        "\n",
        "    #removemos los signos de puntuación\n",
        "    sigs = [',', '.', ':', ';']\n",
        "    dc = d\n",
        "    for s in sigs:\n",
        "        dc = dc.replace(s,\"\")\n",
        "    \n",
        "    #dividimos las palabras por medio de los espacios   \n",
        "    sp = dc.split(\" \")\n",
        "    bw = set() #conjunto vacío\n",
        "    \n",
        "    #y agregamos cada palabra (en minúsculas)\n",
        "    #a la bolsa siempre y cuando no sea una stop word \n",
        "    for w in sp:\n",
        "        nw = w.lower()\n",
        "        #remueve algunos caracteres especiales que pueden estar presentes en las palabras\n",
        "        nw = nw.replace(\" \",'')\n",
        "        nw = nw.replace(\"\\n\",'')\n",
        "        nw = nw.replace('\"','')\n",
        "        nw = nw.replace('(','')\n",
        "        nw = nw.replace(')','')\n",
        "        if not nw in stop_words:\n",
        "            bw.add(nw)\n",
        "    \n",
        "    return bw    "
      ]
    },
    {
      "cell_type": "code",
      "execution_count": null,
      "metadata": {
        "id": "f3YUi5_uX95t",
        "colab": {
          "base_uri": "https://localhost:8080/"
        },
        "outputId": "158bed3b-fcd4-4f3d-e708-5dc7e1437cfc"
      },
      "outputs": [
        {
          "output_type": "stream",
          "name": "stdout",
          "text": [
            "\n",
            "necesitan\n",
            "ausencia\n",
            "efectos\n",
            "defecto\n",
            "digitales\n",
            "niños\n",
            "facilita\n",
            "medios\n",
            "probabilidades\n",
            "puntos\n",
            "relación\n",
            "desarrollo\n",
            "aplicada\n",
            "ejemplos\n",
            "habilidades\n",
            "cognitivas\n",
            "limitan\n",
            "puede\n",
            "nombres\n",
            "recuperación\n",
            "varios\n",
            "información\n",
            "solicitud\n",
            "procesamiento\n",
            "otra\n",
            "usar\n",
            "clave\n",
            "cambio\n",
            "fecha\n",
            "estructuras\n",
            "través\n",
            "enumeración\n",
            "aumentar\n",
            "datos\n",
            "bases\n",
            "áreas\n",
            "actualización\n",
            "conocimiento\n",
            "posibles\n"
          ]
        }
      ],
      "source": [
        "# construimos un vocabulario guardando en un conjunto los términos de \n",
        "# todos los documentos en la colección\n",
        "    \n",
        "#una vez construido el vocabulario removemos las stop-words\n",
        "\n",
        "voc = set()\n",
        "\n",
        "for d in colecc:\n",
        "    bw = bag_of_words(colecc[d])\n",
        "    voc = voc.union(bw)\n",
        "\n",
        "for e in voc:\n",
        "    print(e)"
      ]
    },
    {
      "cell_type": "markdown",
      "source": [
        "### <u>Acentos</u>\n",
        "\n",
        "Para uniformizar las palabras, podemos excluir a los acentos (no siempre los autores respetan la ortografía)."
      ],
      "metadata": {
        "id": "NkLxzg3oc1AI"
      }
    },
    {
      "cell_type": "code",
      "source": [
        "#tercera versión\n",
        "def bag_of_words(d):\n",
        "    stop_words = [\"son\", \"el\", \"la\", \"los\", \"de\", \"las\", \"a\", \"y\", \"que\", \"en\", \"se\", \"su\", \"fue\", \"no\", \n",
        "              \"con\", \"como\"]\n",
        "\n",
        "    #removemos los signos de puntuación y caracteres especiales\n",
        "    sigs = [',', '.', ':', ';' \" \", \"\\n\",'\"', '(', ')']\n",
        "    dc = d\n",
        "    for s in sigs:\n",
        "        dc = dc.replace(s,\"\")\n",
        "    \n",
        "    #dividimos las palabras por medio de los espacios   \n",
        "    sp = dc.split(\" \")\n",
        "    bw = set() #conjunto vacío\n",
        "    \n",
        "    #y agregamos cada palabra (en minúsculas)\n",
        "    #a la bolsa siempre y cuando no sea una stop word \n",
        "    for w in sp:\n",
        "        nw = w.lower()\n",
        "        #remueve acentos\n",
        "        nw = nw.replace('á','a')\n",
        "        nw = nw.replace('é','e')\n",
        "        nw = nw.replace('í','i')\n",
        "        nw = nw.replace('ó','o')\n",
        "        nw = nw.replace('ú','u')\n",
        "        nw = nw.replace('ñ','n')\n",
        "        if not nw in stop_words:\n",
        "            bw.add(nw)\n",
        "    \n",
        "    return bw    "
      ],
      "metadata": {
        "id": "8Kudhhdqc0Vv"
      },
      "execution_count": null,
      "outputs": []
    },
    {
      "cell_type": "markdown",
      "source": [
        "Al uniformizar las palabras evitamos que diferentes versiones de un mismo término aparezcan en el vocabulario (algunas con acento, otras sin acento)."
      ],
      "metadata": {
        "id": "D3Ixrha3dZTG"
      }
    },
    {
      "cell_type": "code",
      "source": [
        "voc = set()\n",
        "\n",
        "for d in colecc:\n",
        "    bw = bag_of_words(colecc[d])\n",
        "    voc = voc.union(bw)\n",
        "\n",
        "for e in voc:\n",
        "    print(e)"
      ],
      "metadata": {
        "id": "op3d2w3-dZiL",
        "colab": {
          "base_uri": "https://localhost:8080/"
        },
        "outputId": "0e9d042a-eade-4bb8-a8bf-c97e5bece27e"
      },
      "execution_count": null,
      "outputs": [
        {
          "output_type": "stream",
          "name": "stdout",
          "text": [
            "\n",
            "necesitan\n",
            "traves\n",
            "ausencia\n",
            "efectos\n",
            "defecto\n",
            "enumeracion\n",
            "digitales\n",
            "facilita\n",
            "informacion\n",
            "medios\n",
            "probabilidades\n",
            "puntos\n",
            "desarrollo\n",
            "aplicada\n",
            "ejemplos\n",
            "habilidades\n",
            "cognitivas\n",
            "limitan\n",
            "puede\n",
            "nombres\n",
            "varios\n",
            "solicitud\n",
            "procesamiento\n",
            "areas\n",
            "otra\n",
            "ninos\n",
            "usar\n",
            "clave\n",
            "cambio\n",
            "fecha\n",
            "estructuras\n",
            "actualizacion\n",
            "datos\n",
            "aumentar\n",
            "relacion\n",
            "bases\n",
            "conocimiento\n",
            "posibles\n",
            "recuperacion\n"
          ]
        }
      ]
    },
    {
      "cell_type": "markdown",
      "source": [
        "Es recomendable separar el preprocesameinto de la construcción de la bolsa de palabras:"
      ],
      "metadata": {
        "id": "AFamTIeK4XLT"
      }
    },
    {
      "cell_type": "code",
      "source": [
        "def pre_proceso(d):\n",
        "  #convierte a minúsculas\n",
        "  nw = d.lower()\n",
        "  #elimina acentos, caracteres especiales o signos de puntuación\n",
        "  nw = nw.replace(\"\\n\",'')\n",
        "  nw = nw.replace('\"','')\n",
        "  nw = nw.replace('(','')\n",
        "  nw = nw.replace(')','')\n",
        "  nw = nw.replace('.','')\n",
        "  nw = nw.replace(',','')\n",
        "  nw = nw.replace(';','')\n",
        "  nw = nw.replace(':','')\n",
        "  nw = nw.replace('á','a')\n",
        "  nw = nw.replace('é','e')\n",
        "  nw = nw.replace('í','i')\n",
        "  nw = nw.replace('ó','o')\n",
        "  nw = nw.replace('ú','u')\n",
        "  nw = nw.replace('ñ','n')\n",
        "\n",
        "  return nw\n",
        "\n",
        "def bag_of_words(d):\n",
        "  stop_words = [\"son\", \"el\", \"la\", \"los\", \"de\", \"las\", \"a\", \"y\", \"que\", \"en\", \"se\", \"su\", \"fue\", \"no\", \n",
        "            \"con\", \"como\", \"\"]\n",
        "\n",
        "  #dividimos las palabras por medio de los espacios   \n",
        "  sp = d.split(\" \")\n",
        "  bw = set() #conjunto vacío\n",
        "  \n",
        "  #y agregamos cada palabra \n",
        "  #a la bolsa siempre y cuando no sea una stop word \n",
        "  for w in sp:\n",
        "      if not w in stop_words:\n",
        "          bw.add(w)\n",
        "  \n",
        "  return bw    \n",
        "\n",
        "def vocabulario(colecc):\n",
        "  voc = set()\n",
        "\n",
        "  for d in colecc:\n",
        "      bw = bag_of_words(colecc[d])\n",
        "      voc = voc.union(bw)\n",
        "  return voc"
      ],
      "metadata": {
        "id": "fpFlhfFh4hug"
      },
      "execution_count": null,
      "outputs": []
    },
    {
      "cell_type": "code",
      "source": [
        "# preprocesamos cada documento de la colección\n",
        "for d in colecc:\n",
        "  colecc[d] = pre_proceso(colecc[d])\n",
        "\n",
        "# formamos el vocabulario\n",
        "voc = vocabulario(colecc)\n",
        "colecc['d1']"
      ],
      "metadata": {
        "id": "LnQzxTL94z-v",
        "colab": {
          "base_uri": "https://localhost:8080/",
          "height": 53
        },
        "outputId": "87ed68cc-6beb-4aad-b03d-640d663afc7b"
      },
      "execution_count": null,
      "outputs": [
        {
          "output_type": "execute_result",
          "data": {
            "text/plain": [
              "' las habilidades que los ninos necesitan en relacion con los medios digitales no se limitan a la recuperacion de informacion '"
            ],
            "application/vnd.google.colaboratory.intrinsic+json": {
              "type": "string"
            }
          },
          "metadata": {},
          "execution_count": 14
        }
      ]
    },
    {
      "cell_type": "code",
      "source": [
        "voc"
      ],
      "metadata": {
        "id": "Jogrj1uAbrRM",
        "colab": {
          "base_uri": "https://localhost:8080/"
        },
        "outputId": "01840048-0b3f-4600-9322-92e1110641fc"
      },
      "execution_count": null,
      "outputs": [
        {
          "output_type": "execute_result",
          "data": {
            "text/plain": [
              "{'actualizacion',\n",
              " 'aplicada',\n",
              " 'areas',\n",
              " 'aumentar',\n",
              " 'ausencia',\n",
              " 'bases',\n",
              " 'cambio',\n",
              " 'clave',\n",
              " 'cognitivas',\n",
              " 'conocimiento',\n",
              " 'datos',\n",
              " 'defecto',\n",
              " 'desarrollo',\n",
              " 'digitales',\n",
              " 'efectos',\n",
              " 'ejemplos',\n",
              " 'enumeracion',\n",
              " 'estructuras',\n",
              " 'facilita',\n",
              " 'fecha',\n",
              " 'habilidades',\n",
              " 'informacion',\n",
              " 'limitan',\n",
              " 'medios',\n",
              " 'necesitan',\n",
              " 'ninos',\n",
              " 'nombres',\n",
              " 'otra',\n",
              " 'posibles',\n",
              " 'probabilidades',\n",
              " 'procesamiento',\n",
              " 'puede',\n",
              " 'puntos',\n",
              " 'recuperacion',\n",
              " 'relacion',\n",
              " 'solicitud',\n",
              " 'traves',\n",
              " 'usar',\n",
              " 'varios'}"
            ]
          },
          "metadata": {},
          "execution_count": 15
        }
      ]
    },
    {
      "cell_type": "markdown",
      "metadata": {
        "id": "UHjjS_EBX95t"
      },
      "source": [
        "## Consultas\n",
        "\n",
        "Es una lista de términos que refleja la necesidad de información que tiene un usuario del sistema de recuperación de información.\n",
        "\n",
        "Procesamos la frase escrita en la consulta de la misma forma que procesamos los documentos de la colección (construimos la bolsa de palabras):"
      ]
    },
    {
      "cell_type": "code",
      "execution_count": null,
      "metadata": {
        "id": "ynJVHyPnX95t",
        "colab": {
          "base_uri": "https://localhost:8080/"
        },
        "outputId": "2881b89f-75fb-43de-f5b9-62938f57a7b4"
      },
      "outputs": [
        {
          "output_type": "stream",
          "name": "stdout",
          "text": [
            "informacion\n",
            "recuperacion\n"
          ]
        }
      ],
      "source": [
        "# ejemplo de consulta\n",
        "qry = \"Recuperación de la información\"\n",
        "qry = pre_proceso(qry)\n",
        "bw = bag_of_words(qry)\n",
        "for w in bw:\n",
        "    print(w)"
      ]
    },
    {
      "cell_type": "markdown",
      "metadata": {
        "id": "aXO7uuYYX95u"
      },
      "source": [
        "### <u>Modelo booleano</u>\n",
        "A partir de los términos de la consulta debemos seleccionar los documentos que sean relevantes.\n",
        "\n"
      ]
    },
    {
      "cell_type": "code",
      "execution_count": null,
      "metadata": {
        "id": "e-1Bi9LgX95u",
        "colab": {
          "base_uri": "https://localhost:8080/"
        },
        "outputId": "4f686ef5-069e-4f17-87a5-518bea3eb8e0"
      },
      "outputs": [
        {
          "output_type": "stream",
          "name": "stdout",
          "text": [
            "Documentos que contienen el término 'información': \n",
            "{'d2', 'd5', 'd1'}\n",
            "Documentos que contienen el término 'recuperación': \n",
            "{'d3', 'd4', 'd2', 'd1'}\n"
          ]
        }
      ],
      "source": [
        "# buscamos los documentos relevantes de acuerdo a la consulta\n",
        "\n",
        "tr_inf = set()\n",
        "#buscamos los documentos que contengan el término \"información\"\n",
        "for d in colecc:\n",
        "    if \"informacion\" in colecc[d]:\n",
        "        tr_inf.add(d)\n",
        "\n",
        "tr_rec = set()\n",
        "#buscamos los documentos que contengan el término \"recuperación\"\n",
        "for d in colecc:\n",
        "    if \"recuperacion\" in colecc[d]:\n",
        "        tr_rec.add(d)\n",
        "        \n",
        "print(\"Documentos que contienen el término 'información': \")\n",
        "print(tr_inf)\n",
        "\n",
        "print(\"Documentos que contienen el término 'recuperación': \")\n",
        "print(tr_rec)"
      ]
    },
    {
      "cell_type": "markdown",
      "metadata": {
        "id": "1Z8NpC3pX95u"
      },
      "source": [
        "Los términos de la consulta pueden combinarse mediante operadores lógicos, por ejemplo\n",
        "\n",
        "#### <u>Usando el conectivo AND</u>\n",
        " "
      ]
    },
    {
      "cell_type": "code",
      "execution_count": null,
      "metadata": {
        "id": "3NdLlhGLX95u",
        "colab": {
          "base_uri": "https://localhost:8080/"
        },
        "outputId": "812c9ab0-6588-4f2e-f37d-b7d64cd323c1"
      },
      "outputs": [
        {
          "output_type": "stream",
          "name": "stdout",
          "text": [
            "Resultados: \n",
            "\n",
            "\n",
            " como el procesamiento de datos el desarrollo y la recuperacion de informacion son ejemplos de posibles areas de cambio \n",
            "\n",
            "\n",
            " las habilidades que los ninos necesitan en relacion con los medios digitales no se limitan a la recuperacion de informacion \n",
            "\n",
            "\n"
          ]
        }
      ],
      "source": [
        "# Consulta \"información\" Y \"recuperación\"\n",
        "print(\"Resultados: \\n\\n\")\n",
        "res = tr_inf.intersection(tr_rec)\n",
        "for r in res:    \n",
        "    print(colecc[r])\n",
        "    print(\"\\n\")"
      ]
    },
    {
      "cell_type": "markdown",
      "source": [
        "El resultado de la consulta contiene solamente a los documentos d1 y d2\n",
        "\n",
        "#### <u>Usando el conectivo OR</u>"
      ],
      "metadata": {
        "id": "GF87FE34bUCN"
      }
    },
    {
      "cell_type": "code",
      "execution_count": null,
      "metadata": {
        "id": "nDUSwRAxX95u",
        "colab": {
          "base_uri": "https://localhost:8080/"
        },
        "outputId": "4b4eab01-24af-4e59-de55-88e219a66a68"
      },
      "outputs": [
        {
          "output_type": "stream",
          "name": "stdout",
          "text": [
            "Resultados: \n",
            "\n",
            "\n",
            " como el procesamiento de datos el desarrollo y la recuperacion de informacion son ejemplos de posibles areas de cambio \n",
            "\n",
            "\n",
            " en su defecto la fecha de efectos aplicada en ausencia de otra informacion fue la de solicitud \n",
            "\n",
            "\n",
            " la enumeracion de varios nombres puede aumentar las probabilidades de recuperacion \n",
            "\n",
            "\n",
            " usar estructuras cognitivas facilita la recuperacion y la actualizacion de las bases de conocimiento a traves de los puntos clave \n",
            "\n",
            "\n",
            " las habilidades que los ninos necesitan en relacion con los medios digitales no se limitan a la recuperacion de informacion \n",
            "\n",
            "\n"
          ]
        }
      ],
      "source": [
        "# Consulta \"información\" O \"recuperación\"\n",
        "print(\"Resultados: \\n\\n\")\n",
        "res = tr_inf.union(tr_rec)\n",
        "for r in res:    \n",
        "    print(colecc[r])\n",
        "    print(\"\\n\")"
      ]
    },
    {
      "cell_type": "markdown",
      "source": [
        "#### <u>Usando la *diferencia*</u>"
      ],
      "metadata": {
        "id": "npVmHuaKb7E6"
      }
    },
    {
      "cell_type": "code",
      "execution_count": null,
      "metadata": {
        "id": "x8U_LGqRX95v",
        "colab": {
          "base_uri": "https://localhost:8080/"
        },
        "outputId": "cd67d72b-8065-4906-864c-25e3c6935f7c"
      },
      "outputs": [
        {
          "output_type": "stream",
          "name": "stdout",
          "text": [
            "Resultados: \n",
            "\n",
            "\n",
            " en su defecto la fecha de efectos aplicada en ausencia de otra informacion fue la de solicitud \n",
            "\n",
            "\n"
          ]
        }
      ],
      "source": [
        "# Consulta \"información\" - \"recuperación\"\n",
        "print(\"Resultados: \\n\\n\")\n",
        "res = tr_inf.difference(tr_rec)\n",
        "for r in res:    \n",
        "    print(colecc[r])\n",
        "    print(\"\\n\")"
      ]
    },
    {
      "cell_type": "markdown",
      "metadata": {
        "id": "58TJ1WahX95v"
      },
      "source": [
        "## Índice Invertido\n",
        "\n",
        "Observa que para responder a una consulta hemos recorrido cada documento seleccionando aquellos que contengan algún término en particular. Esta estrategia es muy ineficiente sobre todo si consideramos que la colección puede llegar a contener miles, o hasta millones de documentos.  \n",
        "\n",
        "Una mejor opción consiste en construir una tabla en la que coloquemos cada término del vocabulario en un renglón junto con la lista de documentos en los que el término aparece. A esta tabla se le conoce como <b>índice invertido</b>. Utilizando el índice invertido, para responder a una consulta solamente se debe buscar el término en el índice y una vez localizado se recupera la lista de documentos en los que aparece.\n",
        "\n",
        "Este proceso es ventajoso cuando la magnitud del vocabulario es mucho menor que la cantidad de documentos de la colección."
      ]
    },
    {
      "cell_type": "code",
      "execution_count": null,
      "metadata": {
        "id": "nEW6qbxeX95v",
        "colab": {
          "base_uri": "https://localhost:8080/"
        },
        "outputId": "188b22f9-41e3-445f-b4ca-311d2116f2c3"
      },
      "outputs": [
        {
          "output_type": "stream",
          "name": "stdout",
          "text": [
            "necesitan {'d1'}\n",
            "ninos {'d1'}\n",
            "habilidades {'d1'}\n",
            "relacion {'d1'}\n",
            "digitales {'d1'}\n",
            "limitan {'d1'}\n",
            "informacion {'d2', 'd5', 'd1'}\n",
            "medios {'d1'}\n",
            "recuperacion {'d3', 'd4', 'd2', 'd1'}\n",
            "procesamiento {'d2'}\n",
            "areas {'d2'}\n",
            "ejemplos {'d2'}\n",
            "posibles {'d2'}\n",
            "cambio {'d2'}\n",
            "datos {'d2'}\n",
            "desarrollo {'d2'}\n",
            "enumeracion {'d3'}\n",
            "puede {'d3'}\n",
            "nombres {'d3'}\n",
            "varios {'d3'}\n",
            "probabilidades {'d3'}\n",
            "aumentar {'d3'}\n",
            "traves {'d4'}\n",
            "usar {'d4'}\n",
            "cognitivas {'d4'}\n",
            "clave {'d4'}\n",
            "bases {'d4'}\n",
            "facilita {'d4'}\n",
            "estructuras {'d4'}\n",
            "actualizacion {'d4'}\n",
            "puntos {'d4'}\n",
            "conocimiento {'d4'}\n",
            "ausencia {'d5'}\n",
            "otra {'d5'}\n",
            "efectos {'d5'}\n",
            "defecto {'d5'}\n",
            "fecha {'d5'}\n",
            "solicitud {'d5'}\n",
            "aplicada {'d5'}\n"
          ]
        }
      ],
      "source": [
        "# construcción del índice invertido \n",
        "\n",
        "ind_invrt = {}\n",
        "\n",
        "#recorremos cada documento\n",
        "for d in colecc:\n",
        "    bw = bag_of_words(colecc[d])\n",
        "    for t in bw:\n",
        "        if not t in ind_invrt: # si el término no está en el índice construye una nueva entrada\n",
        "            ind_invrt[t] = set([d])\n",
        "        else:\n",
        "            ind_invrt[t].add(d)\n",
        "\n",
        "for t in ind_invrt:\n",
        "    print(t, ind_invrt[t])"
      ]
    },
    {
      "cell_type": "markdown",
      "source": [
        "El índice invertido reduce la respuesta a la consulta a una simple lectura de un elemento de un diccionario."
      ],
      "metadata": {
        "id": "nxf13bWM8Tv2"
      }
    },
    {
      "cell_type": "code",
      "execution_count": null,
      "metadata": {
        "id": "OvOMmocHX95v",
        "colab": {
          "base_uri": "https://localhost:8080/"
        },
        "outputId": "a19e53ee-80ef-457f-9086-fe9aef175bf0"
      },
      "outputs": [
        {
          "output_type": "stream",
          "name": "stdout",
          "text": [
            " como el procesamiento de datos el desarrollo y la recuperacion de informacion son ejemplos de posibles areas de cambio \n",
            "\n",
            "\n",
            " en su defecto la fecha de efectos aplicada en ausencia de otra informacion fue la de solicitud \n",
            "\n",
            "\n",
            " las habilidades que los ninos necesitan en relacion con los medios digitales no se limitan a la recuperacion de informacion \n",
            "\n",
            "\n"
          ]
        }
      ],
      "source": [
        "# Una consulta ahora puede ser realizada a través del índice\n",
        "\n",
        "q = \"informacion\"\n",
        "\n",
        "if q in ind_invrt.keys():\n",
        "  res = ind_invrt[q] #simplemente leemos la lista de documentos en los que aparece el término \n",
        "\n",
        "  #imprimimos la lista de documentos en los que está presente el término\n",
        "  for d in res:    \n",
        "      print(colecc[d])\n",
        "      print(\"\\n\")"
      ]
    },
    {
      "cell_type": "markdown",
      "source": [
        "## Modelo vectorial"
      ],
      "metadata": {
        "id": "olM90r-djqip"
      }
    },
    {
      "cell_type": "markdown",
      "source": [
        "### <u>Frecuencia de término</u>"
      ],
      "metadata": {
        "id": "1Jp_Ug1dzelp"
      }
    },
    {
      "cell_type": "code",
      "source": [
        "import numpy as np\n",
        "import pandas as pd"
      ],
      "metadata": {
        "id": "16VaIkwvw-bU"
      },
      "execution_count": null,
      "outputs": []
    },
    {
      "cell_type": "code",
      "source": [
        "#cuenta las veces ue aparece un término en cada documento\n",
        "\n",
        "def term_frequency(d, voc):\n",
        "  bw = bag_of_words(d)\n",
        "  tf = np.zeros(len(voc))\n",
        "  for w in bw:\n",
        "    if w in voc:\n",
        "      i = voc.index(w)\n",
        "      if i >= 0:\n",
        "        tf[i] += 1\n",
        "  return tf"
      ],
      "metadata": {
        "id": "JaDt5Q6Aj0EO"
      },
      "execution_count": null,
      "outputs": []
    },
    {
      "cell_type": "markdown",
      "source": [
        "**Representamos cada documento como un vector**"
      ],
      "metadata": {
        "id": "oq83jTYgzkTx"
      }
    },
    {
      "cell_type": "code",
      "source": [
        "voc = list(voc)\n",
        "tf = term_frequency(colecc['d2'], voc)\n",
        "tf = pd.Series(tf, index=voc)\n",
        "tf"
      ],
      "metadata": {
        "id": "Lcuwh57OxG4J",
        "colab": {
          "base_uri": "https://localhost:8080/"
        },
        "outputId": "ef32d03d-3748-4c9a-d962-d57ab27cc129"
      },
      "execution_count": null,
      "outputs": [
        {
          "output_type": "execute_result",
          "data": {
            "text/plain": [
              "necesitan         0.0\n",
              "traves            0.0\n",
              "ausencia          0.0\n",
              "efectos           0.0\n",
              "defecto           0.0\n",
              "enumeracion       0.0\n",
              "digitales         0.0\n",
              "facilita          0.0\n",
              "informacion       1.0\n",
              "medios            0.0\n",
              "probabilidades    0.0\n",
              "puntos            0.0\n",
              "desarrollo        1.0\n",
              "aplicada          0.0\n",
              "ejemplos          1.0\n",
              "habilidades       0.0\n",
              "cognitivas        0.0\n",
              "limitan           0.0\n",
              "puede             0.0\n",
              "nombres           0.0\n",
              "varios            0.0\n",
              "solicitud         0.0\n",
              "procesamiento     1.0\n",
              "areas             1.0\n",
              "otra              0.0\n",
              "ninos             0.0\n",
              "usar              0.0\n",
              "clave             0.0\n",
              "cambio            1.0\n",
              "fecha             0.0\n",
              "estructuras       0.0\n",
              "actualizacion     0.0\n",
              "datos             1.0\n",
              "aumentar          0.0\n",
              "relacion          0.0\n",
              "bases             0.0\n",
              "conocimiento      0.0\n",
              "posibles          1.0\n",
              "recuperacion      1.0\n",
              "dtype: float64"
            ]
          },
          "metadata": {},
          "execution_count": 25
        }
      ]
    },
    {
      "cell_type": "code",
      "source": [
        "  "
      ],
      "metadata": {
        "id": "3h-OutFYj0Xf"
      },
      "execution_count": null,
      "outputs": []
    },
    {
      "cell_type": "markdown",
      "source": [
        "### <u>Frecuencia inversa de documento</u>"
      ],
      "metadata": {
        "id": "Zj81nWGNzsWF"
      }
    },
    {
      "cell_type": "code",
      "source": [
        "idf = np.zeros(len(voc))\n",
        "\n",
        "for w in voc:\n",
        "  i = voc.index(w)\n",
        "  for d in colecc:\n",
        "    if colecc[d].find(w) >= 0:\n",
        "      idf[i] += 1\n",
        "N = len(colecc)\n",
        "S_idf = np.log(N/pd.Series(idf, index=voc))\n",
        "S_idf"
      ],
      "metadata": {
        "id": "oWu1n7EIzzou",
        "colab": {
          "base_uri": "https://localhost:8080/"
        },
        "outputId": "d47ba609-dbd9-4002-a698-425343f9f2b1"
      },
      "execution_count": null,
      "outputs": [
        {
          "output_type": "execute_result",
          "data": {
            "text/plain": [
              "necesitan         1.609438\n",
              "traves            1.609438\n",
              "ausencia          1.609438\n",
              "efectos           1.609438\n",
              "defecto           1.609438\n",
              "enumeracion       1.609438\n",
              "digitales         1.609438\n",
              "facilita          1.609438\n",
              "informacion       0.510826\n",
              "medios            1.609438\n",
              "probabilidades    1.609438\n",
              "puntos            1.609438\n",
              "desarrollo        1.609438\n",
              "aplicada          1.609438\n",
              "ejemplos          1.609438\n",
              "habilidades       1.609438\n",
              "cognitivas        1.609438\n",
              "limitan           1.609438\n",
              "puede             1.609438\n",
              "nombres           1.609438\n",
              "varios            1.609438\n",
              "solicitud         1.609438\n",
              "procesamiento     1.609438\n",
              "areas             1.609438\n",
              "otra              1.609438\n",
              "ninos             1.609438\n",
              "usar              1.609438\n",
              "clave             1.609438\n",
              "cambio            1.609438\n",
              "fecha             1.609438\n",
              "estructuras       1.609438\n",
              "actualizacion     1.609438\n",
              "datos             1.609438\n",
              "aumentar          1.609438\n",
              "relacion          1.609438\n",
              "bases             1.609438\n",
              "conocimiento      1.609438\n",
              "posibles          1.609438\n",
              "recuperacion      0.223144\n",
              "dtype: float64"
            ]
          },
          "metadata": {},
          "execution_count": 26
        }
      ]
    },
    {
      "cell_type": "code",
      "source": [
        "np.log(5)"
      ],
      "metadata": {
        "id": "q3qdjv6TeaRQ",
        "colab": {
          "base_uri": "https://localhost:8080/"
        },
        "outputId": "6eb6560a-3cc0-4015-be15-647a18dd163d"
      },
      "execution_count": null,
      "outputs": [
        {
          "output_type": "execute_result",
          "data": {
            "text/plain": [
              "1.6094379124341003"
            ]
          },
          "metadata": {},
          "execution_count": 27
        }
      ]
    },
    {
      "cell_type": "code",
      "source": [
        "len(colecc)"
      ],
      "metadata": {
        "id": "CgEY6xuXeIRX"
      },
      "execution_count": null,
      "outputs": []
    },
    {
      "cell_type": "code",
      "source": [
        "np.log(len(voc))"
      ],
      "metadata": {
        "id": "ozN8hdxn7oHf"
      },
      "execution_count": null,
      "outputs": []
    },
    {
      "cell_type": "markdown",
      "source": [
        "### <u>TF-IDF </u>\n",
        "Representamos a cada documento con el producto del vector de frecuencia de término por el de frecuencia inversa de documento:"
      ],
      "metadata": {
        "id": "eTKI1UKE2ENf"
      }
    },
    {
      "cell_type": "code",
      "source": [
        "tf = term_frequency(colecc['d5'], voc)\n",
        "tf*S_idf #vector tf-idf"
      ],
      "metadata": {
        "id": "mbuQHwVo2Sq-",
        "colab": {
          "base_uri": "https://localhost:8080/"
        },
        "outputId": "1bc0b76d-24fe-4774-e564-d9aff540b5bb"
      },
      "execution_count": null,
      "outputs": [
        {
          "output_type": "execute_result",
          "data": {
            "text/plain": [
              "necesitan         0.000000\n",
              "traves            0.000000\n",
              "ausencia          1.609438\n",
              "efectos           1.609438\n",
              "defecto           1.609438\n",
              "enumeracion       0.000000\n",
              "digitales         0.000000\n",
              "facilita          0.000000\n",
              "informacion       0.510826\n",
              "medios            0.000000\n",
              "probabilidades    0.000000\n",
              "puntos            0.000000\n",
              "desarrollo        0.000000\n",
              "aplicada          1.609438\n",
              "ejemplos          0.000000\n",
              "habilidades       0.000000\n",
              "cognitivas        0.000000\n",
              "limitan           0.000000\n",
              "puede             0.000000\n",
              "nombres           0.000000\n",
              "varios            0.000000\n",
              "solicitud         1.609438\n",
              "procesamiento     0.000000\n",
              "areas             0.000000\n",
              "otra              1.609438\n",
              "ninos             0.000000\n",
              "usar              0.000000\n",
              "clave             0.000000\n",
              "cambio            0.000000\n",
              "fecha             1.609438\n",
              "estructuras       0.000000\n",
              "actualizacion     0.000000\n",
              "datos             0.000000\n",
              "aumentar          0.000000\n",
              "relacion          0.000000\n",
              "bases             0.000000\n",
              "conocimiento      0.000000\n",
              "posibles          0.000000\n",
              "recuperacion      0.000000\n",
              "dtype: float64"
            ]
          },
          "metadata": {},
          "execution_count": 28
        }
      ]
    },
    {
      "cell_type": "code",
      "source": [
        "# aplicamos la transformación a cada documento\n",
        "W = {}\n",
        "\n",
        "for d in colecc:\n",
        "  W[d] = term_frequency(colecc[d], voc)*S_idf\n",
        "\n",
        "W['d1']  "
      ],
      "metadata": {
        "id": "VU0tnIER2vz1",
        "colab": {
          "base_uri": "https://localhost:8080/"
        },
        "outputId": "9128c736-fb7f-4090-da21-134c102259e3"
      },
      "execution_count": null,
      "outputs": [
        {
          "output_type": "execute_result",
          "data": {
            "text/plain": [
              "necesitan         1.609438\n",
              "traves            0.000000\n",
              "ausencia          0.000000\n",
              "efectos           0.000000\n",
              "defecto           0.000000\n",
              "enumeracion       0.000000\n",
              "digitales         1.609438\n",
              "facilita          0.000000\n",
              "informacion       0.510826\n",
              "medios            1.609438\n",
              "probabilidades    0.000000\n",
              "puntos            0.000000\n",
              "desarrollo        0.000000\n",
              "aplicada          0.000000\n",
              "ejemplos          0.000000\n",
              "habilidades       1.609438\n",
              "cognitivas        0.000000\n",
              "limitan           1.609438\n",
              "puede             0.000000\n",
              "nombres           0.000000\n",
              "varios            0.000000\n",
              "solicitud         0.000000\n",
              "procesamiento     0.000000\n",
              "areas             0.000000\n",
              "otra              0.000000\n",
              "ninos             1.609438\n",
              "usar              0.000000\n",
              "clave             0.000000\n",
              "cambio            0.000000\n",
              "fecha             0.000000\n",
              "estructuras       0.000000\n",
              "actualizacion     0.000000\n",
              "datos             0.000000\n",
              "aumentar          0.000000\n",
              "relacion          1.609438\n",
              "bases             0.000000\n",
              "conocimiento      0.000000\n",
              "posibles          0.000000\n",
              "recuperacion      0.223144\n",
              "dtype: float64"
            ]
          },
          "metadata": {},
          "execution_count": 29
        }
      ]
    },
    {
      "cell_type": "markdown",
      "source": [
        "### <u>Similitud entre *documentos*</u>\n",
        "\n",
        "Evalúamos la similitud entre un par de documentos con el producto punto entre vectores:"
      ],
      "metadata": {
        "id": "cSb1rvfH3ZDo"
      }
    },
    {
      "cell_type": "code",
      "source": [
        "np.dot(W['d4'], W['d5'])"
      ],
      "metadata": {
        "id": "Q0SKRtEe3YTu",
        "colab": {
          "base_uri": "https://localhost:8080/"
        },
        "outputId": "4e3b2ed5-b78c-49df-ecef-499e31ed233b"
      },
      "execution_count": null,
      "outputs": [
        {
          "output_type": "execute_result",
          "data": {
            "text/plain": [
              "0.0"
            ]
          },
          "metadata": {},
          "execution_count": 35
        }
      ]
    },
    {
      "cell_type": "markdown",
      "source": [
        "Similtud entre cada pareja de documentos:"
      ],
      "metadata": {
        "id": "aLB1TUJ1-DP3"
      }
    },
    {
      "cell_type": "code",
      "source": [
        "S = np.zeros((5,5))\n",
        "\n",
        "for i in range(1,6):\n",
        "  for j in range(1,6):\n",
        "    S[i-1, j-1] = np.dot(W['d'+str(i)], W['d'+str(j)])\n",
        "\n",
        "S"
      ],
      "metadata": {
        "id": "9Bqo0SdA9SsK",
        "colab": {
          "base_uri": "https://localhost:8080/"
        },
        "outputId": "bf75e626-f293-4676-b5ca-3a5daff3de4f"
      },
      "execution_count": null,
      "outputs": [
        {
          "output_type": "execute_result",
          "data": {
            "text/plain": [
              "array([[18.44276862,  0.31073586,  0.04979304,  0.04979304,  0.26094282],\n",
              "       [ 0.31073586, 18.44276862,  0.04979304,  0.04979304,  0.26094282],\n",
              "       [ 0.04979304,  0.04979304, 15.59153541,  0.04979304,  0.        ],\n",
              "       [ 0.04979304,  0.04979304,  0.04979304, 25.95269698,  0.        ],\n",
              "       [ 0.26094282,  0.26094282,  0.        ,  0.        , 18.39297558]])"
            ]
          },
          "metadata": {},
          "execution_count": 36
        }
      ]
    },
    {
      "cell_type": "markdown",
      "source": [
        "Visualizamos en un mapa de calor:"
      ],
      "metadata": {
        "id": "WZfKalfV-BGX"
      }
    },
    {
      "cell_type": "code",
      "source": [
        "import matplotlib.pyplot as plt\n",
        "\n",
        "plt.imshow(S, cmap='hot')\n",
        "plt.show()"
      ],
      "metadata": {
        "id": "VCx5JCgO-Agp",
        "colab": {
          "base_uri": "https://localhost:8080/",
          "height": 265
        },
        "outputId": "8bd8d900-23c1-4078-bd52-b4d51b9751cf"
      },
      "execution_count": null,
      "outputs": [
        {
          "output_type": "display_data",
          "data": {
            "text/plain": [
              "<Figure size 432x288 with 1 Axes>"
            ],
            "image/png": "[encoded data removed]"
          },
          "metadata": {
            "needs_background": "light"
          }
        }
      ]
    },
    {
      "cell_type": "markdown",
      "source": [
        "Si ignoramos la diagonal:"
      ],
      "metadata": {
        "id": "iJIOUMaM_hfX"
      }
    },
    {
      "cell_type": "code",
      "source": [
        "plt.imshow(S-np.eye(5)*np.diag(S), cmap='hot')\n",
        "plt.show()"
      ],
      "metadata": {
        "id": "VRUYeKrZ-Z6m",
        "colab": {
          "base_uri": "https://localhost:8080/",
          "height": 265
        },
        "outputId": "cd9be2fe-f434-4838-9a00-e1db4400e9d4"
      },
      "execution_count": null,
      "outputs": [
        {
          "output_type": "display_data",
          "data": {
            "text/plain": [
              "<Figure size 432x288 with 1 Axes>"
            ],
            "image/png": "[encoded data removed]"
          },
          "metadata": {
            "needs_background": "light"
          }
        }
      ]
    },
    {
      "cell_type": "code",
      "source": [
        "S-np.eye(5)*np.diag(S)"
      ],
      "metadata": {
        "id": "TcSN2Qu1-sfo",
        "colab": {
          "base_uri": "https://localhost:8080/"
        },
        "outputId": "11214f1f-8768-458e-f0cf-b4c589f102a5"
      },
      "execution_count": null,
      "outputs": [
        {
          "output_type": "execute_result",
          "data": {
            "text/plain": [
              "array([[0.        , 0.31073586, 0.04979304, 0.04979304, 0.26094282],\n",
              "       [0.31073586, 0.        , 0.04979304, 0.04979304, 0.26094282],\n",
              "       [0.04979304, 0.04979304, 0.        , 0.04979304, 0.        ],\n",
              "       [0.04979304, 0.04979304, 0.04979304, 0.        , 0.        ],\n",
              "       [0.26094282, 0.26094282, 0.        , 0.        , 0.        ]])"
            ]
          },
          "metadata": {},
          "execution_count": 39
        }
      ]
    },
    {
      "cell_type": "markdown",
      "source": [
        "### <u> Consulta </u>"
      ],
      "metadata": {
        "id": "b1MxcwRrAMQ2"
      }
    },
    {
      "cell_type": "code",
      "source": [
        "qry = 'defecto ausencia informacion'\n",
        "\n",
        "tf_idf_qry = term_frequency(qry, voc)*S_idf\n",
        "tf_idf_qry"
      ],
      "metadata": {
        "id": "6KQLBjgkALr4",
        "colab": {
          "base_uri": "https://localhost:8080/"
        },
        "outputId": "53b2b8f6-c164-4886-9ca4-2dfaa5e6998f"
      },
      "execution_count": null,
      "outputs": [
        {
          "output_type": "execute_result",
          "data": {
            "text/plain": [
              "necesitan         0.000000\n",
              "traves            0.000000\n",
              "ausencia          1.609438\n",
              "efectos           0.000000\n",
              "defecto           1.609438\n",
              "enumeracion       0.000000\n",
              "digitales         0.000000\n",
              "facilita          0.000000\n",
              "informacion       0.510826\n",
              "medios            0.000000\n",
              "probabilidades    0.000000\n",
              "puntos            0.000000\n",
              "desarrollo        0.000000\n",
              "aplicada          0.000000\n",
              "ejemplos          0.000000\n",
              "habilidades       0.000000\n",
              "cognitivas        0.000000\n",
              "limitan           0.000000\n",
              "puede             0.000000\n",
              "nombres           0.000000\n",
              "varios            0.000000\n",
              "solicitud         0.000000\n",
              "procesamiento     0.000000\n",
              "areas             0.000000\n",
              "otra              0.000000\n",
              "ninos             0.000000\n",
              "usar              0.000000\n",
              "clave             0.000000\n",
              "cambio            0.000000\n",
              "fecha             0.000000\n",
              "estructuras       0.000000\n",
              "actualizacion     0.000000\n",
              "datos             0.000000\n",
              "aumentar          0.000000\n",
              "relacion          0.000000\n",
              "bases             0.000000\n",
              "conocimiento      0.000000\n",
              "posibles          0.000000\n",
              "recuperacion      0.000000\n",
              "dtype: float64"
            ]
          },
          "metadata": {},
          "execution_count": 40
        }
      ]
    },
    {
      "cell_type": "code",
      "source": [
        "rel = []\n",
        "for i in range(1,6):\n",
        "  sim = np.dot(tf_idf_qry, W['d'+str(i)])\n",
        "  rel.append(sim)\n",
        "\n",
        "pd.Series(rel, index = ['d'+str(i) for i in range(1,6)]).sort_values(ascending=False)"
      ],
      "metadata": {
        "id": "VLPLG3sNBWzV",
        "colab": {
          "base_uri": "https://localhost:8080/"
        },
        "outputId": "cd39bb26-1859-4c9b-9ba5-cd7a484e8604"
      },
      "execution_count": null,
      "outputs": [
        {
          "output_type": "execute_result",
          "data": {
            "text/plain": [
              "d5    5.441524\n",
              "d1    0.260943\n",
              "d2    0.260943\n",
              "d3    0.000000\n",
              "d4    0.000000\n",
              "dtype: float64"
            ]
          },
          "metadata": {},
          "execution_count": 41
        }
      ]
    },
    {
      "cell_type": "code",
      "source": [
        "colecc['d3']"
      ],
      "metadata": {
        "id": "6qR7sN2VfsDf",
        "colab": {
          "base_uri": "https://localhost:8080/",
          "height": 53
        },
        "outputId": "98d58261-ae0a-4cf7-edcd-880529624b6a"
      },
      "execution_count": null,
      "outputs": [
        {
          "output_type": "execute_result",
          "data": {
            "text/plain": [
              "' la enumeracion de varios nombres puede aumentar las probabilidades de recuperacion '"
            ],
            "application/vnd.google.colaboratory.intrinsic+json": {
              "type": "string"
            }
          },
          "metadata": {},
          "execution_count": 43
        }
      ]
    },
    {
      "cell_type": "markdown",
      "metadata": {
        "id": "w9A23GCbX95v"
      },
      "source": [
        "## <font color=\"red\"> Práctica </font>\n",
        "\n",
        "* Forma una colección de documentos **preprocesando** los artículos de la revista *Information Architecture* disponibles en el directorio <u>information_architecture</u>. Nota: utiliza como stopwords las palabras disponibles en el archivo <u>stopwords.txt</u>\n",
        "* Genera una nube de palabras con los términos de la colección formada.\n",
        "* Construye la matriz tf-idf para los documentos de la colección. Puedes usar sklearn: https://scikit-learn.org/stable/modules/generated/sklearn.feature_extraction.text.TfidfVectorizer.html \n",
        "* Investiga el concepto de *similitud coseno*. \n",
        "* Identifica la pareja de artículos que tengan la mayor similitud coseno.\n"
      ]
    },
    {
      "cell_type": "code",
      "execution_count": null,
      "metadata": {
        "id": "cJqk697FX95v"
      },
      "outputs": [],
      "source": []
    },
    {
      "cell_type": "code",
      "execution_count": null,
      "metadata": {
        "collapsed": true,
        "id": "0zKlBlkGX95v"
      },
      "outputs": [],
      "source": []
    },
    {
      "cell_type": "code",
      "execution_count": null,
      "metadata": {
        "id": "m0uNKfL2X95v"
      },
      "outputs": [],
      "source": []
    },
    {
      "cell_type": "code",
      "execution_count": null,
      "metadata": {
        "id": "mmk_ucR9X95v"
      },
      "outputs": [],
      "source": []
    }
  ],
  "metadata": {
    "kernelspec": {
      "display_name": "Python 2",
      "language": "python",
      "name": "python2"
    },
    "language_info": {
      "codemirror_mode": {
        "name": "ipython",
        "version": 2
      },
      "file_extension": ".py",
      "mimetype": "text/x-python",
      "name": "python",
      "nbconvert_exporter": "python",
      "pygments_lexer": "ipython2",
      "version": "2.7.11"
    },
    "colab": {
      "provenance": []
    }
  },
  "nbformat": 4,
  "nbformat_minor": 0
}